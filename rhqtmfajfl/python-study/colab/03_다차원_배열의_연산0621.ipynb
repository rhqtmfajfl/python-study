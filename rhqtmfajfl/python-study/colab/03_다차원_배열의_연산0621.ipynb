{
  "nbformat": 4,
  "nbformat_minor": 0,
  "metadata": {
    "colab": {
      "name": "03. 다차원 배열의 연산0621.ipynb",
      "provenance": [],
      "collapsed_sections": [],
      "authorship_tag": "ABX9TyN/Y49YvLX2NW6e9dITbPq1",
      "include_colab_link": true
    },
    "kernelspec": {
      "name": "python3",
      "display_name": "Python 3"
    },
    "language_info": {
      "name": "python"
    }
  },
  "cells": [
    {
      "cell_type": "markdown",
      "metadata": {
        "id": "view-in-github",
        "colab_type": "text"
      },
      "source": [
        "<a href=\"https://colab.research.google.com/github/rhqtmfajfl/python-study/blob/master/rhqtmfajfl/python-study/colab/03_%EB%8B%A4%EC%B0%A8%EC%9B%90_%EB%B0%B0%EC%97%B4%EC%9D%98_%EC%97%B0%EC%82%B00621.ipynb\" target=\"_parent\"><img src=\"https://colab.research.google.com/assets/colab-badge.svg\" alt=\"Open In Colab\"/></a>"
      ]
    },
    {
      "cell_type": "code",
      "metadata": {
        "id": "7JX3Vb8TKWHL"
      },
      "source": [
        "import numpy as np"
      ],
      "execution_count": null,
      "outputs": []
    },
    {
      "cell_type": "markdown",
      "metadata": {
        "id": "is19rN2LKb2w"
      },
      "source": [
        "# 배열의 정보 확인"
      ]
    },
    {
      "cell_type": "code",
      "metadata": {
        "colab": {
          "base_uri": "https://localhost:8080/"
        },
        "id": "ZjQGM_unKdqy",
        "outputId": "e6ee0ff0-4110-49ea-8c04-cc6f4e51b429"
      },
      "source": [
        "A = np.array([1,2,3,4])\n",
        "\n",
        "print(A.ndim)\n",
        "print(A.shape) #하나씩만 있어야 하는 데이터 편향과 출력 밖에 없다.\n",
        "\n",
        "\n"
      ],
      "execution_count": null,
      "outputs": [
        {
          "output_type": "stream",
          "text": [
            "1\n",
            "(4,)\n"
          ],
          "name": "stdout"
        }
      ]
    },
    {
      "cell_type": "code",
      "metadata": {
        "colab": {
          "base_uri": "https://localhost:8080/"
        },
        "id": "-aOMG7TYKuKm",
        "outputId": "c30d27cf-9686-42ff-9567-8fd496bd7804"
      },
      "source": [
        "B = np.array([[1,2],\n",
        "              [3,4],\n",
        "              [5,6]])\n",
        "\n",
        "print(B.ndim) #2차원이 나온다.\n",
        "print(B.shape)"
      ],
      "execution_count": null,
      "outputs": [
        {
          "output_type": "stream",
          "text": [
            "2\n",
            "(3, 2)\n"
          ],
          "name": "stdout"
        }
      ]
    },
    {
      "cell_type": "markdown",
      "metadata": {
        "id": "sQnY3t0uLLDO"
      },
      "source": [
        "# 행렬의 내적"
      ]
    },
    {
      "cell_type": "markdown",
      "metadata": {
        "id": "kjNMgs_LLYrq"
      },
      "source": [
        "2차원 배열인 행렬의 내적을 구하는 방법\n",
        "\n",
        "$$\n",
        "\\begin{pmatrix}\n",
        "a & b \\\\\n",
        "c & d \\\\\n",
        "\\end{pmatrix}\n",
        "\\times\n",
        "\\begin{pmatrix} \n",
        "p & q \\\\\n",
        "r & s \\\\\n",
        "\\end{pmatrix}\n",
        "= \\begin{pmatrix} \n",
        "ap+br & aq+bs \\\\\n",
        "cp+dr & cq+ds \\\\\n",
        "\\end{pmatrix}\n",
        "$$"
      ]
    },
    {
      "cell_type": "markdown",
      "metadata": {
        "id": "ZPGxoEUuLZyU"
      },
      "source": [
        "행렬의 내적은 \n",
        "* 왼쪽 행렬의 행(가로)과 오른쪽 행렬의열(세로)을 원소 별로 곱하고 그 값들을 더한다.\n",
        "\n",
        "* 계산의 결과가 새로운 다차원 배열의 원소가 된다.\n",
        "*행렬은 보통 대문자로 표기하는 것이 관례"
      ]
    },
    {
      "cell_type": "code",
      "metadata": {
        "colab": {
          "base_uri": "https://localhost:8080/"
        },
        "id": "zj_Z3I3xMECf",
        "outputId": "9bf5c182-2b9d-4ed9-bc98-c9db73e8120b"
      },
      "source": [
        "A =np.array([[1,2],\n",
        "             [3,4]])\n",
        "\n",
        "B = np.array([[5,6],\n",
        "              [7,8]])\n",
        "\n",
        "print('A.shape : {}'.format(A.shape)) # 행과 열을 나타냄\n",
        "print('B.shape : {}'.format(B.shape))"
      ],
      "execution_count": null,
      "outputs": [
        {
          "output_type": "stream",
          "text": [
            "A.shape : (2, 2)\n",
            "B.shape : (2, 2)\n"
          ],
          "name": "stdout"
        }
      ]
    },
    {
      "cell_type": "code",
      "metadata": {
        "id": "RvBjZ44wMEGG"
      },
      "source": [
        "## A와 B의 행렬의 열과 행부분이 같으면 내적이 된다. \n",
        "\n"
      ],
      "execution_count": null,
      "outputs": []
    },
    {
      "cell_type": "code",
      "metadata": {
        "colab": {
          "base_uri": "https://localhost:8080/"
        },
        "id": "54UWVuwfMEJ6",
        "outputId": "11fa4744-de2b-4a1c-e3f0-d4cbc4c4675f"
      },
      "source": [
        "print(np.dot(A,B))\n",
        "print()\n",
        "print(A @ B)"
      ],
      "execution_count": null,
      "outputs": [
        {
          "output_type": "stream",
          "text": [
            "[[19 22]\n",
            " [43 50]]\n",
            "\n",
            "[[19 22]\n",
            " [43 50]]\n"
          ],
          "name": "stdout"
        }
      ]
    },
    {
      "cell_type": "markdown",
      "metadata": {
        "id": "QvDkDkLuMENM"
      },
      "source": [
        "### 행렬 내적의 특징\n",
        "\n",
        "* 교환 법칙이 성립되지 않는다.\n",
        "\n",
        "$$\n",
        "A \\cdot B \\ne B \\cdot A\n",
        "$$"
      ]
    },
    {
      "cell_type": "code",
      "metadata": {
        "id": "wlhD6cbGMET9"
      },
      "source": [
        "B @ A"
      ],
      "execution_count": null,
      "outputs": []
    },
    {
      "cell_type": "markdown",
      "metadata": {
        "id": "EuAC-pVOMEXj"
      },
      "source": [
        "# 행과 열의 개수가 다른 상태에서의 행렬 내적\n",
        "첫 번째 행렬의 첫 번째 차원의 원소 수(열의 수) 와 두  번째 행렬의 0번째 차원의 원소수(행의 수)가 일치해야 한다."
      ]
    },
    {
      "cell_type": "code",
      "metadata": {
        "colab": {
          "base_uri": "https://localhost:8080/"
        },
        "id": "0EBPJGkNMEea",
        "outputId": "da7bcc63-399f-452f-b82b-fea2ab2a6b04"
      },
      "source": [
        "A = np.arange(1, 7).reshape(2,3)\n",
        "B = np.arange(1,7).reshape(3,2)\n",
        "\n",
        "print(A.shape)\n",
        "print(B.shape)"
      ],
      "execution_count": null,
      "outputs": [
        {
          "output_type": "stream",
          "text": [
            "(2, 3)\n",
            "(3, 2)\n"
          ],
          "name": "stdout"
        }
      ]
    },
    {
      "cell_type": "code",
      "metadata": {
        "colab": {
          "base_uri": "https://localhost:8080/"
        },
        "id": "rpFjfnOJOpRy",
        "outputId": "9282ab13-d2f3-4972-9faa-a03f29651ab5"
      },
      "source": [
        "A @ B"
      ],
      "execution_count": null,
      "outputs": [
        {
          "output_type": "execute_result",
          "data": {
            "text/plain": [
              "array([[22, 28],\n",
              "       [49, 64]])"
            ]
          },
          "metadata": {
            "tags": []
          },
          "execution_count": 9
        }
      ]
    },
    {
      "cell_type": "code",
      "metadata": {
        "colab": {
          "base_uri": "https://localhost:8080/"
        },
        "id": "OBqh0b27OpVk",
        "outputId": "ab134ff2-f70c-4602-cb11-19f6fc690cf7"
      },
      "source": [
        "B @ A"
      ],
      "execution_count": null,
      "outputs": [
        {
          "output_type": "execute_result",
          "data": {
            "text/plain": [
              "array([[ 9, 12, 15],\n",
              "       [19, 26, 33],\n",
              "       [29, 40, 51]])"
            ]
          },
          "metadata": {
            "tags": []
          },
          "execution_count": 10
        }
      ]
    },
    {
      "cell_type": "code",
      "metadata": {
        "id": "cU4fBGymOpZf"
      },
      "source": [
        ""
      ],
      "execution_count": null,
      "outputs": []
    },
    {
      "cell_type": "markdown",
      "metadata": {
        "id": "EJVdXbp-Opdd"
      },
      "source": [
        "# 차원수가 달라도 계산은 가능하다.\n",
        "\n",
        "하지만 계산하려는 행렬들에서 첫번째 행렬의 열과 두번째 행렬의 행의 수가 같아야 한다."
      ]
    },
    {
      "cell_type": "code",
      "metadata": {
        "colab": {
          "base_uri": "https://localhost:8080/"
        },
        "id": "n7MNcVdBOpg_",
        "outputId": "37aec503-9ec2-4e90-cfe7-80367395b001"
      },
      "source": [
        "A = A.reshape(3,2)\n",
        "B = np.array([7,8]) # \n",
        "\n",
        "#(7\n",
        "# 8) 이런 형식으로 된다.\n",
        "\n",
        "print(A.shape)\n",
        "print(B.shape)\n",
        "\n",
        "# @ 와 dot 은 같은 의미 이다.\n"
      ],
      "execution_count": null,
      "outputs": [
        {
          "output_type": "stream",
          "text": [
            "(3, 2)\n",
            "(2,)\n"
          ],
          "name": "stdout"
        }
      ]
    },
    {
      "cell_type": "code",
      "metadata": {
        "id": "AEeysX1COpkS"
      },
      "source": [
        ""
      ],
      "execution_count": null,
      "outputs": []
    },
    {
      "cell_type": "code",
      "metadata": {
        "id": "4DYvbmhVOpni"
      },
      "source": [
        ""
      ],
      "execution_count": null,
      "outputs": []
    },
    {
      "cell_type": "code",
      "metadata": {
        "id": "hgoptC6uOprI"
      },
      "source": [
        ""
      ],
      "execution_count": null,
      "outputs": []
    },
    {
      "cell_type": "code",
      "metadata": {
        "id": "RH9vGyEoOpuc"
      },
      "source": [
        ""
      ],
      "execution_count": null,
      "outputs": []
    },
    {
      "cell_type": "code",
      "metadata": {
        "id": "Fovqjfa6Opxy"
      },
      "source": [
        ""
      ],
      "execution_count": null,
      "outputs": []
    },
    {
      "cell_type": "code",
      "metadata": {
        "id": "-yUicxwLOp0u"
      },
      "source": [
        ""
      ],
      "execution_count": null,
      "outputs": []
    },
    {
      "cell_type": "code",
      "metadata": {
        "id": "aBK_VgBmOp4l"
      },
      "source": [
        ""
      ],
      "execution_count": null,
      "outputs": []
    },
    {
      "cell_type": "code",
      "metadata": {
        "id": "pc5ZGITjOp8H"
      },
      "source": [
        ""
      ],
      "execution_count": null,
      "outputs": []
    },
    {
      "cell_type": "code",
      "metadata": {
        "id": "76cUc3KnOqAG"
      },
      "source": [
        ""
      ],
      "execution_count": null,
      "outputs": []
    },
    {
      "cell_type": "code",
      "metadata": {
        "id": "mTklPnOaOqDF"
      },
      "source": [
        ""
      ],
      "execution_count": null,
      "outputs": []
    },
    {
      "cell_type": "code",
      "metadata": {
        "id": "-VMUbnPxOqGn"
      },
      "source": [
        ""
      ],
      "execution_count": null,
      "outputs": []
    },
    {
      "cell_type": "code",
      "metadata": {
        "id": "1HLrlnVuOqKi"
      },
      "source": [
        ""
      ],
      "execution_count": null,
      "outputs": []
    },
    {
      "cell_type": "code",
      "metadata": {
        "id": "_eg6vHNNOqPf"
      },
      "source": [
        ""
      ],
      "execution_count": null,
      "outputs": []
    }
  ]
}