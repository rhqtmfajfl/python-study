{
  "nbformat": 4,
  "nbformat_minor": 0,
  "metadata": {
    "colab": {
      "name": "3.데이터 스케일링.ipynb",
      "provenance": [],
      "authorship_tag": "ABX9TyNVLVftPNLSwDaT6zZ4Gx64",
      "include_colab_link": true
    },
    "kernelspec": {
      "name": "python3",
      "display_name": "Python 3"
    },
    "language_info": {
      "name": "python"
    }
  },
  "cells": [
    {
      "cell_type": "markdown",
      "metadata": {
        "id": "view-in-github",
        "colab_type": "text"
      },
      "source": [
        "<a href=\"https://colab.research.google.com/github/rhqtmfajfl/python-study/blob/master/rhqtmfajfl/python-study/colab/3_%EB%8D%B0%EC%9D%B4%ED%84%B0_%EC%8A%A4%EC%BC%80%EC%9D%BC%EB%A7%81.ipynb\" target=\"_parent\"><img src=\"https://colab.research.google.com/assets/colab-badge.svg\" alt=\"Open In Colab\"/></a>"
      ]
    },
    {
      "cell_type": "markdown",
      "metadata": {
        "id": "LBCZIcrInFvo"
      },
      "source": [
        "### 스케일링도 데이터의 전처리에 해당한다."
      ]
    },
    {
      "cell_type": "markdown",
      "metadata": {
        "id": "5XEkWs32nLmg"
      },
      "source": [
        "## 전처리 1. Normalize(정규화)\n",
        "\n",
        "column 간에 다른 min max 값을 가지는 경우, 정규화를 통해서 최대/ 최소의 척도를 하나로 맞춰 주는 잡업\n",
        "\n",
        "* 최소를 0으로, 최대를 1로 설정\n",
        "\n",
        "-----------\n",
        "\n",
        "* 네이버 영화 평점(0~10) : [2,4,6,8,10]\n",
        "\n",
        "* 넷플릭스 영화 평점 (0 ~ 5): [1,2,3,4,5]"
      ]
    },
    {
      "cell_type": "code",
      "metadata": {
        "colab": {
          "base_uri": "https://localhost:8080/",
          "height": 203
        },
        "id": "Zv_L3IRMoCty",
        "outputId": "297e0e20-61a2-4fa2-a42b-a727380ecf11"
      },
      "source": [
        "import pandas as pd\n",
        "movie_score = pd.DataFrame({\n",
        "    \"naver\":[2, 4, 6, 8, 100],\n",
        "    \"netflix\":[1, 2, 3, 4, 5]\n",
        "})\n",
        "\n",
        "movie_score"
      ],
      "execution_count": 5,
      "outputs": [
        {
          "output_type": "execute_result",
          "data": {
            "text/html": [
              "<div>\n",
              "<style scoped>\n",
              "    .dataframe tbody tr th:only-of-type {\n",
              "        vertical-align: middle;\n",
              "    }\n",
              "\n",
              "    .dataframe tbody tr th {\n",
              "        vertical-align: top;\n",
              "    }\n",
              "\n",
              "    .dataframe thead th {\n",
              "        text-align: right;\n",
              "    }\n",
              "</style>\n",
              "<table border=\"1\" class=\"dataframe\">\n",
              "  <thead>\n",
              "    <tr style=\"text-align: right;\">\n",
              "      <th></th>\n",
              "      <th>naver</th>\n",
              "      <th>netflix</th>\n",
              "    </tr>\n",
              "  </thead>\n",
              "  <tbody>\n",
              "    <tr>\n",
              "      <th>0</th>\n",
              "      <td>2</td>\n",
              "      <td>1</td>\n",
              "    </tr>\n",
              "    <tr>\n",
              "      <th>1</th>\n",
              "      <td>4</td>\n",
              "      <td>2</td>\n",
              "    </tr>\n",
              "    <tr>\n",
              "      <th>2</th>\n",
              "      <td>6</td>\n",
              "      <td>3</td>\n",
              "    </tr>\n",
              "    <tr>\n",
              "      <th>3</th>\n",
              "      <td>8</td>\n",
              "      <td>4</td>\n",
              "    </tr>\n",
              "    <tr>\n",
              "      <th>4</th>\n",
              "      <td>100</td>\n",
              "      <td>5</td>\n",
              "    </tr>\n",
              "  </tbody>\n",
              "</table>\n",
              "</div>"
            ],
            "text/plain": [
              "   naver  netflix\n",
              "0      2        1\n",
              "1      4        2\n",
              "2      6        3\n",
              "3      8        4\n",
              "4    100        5"
            ]
          },
          "metadata": {
            "tags": []
          },
          "execution_count": 5
        }
      ]
    },
    {
      "cell_type": "code",
      "metadata": {
        "colab": {
          "base_uri": "https://localhost:8080/",
          "height": 203
        },
        "id": "BdgsailToNsu",
        "outputId": "833e1367-8a04-49bb-9be8-85fb4de0e1f3"
      },
      "source": [
        "from sklearn.preprocessing import MinMaxScaler\n",
        "min_max_scaler = MinMaxScaler() #scale은 리스트에 들어 있는 값들을 0에서 1사이의 값사이의 값중 맞는 비율만큼으로 만든다.\n",
        "\n",
        "movie_score_scaled = min_max_scaler.fit_transform(movie_score)\n",
        "\n",
        "pd.DataFrame(movie_score_scaled, columns=['Naver Scaled', 'Netflix Scaled'])"
      ],
      "execution_count": 6,
      "outputs": [
        {
          "output_type": "execute_result",
          "data": {
            "text/html": [
              "<div>\n",
              "<style scoped>\n",
              "    .dataframe tbody tr th:only-of-type {\n",
              "        vertical-align: middle;\n",
              "    }\n",
              "\n",
              "    .dataframe tbody tr th {\n",
              "        vertical-align: top;\n",
              "    }\n",
              "\n",
              "    .dataframe thead th {\n",
              "        text-align: right;\n",
              "    }\n",
              "</style>\n",
              "<table border=\"1\" class=\"dataframe\">\n",
              "  <thead>\n",
              "    <tr style=\"text-align: right;\">\n",
              "      <th></th>\n",
              "      <th>Naver Scaled</th>\n",
              "      <th>Netflix Scaled</th>\n",
              "    </tr>\n",
              "  </thead>\n",
              "  <tbody>\n",
              "    <tr>\n",
              "      <th>0</th>\n",
              "      <td>0.000000</td>\n",
              "      <td>0.00</td>\n",
              "    </tr>\n",
              "    <tr>\n",
              "      <th>1</th>\n",
              "      <td>0.020408</td>\n",
              "      <td>0.25</td>\n",
              "    </tr>\n",
              "    <tr>\n",
              "      <th>2</th>\n",
              "      <td>0.040816</td>\n",
              "      <td>0.50</td>\n",
              "    </tr>\n",
              "    <tr>\n",
              "      <th>3</th>\n",
              "      <td>0.061224</td>\n",
              "      <td>0.75</td>\n",
              "    </tr>\n",
              "    <tr>\n",
              "      <th>4</th>\n",
              "      <td>1.000000</td>\n",
              "      <td>1.00</td>\n",
              "    </tr>\n",
              "  </tbody>\n",
              "</table>\n",
              "</div>"
            ],
            "text/plain": [
              "   Naver Scaled  Netflix Scaled\n",
              "0      0.000000            0.00\n",
              "1      0.020408            0.25\n",
              "2      0.040816            0.50\n",
              "3      0.061224            0.75\n",
              "4      1.000000            1.00"
            ]
          },
          "metadata": {
            "tags": []
          },
          "execution_count": 6
        }
      ]
    },
    {
      "cell_type": "markdown",
      "metadata": {
        "id": "y8fcfR1Eo9Dz"
      },
      "source": [
        "머신러닝에서는 이제 Naver. Netflix 의 점수를 동일하게 가치를 매긴다"
      ]
    },
    {
      "cell_type": "markdown",
      "metadata": {
        "id": "a7TwmkIbpILD"
      },
      "source": [
        "## 표준화(Standard Scaling)\n",
        "평균이 0, 표준편차가 1이 되도록 변환\n"
      ]
    },
    {
      "cell_type": "code",
      "metadata": {
        "id": "ZOR-t-1lsNG7"
      },
      "source": [
        "from sklearn.preprocessing import StandardScaler"
      ],
      "execution_count": 8,
      "outputs": []
    },
    {
      "cell_type": "markdown",
      "metadata": {
        "id": "zQeas26ftDNv"
      },
      "source": [
        "이상치 데이터 보정에 좋다 (밑에 있는 식)"
      ]
    },
    {
      "cell_type": "code",
      "metadata": {
        "id": "vUvOxI07sWuZ"
      },
      "source": [
        "std_scaler = StandardScaler()"
      ],
      "execution_count": 9,
      "outputs": []
    },
    {
      "cell_type": "code",
      "metadata": {
        "id": "3Yuqi-_atIMl"
      },
      "source": [
        "import numpy as np\n",
        "x = np.arange(10)\n",
        "# 이상치 강제 추가\n",
        "x[9] = 1000"
      ],
      "execution_count": 10,
      "outputs": []
    },
    {
      "cell_type": "code",
      "metadata": {
        "colab": {
          "base_uri": "https://localhost:8080/"
        },
        "id": "Cue2Sel7tc9i",
        "outputId": "c49d112f-6fac-4979-86f9-2e01b2307b29"
      },
      "source": [
        "x.mean(), x.std()"
      ],
      "execution_count": 11,
      "outputs": [
        {
          "output_type": "execute_result",
          "data": {
            "text/plain": [
              "(103.6, 298.8100399919654)"
            ]
          },
          "metadata": {
            "tags": []
          },
          "execution_count": 11
        }
      ]
    },
    {
      "cell_type": "code",
      "metadata": {
        "id": "EXqJ6usjtfZ5"
      },
      "source": [
        "std_scaled_x = std_scaler.fit_transform(x.reshape(-1,1))"
      ],
      "execution_count": 12,
      "outputs": []
    },
    {
      "cell_type": "code",
      "metadata": {
        "colab": {
          "base_uri": "https://localhost:8080/"
        },
        "id": "qGZu-yX4tw95",
        "outputId": "91815248-c5ab-4acd-8754-050b9f3945e1"
      },
      "source": [
        "std_scaled_x.mean(), std_scaled_x.std()  # mean 평균, std 표준편차"
      ],
      "execution_count": 13,
      "outputs": [
        {
          "output_type": "execute_result",
          "data": {
            "text/plain": [
              "(4.4408920985006264e-17, 1.0)"
            ]
          },
          "metadata": {
            "tags": []
          },
          "execution_count": 13
        }
      ]
    },
    {
      "cell_type": "code",
      "metadata": {
        "colab": {
          "base_uri": "https://localhost:8080/"
        },
        "id": "X6LKWScmt2Nm",
        "outputId": "de318a99-9259-46dd-873f-f8bcb2471a3e"
      },
      "source": [
        "std_scaled_x"
      ],
      "execution_count": 15,
      "outputs": [
        {
          "output_type": "execute_result",
          "data": {
            "text/plain": [
              "array([[-0.34670856],\n",
              "       [-0.34336196],\n",
              "       [-0.34001535],\n",
              "       [-0.33666874],\n",
              "       [-0.33332213],\n",
              "       [-0.32997553],\n",
              "       [-0.32662892],\n",
              "       [-0.32328231],\n",
              "       [-0.3199357 ],\n",
              "       [ 2.9998992 ]])"
            ]
          },
          "metadata": {
            "tags": []
          },
          "execution_count": 15
        }
      ]
    },
    {
      "cell_type": "code",
      "metadata": {
        "id": "OQV45ZmzuMfI"
      },
      "source": [
        ""
      ],
      "execution_count": null,
      "outputs": []
    }
  ]
}