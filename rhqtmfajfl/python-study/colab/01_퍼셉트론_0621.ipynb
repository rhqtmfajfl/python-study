{
  "nbformat": 4,
  "nbformat_minor": 0,
  "metadata": {
    "colab": {
      "name": "01.퍼셉트론 0621.ipynb",
      "provenance": [],
      "toc_visible": true,
      "authorship_tag": "ABX9TyNBe9rcY2reCpaclEFNScIt",
      "include_colab_link": true
    },
    "kernelspec": {
      "name": "python3",
      "display_name": "Python 3"
    },
    "language_info": {
      "name": "python"
    }
  },
  "cells": [
    {
      "cell_type": "markdown",
      "metadata": {
        "id": "view-in-github",
        "colab_type": "text"
      },
      "source": [
        "<a href=\"https://colab.research.google.com/github/rhqtmfajfl/python-study/blob/master/rhqtmfajfl/python-study/colab/01_%ED%8D%BC%EC%85%89%ED%8A%B8%EB%A1%A0_0621.ipynb\" target=\"_parent\"><img src=\"https://colab.research.google.com/assets/colab-badge.svg\" alt=\"Open In Colab\"/></a>"
      ]
    },
    {
      "cell_type": "code",
      "metadata": {
        "id": "coaFoVbo-Zir"
      },
      "source": [
        "import matplotlib.pyplot as plt\n",
        "import numpy as np"
      ],
      "execution_count": null,
      "outputs": []
    },
    {
      "cell_type": "markdown",
      "metadata": {
        "id": "dL0wRRAd-hu4"
      },
      "source": [
        "# 퍼셉트론이란?\n",
        "* 입력된 다수에 데이터에 대해 어떠한 처리( 가중치 $w$ )를 곱해서 출력 하나($y$)를 내는 것\n",
        "\n",
        "$$\n",
        "y = \\begin{cases} \n",
        "0 \\enspace (w_1x_1 + w_2x_2 \\leq \\theta)\n",
        "\\\\ 1 \\enspace (w_1x_1 + w_2x_2 > \\theta) \\end{cases}\n",
        "$$\n",
        "\n",
        "위 수식을 반응 조건 계산식이라고 한다."
      ]
    },
    {
      "cell_type": "markdown",
      "metadata": {
        "id": "OZ6yqb-6-sgQ"
      },
      "source": [
        ""
      ]
    },
    {
      "cell_type": "code",
      "metadata": {
        "colab": {
          "base_uri": "https://localhost:8080/",
          "height": 284
        },
        "id": "ghRlotd8APWt",
        "outputId": "d7d4db72-e72d-41fd-b446-8e67b88c68ca"
      },
      "source": [
        "# func : 퍼셉트론\n",
        "def func(x1, x2):\n",
        "  # 임의의 가중치인 w1, w2를 지정\n",
        "  # 임의의 임계값인 theta를 지정\n",
        "  w1, w2, theta = 0.5, 0.5, 2\n",
        "  y = w1*x1 + w2*x2\n",
        "\n",
        "  return y, y >= theta\n",
        "\n",
        "# 입력 데이터 생성\n",
        "x1 = np.linspace(-3, 7, 100)\n",
        "x2 = np.linspace(-3, 7, 100)\n",
        "\n",
        "# 퍼셉트론의 결과물 구하기\n",
        "y_value, y_result = func(x1, x2)\n",
        "\n",
        "# 시각화\n",
        "plt.plot(y_value, y_result)\n",
        "plt.yticks([0, 1])\n",
        "plt.xticks([-3,2,7], [r'-$\\infty$', r'$\\theta$', r'-$\\infty$'])\n",
        "plt.xlabel(r\"$w_1x_1+w_2x_2$\")\n",
        "plt.ylabel(\"y\", rotation=0)\n",
        "plt.show()"
      ],
      "execution_count": null,
      "outputs": [
        {
          "output_type": "display_data",
          "data": {
            "image/png": "[encoded data removed]",
            "text/plain": [
              "<Figure size 432x288 with 1 Axes>"
            ]
          },
          "metadata": {
            "tags": [],
            "needs_background": "light"
          }
        }
      ]
    },
    {
      "cell_type": "markdown",
      "metadata": {
        "id": "jY6izdyXARfn"
      },
      "source": [
        "# AND 게이트 구현하기\n",
        "\n",
        "* 입력값 $x_1$, $x_2$가 둘 다 1 일 때면 결과물 $y$가 1"
      ]
    },
    {
      "cell_type": "code",
      "metadata": {
        "id": "cYVvQkgQ_tzL"
      },
      "source": [
        "#w1x1 + w2x2 > theta 만 검사"
      ],
      "execution_count": null,
      "outputs": []
    },
    {
      "cell_type": "code",
      "metadata": {
        "id": "yDirV_-W_zSl"
      },
      "source": [
        "def AND(x1, x2): # AND 게이트 퍼세트론\n",
        "  # x1, x2에 대해서 조건 검사(if)를 하는 것은 퍼셉트론이 아니다.\n",
        "  # w1x1 + w2x2 > theta 만 검사\n",
        " w1, w2, theta = 0.5, 0.5, 0.7# 다음과 같을 때 AND 를 만족\n",
        "\n",
        " tmp = w1*x1 + w2*x2\n",
        "\n",
        " if tmp > theta:\n",
        "   return 1\n",
        " else:\n",
        "   return 0\n",
        "2"
      ],
      "execution_count": null,
      "outputs": []
    },
    {
      "cell_type": "code",
      "metadata": {
        "colab": {
          "base_uri": "https://localhost:8080/"
        },
        "id": "c0YM6BJgAdW_",
        "outputId": "264fdba2-9f6c-4d4a-db0e-dfa4052ce569"
      },
      "source": [
        "AND(0,0),AND(1,0),AND(0,1),AND(1,1)"
      ],
      "execution_count": null,
      "outputs": [
        {
          "output_type": "execute_result",
          "data": {
            "text/plain": [
              "(0, 1, 0, 1)"
            ]
          },
          "metadata": {
            "tags": []
          },
          "execution_count": 19
        }
      ]
    },
    {
      "cell_type": "code",
      "metadata": {
        "id": "9O_AhtqIAofD"
      },
      "source": [
        ""
      ],
      "execution_count": null,
      "outputs": []
    },
    {
      "cell_type": "code",
      "metadata": {
        "id": "xXE-763uCBSE"
      },
      "source": [
        ""
      ],
      "execution_count": null,
      "outputs": []
    },
    {
      "cell_type": "markdown",
      "metadata": {
        "id": "mgpIc4yCCBUf"
      },
      "source": [
        "# AND 게이트 구현하기 2\n",
        "$\\theta$를 넘냐, 못넘냐에 대한 문제에서 0을 넘냐 못 넘냐가 됐음"
      ]
    },
    {
      "cell_type": "code",
      "metadata": {
        "colab": {
          "base_uri": "https://localhost:8080/"
        },
        "id": "QCuIDseNCBZM",
        "outputId": "91087c75-9efd-4df8-a4ce-3211b66e9bf4"
      },
      "source": [
        "def AND(x1,x2):\n",
        "  w1, w2, theta = 0.5,0.5,0.7\n",
        "  z = w1*x1 + w2*x2 - theta #w1x1+w2x2−θ≤0이 식에서 w1x1+w2x2+b≤0 이식으로 변경\n",
        "\n",
        "  return int(z>0) # z가 0을 넘냐 못넘냐가 됨\n",
        "\n",
        "AND(0,0),AND(1,0),AND(0,1),AND(1,1)"
      ],
      "execution_count": null,
      "outputs": [
        {
          "output_type": "execute_result",
          "data": {
            "text/plain": [
              "(0, 0, 0, 1)"
            ]
          },
          "metadata": {
            "tags": []
          },
          "execution_count": 16
        }
      ]
    },
    {
      "cell_type": "markdown",
      "metadata": {
        "id": "MD9gUyT6CBbs"
      },
      "source": [
        "* $\n",
        "y = \\begin{cases} \n",
        "0 \\enspace (w_1x_1 + w_2x_2 -\\theta \\leq 0)\n",
        "\\\\ 1 \\enspace (w_1x_1 + w_2x_2 -\\theta > 0) \\end{cases}\n",
        "$\n",
        "\n",
        "  * $-\\theta$를 $b$로 변경한다.( $\\theta$ = $-b$)\n",
        "\n",
        "* $\n",
        "y = \\begin{cases} \n",
        "0 \\enspace (w_1x_1 + w_2x_2 +b \\leq 0)\n",
        "\\\\ 1 \\enspace (w_1x_1 + w_2x_2 +b > 0) \\end{cases}\n",
        "$\n",
        "\n",
        "* $z = w_1x_1 + w_2x_2 +b$\n",
        "\n",
        "* $\n",
        "y = \\begin{cases} \n",
        "0 \\enspace (z \\leq 0)\n",
        "\\\\ 1 \\enspace (z > 0) \\end{cases}\n",
        "$\n",
        "\n",
        "* $\n",
        "u(z) = \\begin{cases} \n",
        "0 \\enspace (z \\leq 0)\n",
        "\\\\ 1 \\enspace (z > 0) \\end{cases}\n",
        "$\n",
        "\n",
        "* $y=u(z)$"
      ]
    },
    {
      "cell_type": "code",
      "metadata": {
        "id": "AXgMvXCIGyZv"
      },
      "source": [
        "#"
      ],
      "execution_count": null,
      "outputs": []
    },
    {
      "cell_type": "code",
      "metadata": {
        "id": "WlnaOWCeCBek"
      },
      "source": [
        "#-세타를 b로 변경한다. 세타를 -b로 차환"
      ],
      "execution_count": null,
      "outputs": []
    },
    {
      "cell_type": "code",
      "metadata": {
        "id": "bua8JEBTG3xW"
      },
      "source": [
        "#y가 ㅠ가 0보다 작으면 0보다 크면"
      ],
      "execution_count": null,
      "outputs": []
    },
    {
      "cell_type": "code",
      "metadata": {
        "id": "8CZkkfkMHAY3"
      },
      "source": [
        "#ㅋ에 대해 기억"
      ],
      "execution_count": null,
      "outputs": []
    },
    {
      "cell_type": "code",
      "metadata": {
        "id": "gT1idkcjHGS8"
      },
      "source": [
        "#y는 머가 나온다."
      ],
      "execution_count": null,
      "outputs": []
    },
    {
      "cell_type": "code",
      "metadata": {
        "id": "wae6la1qHIlJ"
      },
      "source": [
        "#y를 uz와 같다."
      ],
      "execution_count": null,
      "outputs": []
    },
    {
      "cell_type": "code",
      "metadata": {
        "id": "B2jDNBA5CBhl"
      },
      "source": [
        "#결과물 y에서 z가 0을 넘냐 못 넘느냐 z가 함수를 지났더니 1이 되거나 0이 된다.\n",
        "#함수를 u라고 한다.\n",
        "\n",
        "# 함수의 모양이 계단의 모양을 띈다. 계단의 크기가 일정하다.\n",
        "#함수 u를 단위 계단 함수라고 한다.\n",
        "#\n",
        "#u의 결과물은 0과 1이 된다. 0과 1사이의 값이 아니다."
      ],
      "execution_count": null,
      "outputs": []
    },
    {
      "cell_type": "code",
      "metadata": {
        "id": "cKwYwN3oHpIV"
      },
      "source": [
        "#위에 계산은 한개의 입력이 있을 때이다."
      ],
      "execution_count": null,
      "outputs": []
    },
    {
      "cell_type": "code",
      "metadata": {
        "id": "8BE4jzdXHpMk"
      },
      "source": [
        ""
      ],
      "execution_count": null,
      "outputs": []
    },
    {
      "cell_type": "markdown",
      "metadata": {
        "id": "mdNwbh3hHpQL"
      },
      "source": [
        "## 여러개의 입력이 있다고 , 가정한다면??"
      ]
    },
    {
      "cell_type": "code",
      "metadata": {
        "colab": {
          "base_uri": "https://localhost:8080/"
        },
        "id": "Tm4nXCUfHpTw",
        "outputId": "7dff5fe0-3546-4fb1-921e-d9f09cab70aa"
      },
      "source": [
        "x = np.array([0,1])\n",
        "w = np.array([0.5,0.5])\n",
        "b= -0.7 # theta가 0.7이 었으니까 biass는 -0.7이 된다.\n",
        "\n",
        "\n",
        "z =w*x+b\n",
        "\n",
        "print(w*x)\n",
        "print(np.sum(w*x))\n",
        "print(np.sum(w*x) + b)\n",
        "print(np.sum(w*x) + b> 0)\n",
        "print(np.sum(w*x) + b< 0)"
      ],
      "execution_count": null,
      "outputs": [
        {
          "output_type": "stream",
          "text": [
            "[0.  0.5]\n",
            "0.5\n",
            "-0.19999999999999996\n",
            "False\n",
            "True\n"
          ],
          "name": "stdout"
        }
      ]
    },
    {
      "cell_type": "markdown",
      "metadata": {
        "id": "lr24IR3bHpXB"
      },
      "source": [
        "# AND 게이트 만들기3"
      ]
    },
    {
      "cell_type": "code",
      "metadata": {
        "id": "n5vHFrDCHpaQ"
      },
      "source": [
        "def AND(x1, x2):\n",
        "  x = np.array([x1,x2])\n",
        "  w = np.array([0.5,0.5])\n",
        "  b = -0.7\n",
        "\n",
        "  z = np.sum(x*w) + b\n",
        "\n",
        "  return int(z>0)\n",
        "\n",
        "  AND(0,0),AND(1,0),AND(0,1),AND(1,1)"
      ],
      "execution_count": null,
      "outputs": []
    },
    {
      "cell_type": "code",
      "metadata": {
        "colab": {
          "base_uri": "https://localhost:8080/"
        },
        "id": "0c7Lc-CWHpeM",
        "outputId": "327e700b-5d56-496e-d441-cbbdda8a31db"
      },
      "source": [
        "AND(0,0),AND(1,0),AND(0,1),AND(1,1)"
      ],
      "execution_count": null,
      "outputs": [
        {
          "output_type": "execute_result",
          "data": {
            "text/plain": [
              "(0, 0, 0, 1)"
            ]
          },
          "metadata": {
            "tags": []
          },
          "execution_count": 26
        }
      ]
    },
    {
      "cell_type": "markdown",
      "metadata": {
        "id": "zal8FCJhHphy"
      },
      "source": [
        "### 가중치와 편향에 대한 의미\n",
        "* 가중치 : 입력값에 대한 중요도\n",
        "    * (어떠한 데이터에 대한) 입력된 데이터에 대해 결과물이 1로 가거나, 0으로 갈 수 있도록 입력값을 조절하는 변수\n",
        "    (가중치는 방향성을 의미 0보다 크게 만들지 0보다 작게 만들지를 나타낸다.)\n",
        "\n",
        "* 편향 : 퍼셉트론이 얼마나 **쉽게 확성화가 되는가**를 결정 0은 활성화 안된것 \n",
        "    * 활성화? 퍼셉트론의 결과물이 1이 되는것, $z$가 0을 넘는것\n",
        "    * 편향이 크다면 입력 데이터나 가중치가 아무리 작아도 쉽게 활성화가 된다.\n",
        "        * 흥분도가 큰 퍼셉트론 - 민감한 퍼셉트론 (아주 약간의 값만 들어와도 쉽게 활성화가 된다. (아주약간의 신호))\n",
        "    * 편향이 작다면 입력 데이터나 가중치가 아무리 커도 쉽게 활성화가 되지 않는다.\n",
        "\n",
        "        * 흥분도가 낮은 퍼셉트론 -둔감한 퍼셉트론\n",
        "\n",
        "wx가 십만을 넘지 못하면 활성화가 안된다.\n",
        "\n",
        "퍼셉트론의 편향이 크면 작아도 쉽게 활성화\n",
        "편향이 작다면 커도 쉽게 활성화가 되지 않는다."
      ]
    },
    {
      "cell_type": "code",
      "metadata": {
        "id": "L8GH5XsBHpoQ"
      },
      "source": [
        ""
      ],
      "execution_count": null,
      "outputs": []
    },
    {
      "cell_type": "markdown",
      "metadata": {
        "id": "8tagEncFLj95"
      },
      "source": [
        "## NAND 게이트 구현\n",
        "    * AND 게이트의 모든 부호를 거꾸로"
      ]
    },
    {
      "cell_type": "code",
      "metadata": {
        "id": "cfczJ8_LHprz"
      },
      "source": [
        "def NAND(x1,x2):\n",
        "  x = np.array([x1,x2])\n",
        "\n",
        "  #가중치와 편향의 부호를 반대로\n",
        "  w = np.array([-0.5,-0.5])#AND와 결과가 반대로 나오게 하기 위해서\n",
        "\n",
        "  b = 0.7 \n",
        "  # NAND 로 했을 때는 값의 부호가 다 바뀐다.\n",
        "\n",
        "  z = np.sum(w*x) + b\n",
        "  \n",
        "  return int(z >0)"
      ],
      "execution_count": null,
      "outputs": []
    },
    {
      "cell_type": "code",
      "metadata": {
        "colab": {
          "base_uri": "https://localhost:8080/"
        },
        "id": "m89r6YGLHpy1",
        "outputId": "181512a7-1b69-4498-b130-48b8f826a1bd"
      },
      "source": [
        "NAND(0,0),NAND(1,0),NAND(0,1),NAND(1,1)"
      ],
      "execution_count": null,
      "outputs": [
        {
          "output_type": "execute_result",
          "data": {
            "text/plain": [
              "(1, 1, 1, 0)"
            ]
          },
          "metadata": {
            "tags": []
          },
          "execution_count": 30
        }
      ]
    },
    {
      "cell_type": "code",
      "metadata": {
        "colab": {
          "base_uri": "https://localhost:8080/"
        },
        "id": "TM_02aR8McOr",
        "outputId": "9688eb92-20ca-43c1-f3e6-a3319e62be03"
      },
      "source": [
        "print(w)"
      ],
      "execution_count": null,
      "outputs": [
        {
          "output_type": "stream",
          "text": [
            "[0.5 0.5]\n"
          ],
          "name": "stdout"
        }
      ]
    },
    {
      "cell_type": "markdown",
      "metadata": {
        "id": "NpFLN2zPMsX2"
      },
      "source": [
        "# OR 게이트\n",
        "  AND게이트의 매개변수(b)를 적절히 조절해 준다. b만 조절 편향"
      ]
    },
    {
      "cell_type": "code",
      "metadata": {
        "id": "5X4mcwx9M1AP"
      },
      "source": [
        "def OR(x1,x2):\n",
        "  x = np.array([x1, x2])\n",
        "  w = np.array([0.5,0.5])\n",
        "  b = -0.2\n",
        "\n",
        "  z = np.sum(w*x) + b\n",
        "\n",
        "  return int(z>0)\n",
        "\n",
        "  "
      ],
      "execution_count": null,
      "outputs": []
    },
    {
      "cell_type": "code",
      "metadata": {
        "colab": {
          "base_uri": "https://localhost:8080/"
        },
        "id": "OkrYmGodNDz_",
        "outputId": "043f5f53-2f6a-4ffc-e870-c05c593db485"
      },
      "source": [
        "OR(0,0),OR(1,0),OR(0,1),OR(1,1)"
      ],
      "execution_count": null,
      "outputs": [
        {
          "output_type": "execute_result",
          "data": {
            "text/plain": [
              "(0, 1, 1, 1)"
            ]
          },
          "metadata": {
            "tags": []
          },
          "execution_count": 33
        }
      ]
    },
    {
      "cell_type": "code",
      "metadata": {
        "id": "X4S4kJeINGmU"
      },
      "source": [
        "#위의 세가지 퍼셉트론을 보고 알아차려할 사실\n"
      ],
      "execution_count": null,
      "outputs": []
    },
    {
      "cell_type": "markdown",
      "metadata": {
        "id": "YCMjQ1j0NHn0"
      },
      "source": [
        "AND, NAND, OR 게이트를 구축하는 방법은 똑같으나, W,b가 달라짐에 따라서 하는 일이 달라진다.\n",
        "\n",
        "각각 하나의 ㅓ셉트론으로써 연산을 충실히 수행, 가중치와 편향을 달ㄹ리해ㅓ 연산 다르게 한다.\n",
        "\n",
        "각각 입력값을 받아서 각자의 역할을 충실히 수행하면, 한번의 입력에 대한 한번의 출력이 이루어 진다. : 단층 퍼셉트론\n",
        "\n"
      ]
    },
    {
      "cell_type": "code",
      "metadata": {
        "id": "yE3C8faeNHuf"
      },
      "source": [
        ""
      ],
      "execution_count": null,
      "outputs": []
    },
    {
      "cell_type": "markdown",
      "metadata": {
        "id": "cYyd-_HCOZ0J"
      },
      "source": [
        "# 단층 퍼셈트론의 한계  - XOR 게이트 문제"
      ]
    },
    {
      "cell_type": "code",
      "metadata": {
        "id": "qes2GYHINHxp"
      },
      "source": [
        "# 단층을 여러개 쌓아서 다층이 됨에 따라 XOR의 문제를 해결하여 인공지능이 다시 활발히 연구 되었다."
      ],
      "execution_count": null,
      "outputs": []
    },
    {
      "cell_type": "code",
      "metadata": {
        "colab": {
          "base_uri": "https://localhost:8080/",
          "height": 281
        },
        "id": "6fUFILk8NH0v",
        "outputId": "ffabd071-2ace-4e82-96b2-80e85740783e"
      },
      "source": [
        "# OR 퍼셉트론에 대한 시각화\n",
        "\n",
        "plt.figure(figsize=(4,4))\n",
        "\n",
        "plt.scatter([0],[0], marker='o')\n",
        "plt.scatter([1,0,1],[0,1,1], marker='^')\n",
        "plt.xticks([0, 0.5, 1])\n",
        "plt.yticks([0, 0.5, 1])\n",
        "plt.xlim((-0.2,1.2))\n",
        "plt.ylim((-0.2,1.2))\n",
        "plt.xlabel(r'$x_1$')\n",
        "plt.ylabel(r'$x_2$', rotation=0)\n",
        "\n",
        "plt.show()"
      ],
      "execution_count": null,
      "outputs": [
        {
          "output_type": "display_data",
          "data": {
            "image/png": "[encoded data removed]",
            "text/plain": [
              "<Figure size 288x288 with 1 Axes>"
            ]
          },
          "metadata": {
            "tags": [],
            "needs_background": "light"
          }
        }
      ]
    },
    {
      "cell_type": "markdown",
      "metadata": {
        "id": "XofnOnP-NH4c"
      },
      "source": [
        "# 각각의 일을 충실히 수행하는 단층을 퍼셉트론을 여러 개 쌓아서 다층 퍼셉트론을 만들자.\n",
        "\n",
        "단층퍼셉트론으로는 해결 할 수 없던 일을 다층 퍼셉트론을 해결 할 수 있다.\n",
        "\n"
      ]
    },
    {
      "cell_type": "code",
      "metadata": {
        "id": "VY7doT1-NH7T"
      },
      "source": [
        "def XOR(x1, x2):\n",
        "  s1 =NAND(x1,x2)\n",
        "  s2 =OR(x1, x2)\n",
        "\n",
        "  #NAND와 OR의 결과물인 s1과 s1를 AND 게이트의 입력값으로 사용하면 XOR의 결과물이 된다.\n",
        "  y = AND(s1, s2)\n",
        "\n",
        "  return y\n",
        "\n",
        "  XOR(0,0), XOR(0,1), XOR(1,0),XOR(1,1)"
      ],
      "execution_count": null,
      "outputs": []
    },
    {
      "cell_type": "code",
      "metadata": {
        "colab": {
          "base_uri": "https://localhost:8080/"
        },
        "id": "ERqfoi37NH_S",
        "outputId": "c30cab9f-2f3a-4f6f-eec6-13dccc944bb0"
      },
      "source": [
        "  XOR(0,0), XOR(0,1), XOR(1,0),XOR(1,1) # NAND 게이트와 OR을 이용해서 AND에 집어 넣어서 사용하면 XOR이 된다."
      ],
      "execution_count": null,
      "outputs": [
        {
          "output_type": "execute_result",
          "data": {
            "text/plain": [
              "(0, 1, 1, 0)"
            ]
          },
          "metadata": {
            "tags": []
          },
          "execution_count": 39
        }
      ]
    },
    {
      "cell_type": "code",
      "metadata": {
        "id": "a7gE5SuXNICY"
      },
      "source": [
        ""
      ],
      "execution_count": null,
      "outputs": []
    },
    {
      "cell_type": "code",
      "metadata": {
        "id": "7j0Q2WPUNIFA"
      },
      "source": [
        ""
      ],
      "execution_count": null,
      "outputs": []
    }
  ]
}