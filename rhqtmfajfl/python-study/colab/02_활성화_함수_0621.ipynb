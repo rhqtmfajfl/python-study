{
  "nbformat": 4,
  "nbformat_minor": 0,
  "metadata": {
    "colab": {
      "name": "02. 활성화 함수 0621.ipynb",
      "provenance": [],
      "collapsed_sections": [],
      "authorship_tag": "ABX9TyNj0OBJAQ4wywMgA9/TukT+",
      "include_colab_link": true
    },
    "kernelspec": {
      "name": "python3",
      "display_name": "Python 3"
    },
    "language_info": {
      "name": "python"
    }
  },
  "cells": [
    {
      "cell_type": "markdown",
      "metadata": {
        "id": "view-in-github",
        "colab_type": "text"
      },
      "source": [
        "<a href=\"https://colab.research.google.com/github/rhqtmfajfl/python-study/blob/master/rhqtmfajfl/python-study/colab/02_%ED%99%9C%EC%84%B1%ED%99%94_%ED%95%A8%EC%88%98_0621.ipynb\" target=\"_parent\"><img src=\"https://colab.research.google.com/assets/colab-badge.svg\" alt=\"Open In Colab\"/></a>"
      ]
    },
    {
      "cell_type": "markdown",
      "metadata": {
        "id": "7Ac7CH6YbFML"
      },
      "source": [
        "# 신경망의 등장\n",
        "다층 퍼셉트론은 단층 퍼셉트론으로는 계산 할 수 없는 복잡한 함수들을 표현할 수 있다.\n",
        "\n",
        "이러한 다층 퍼셉트론을 층처럼 여러 겹 쌓은 것을 **인공 신경망(Artificial Neural Network)**이라고 한다."
      ]
    },
    {
      "cell_type": "markdown",
      "metadata": {
        "id": "yE-6hn93bkK5"
      },
      "source": [
        "## 활성화 함수( Activation Function )\n",
        "* 인공 신경망의 퍼셉트론을 **유닛, 노드, 뉴런**이라고 표현\n",
        "  * 어떤 입력($x$)가 유닛, 노드, 뉴런으로 입력되 면 각각의 출력을 낸다.\n",
        "* **퍼셉트론**이란 뉴런은 결과물로써 0과 1을 낸다.\n",
        "  * $z=w_1x_1+w_2x_2+b$의 결과를 0과 1로 낸다.\n",
        "* 활성화 함수란?\n",
        "  * $WX+b$의 결과물을 결정하기 위한 함수"
      ]
    },
    {
      "cell_type": "markdown",
      "metadata": {
        "id": "6MPSWMaAblR-"
      },
      "source": [
        "## 퍼셉트론의 수식\n",
        "$z=w_1x_1+w_2x_2+b$ 식을 이용해서 퍼셉트론을 구현 하려면 조건이 필요했었다.\n",
        "$\n",
        "z= w_1x_1 + w_2x_2 + b \n",
        "$\n",
        "식에 의해 퍼셉트론을 구현 하려면 조건이 필요했었어요.\n",
        "$$\n",
        "u(z) = \\begin{cases} \n",
        "0\\enspace(z \\leq 0)\n",
        "\\\\ 1\\enspace(z > 0) \\end{cases}\n",
        "$$\n",
        "\n",
        "함수 $u$는 퍼셉트론의 결과물을 내기 위한 **계단 함수** - 퍼셉트론의 활성화 함수가 된다."
      ]
    },
    {
      "cell_type": "markdown",
      "metadata": {
        "id": "B0IKaEFUblVk"
      },
      "source": [
        "## 일반화된 뉴런의 수식\n",
        "\n",
        "활성화 함수 $a$가 존재하는 경우\n",
        "\n",
        "$$\n",
        "z= w_1x_1 + w_2x_2 + b\n",
        "$$\n",
        "\n",
        "$$\n",
        "y = a( w_1x_1 + w_2x_2 + b )\n",
        "$$\n",
        "\n",
        "$$\n",
        "y = a(z)\n",
        "$$"
      ]
    },
    {
      "cell_type": "code",
      "metadata": {
        "id": "DJuySZatblZO"
      },
      "source": [
        ""
      ],
      "execution_count": null,
      "outputs": []
    },
    {
      "cell_type": "code",
      "metadata": {
        "id": "f1BvJz0zblcy"
      },
      "source": [
        "# 퍼셉트론의 활성화 함수는 계단식 함수가 된다. "
      ],
      "execution_count": null,
      "outputs": []
    },
    {
      "cell_type": "markdown",
      "metadata": {
        "id": "AnrDw-XkblgX"
      },
      "source": [
        "## 우리가 여기서 배울건?\n",
        "\n",
        "단순하게 0과 1로만 표현하는 계단 함수 u가 아닌, 다양한 값으로 표현이 가능한 활성화 함수들을 배울 것이다.i "
      ]
    },
    {
      "cell_type": "code",
      "metadata": {
        "id": "zUQyIQCtblkW"
      },
      "source": [
        ""
      ],
      "execution_count": null,
      "outputs": []
    },
    {
      "cell_type": "markdown",
      "metadata": {
        "id": "ZZgA2dXLbloK"
      },
      "source": [
        "# 뉴런이 값을 다양하게 표현(출력) 한다는 것의 의미\n",
        "**비선형 활성화 함수를 사용** 이거를 사용하는 이유\n",
        "* 왜 선형 함수는 사용하지 않는가. (인공신경망에서는 퍼셉트론을 잘 사용하지 않는다.)\n",
        "\n",
        "    * 활성화 함수가 $a(z)$ = $cz_{(c는 상수)}$\n",
        "  * 층을 여러 개(3개) 쌓았을 때의 결과물 $y=a(a(a(z)))$\n",
        "  * 이는 $y=c^3z$\n",
        "  * 여러 층을 쌓아도 단순하게 상수값에 $z$를 곱한 형식으로 표현이 된다.\n",
        "  * 뉴런을 겹겹이 쌓는 의미가 사라진다.\n",
        "\n",
        "  \n",
        "* 비선형 함수를 사용하게 되면?\n",
        "  * 값의 표현이 단순하게 표현되지 않는다.\n",
        "  * 층을 쌓거나, 다른 활성화 함수를 사용했을 때 뉴런의 표현(뉴런의 출력)이 다채롭게 된다."
      ]
    },
    {
      "cell_type": "markdown",
      "metadata": {
        "id": "PVUH579TnDzN"
      },
      "source": [
        "# 활성화 함수 #1 시그모이드($\\sigma$)\n",
        "* 제일 유명한 활성화 함수\n",
        "* $\n",
        "\\sigma(z) =  \\frac{\\mathrm{1} }{\\mathrm{1} + e^{-z} }\n",
        "$, $z=WX+b$\n",
        "* 어떠한 값이 들어오든 항상 **0보다 크고 1보다 작은 실수**를 출력\n",
        "\n",
        "**시그모이드가 의미하는 것**\n",
        "* 연산에서는 입력 신호의 강도(세기)를 의미 * 히든레이어에서의 시그모이드\n",
        "  * 다음 층에 얼마나 강하게 값을 넘길 것인지를 결정\n",
        "    * 계단 함수는 활성화가 된다(1), 안된다(0)\n",
        "  * 시그모이드 함수는 **이 만큼 강하게 활성화가 된다(1에 가까운 실수)**, **이 만큼 약하게 활성화가 된다(0에 가까운 실수)**\n",
        "\n",
        "* 출력 과정( 신경망의 결정에서의 의미 )에서는 0 또는 1이 될 **확률**을 의미한다. - 출력층에서의 시그모이드\n",
        "  * 0.5를 기준으로 0.5보다 작으면 0으로 분류될 확률이 크다.\n",
        "  * 0.5를 기준으로 0.5보다 크면 1로 분류될 확률이 크다.\n",
        "  * **1로 분류될 확률이 시그모이드의 결과**\n",
        "    * 예시 : $\\sigma(z)=0.4$라면?\n",
        "      * 1로 분류될 확률이 40%\n",
        "      * 0으로 분류될 확률이 60\n",
        "\n",
        "\n",
        "\n",
        "결과물을 결정내는 것 출력층에서의 시그모이드\n",
        "\n",
        "-> 이제 우리가 배울것 은닉층에서 어떤일이 일어나는지 효과를 배운다.\n",
        "그중에 하나가 시그모이드 이다. 히든레이어에서의 시그모이드\n",
        "\n",
        "\n",
        "\n",
        "출력층에서는 확률을 의미한다.\n",
        "\n",
        "  "
      ]
    },
    {
      "cell_type": "code",
      "metadata": {
        "id": "fvAjeT5QjG9N"
      },
      "source": [
        "#다층퍼셑론의 의미 퍼셉트론을 한개만 사용했을 때 사용할 수 없는 것을 나타내기 위해\n",
        "#어떠한 표현에 한계점이 온다.\n",
        "#퍼셉트론 여러개 쌓아서 똑같은 결과가 나온다."
      ],
      "execution_count": null,
      "outputs": []
    },
    {
      "cell_type": "code",
      "metadata": {
        "id": "X1-cEyJujY2A"
      },
      "source": [
        "# and만 여러개 쌓으면 의미가 없다 그래서 선형함수를 하용하지 않는다.\n",
        "# 다양한 함수가 필요하기 때문이다.\n",
        "\n",
        "#비선형 각 활성화 함수의 표과를 이야기 하겠따. \n",
        "# 퍼셉트론은 흐른다 안흐른다.\n",
        "#시그모이드 같은 경우 좀더 다채롭게 값을 인식 시켜줄수가 있다."
      ],
      "execution_count": null,
      "outputs": []
    },
    {
      "cell_type": "code",
      "metadata": {
        "id": "9RcukldRmw0S"
      },
      "source": [
        "# z가 커질수록 값은 1에 가까워 지고 작아질수록 작앚빈다."
      ],
      "execution_count": null,
      "outputs": []
    },
    {
      "cell_type": "markdown",
      "metadata": {
        "id": "X2qzO39-blsE"
      },
      "source": [
        ""
      ]
    },
    {
      "cell_type": "code",
      "metadata": {
        "id": "NhsjY5JRkLrf"
      },
      "source": [
        "# 시그모이드 가 의미하는것\n",
        "# *연산에서는 입력시놓의 강도(세기)를 의미 한다."
      ],
      "execution_count": null,
      "outputs": []
    },
    {
      "cell_type": "code",
      "metadata": {
        "id": "Sia3YDeElrny"
      },
      "source": [
        "## 시그모이드가 값의 세기를 조절한다.\n"
      ],
      "execution_count": null,
      "outputs": []
    },
    {
      "cell_type": "code",
      "metadata": {
        "id": "oO5Rhtw1kL75"
      },
      "source": [
        "#시그모이드\n",
        "#계산된 z값의 세기를 다음 값에 반영 시킬 것인가?\n",
        "#입력강도의 세기가 나온다.\n",
        "#z는 결과물이 얼마나 강력한가가 된다.\n",
        "# 0부터 1사이의 정량화된 수치가 넘어 간다.\n",
        "#각각의 가중치가 곱해진다."
      ],
      "execution_count": null,
      "outputs": []
    },
    {
      "cell_type": "code",
      "metadata": {
        "id": "8u3UFk95l2kG"
      },
      "source": [
        "# z가 커지면 활성화가 된다. z가 작다라는 의미는 활성화가 안된다. - 퍼셉트론 _계단 함수\n",
        "# 시그모이드에서 z가 크면 z가 이만큼 강하다 z가 작으면 약하다. 이거를 0과 1사이의\n",
        "#z가 wx+b 인데 여기에 a(z)를 넣느다. b가 b 가 크면 zrk 크다. b가 작으면 z가 작다. a(z)a만 본다."
      ],
      "execution_count": null,
      "outputs": []
    },
    {
      "cell_type": "code",
      "metadata": {
        "id": "qUrkAkl9nmzx"
      },
      "source": [
        ""
      ],
      "execution_count": null,
      "outputs": []
    },
    {
      "cell_type": "code",
      "metadata": {
        "id": "eSaEkgYmnm2-"
      },
      "source": [
        "# 시그모이드에서 연산과정은 신경망에서 결정을 하게 위해 계산을 하는 과정이ㅏ. - 연산 과정\n",
        "#과정은 신경망이 결정ㄱ짓기 위한 것이다. - 결정짓기 위한 단계"
      ],
      "execution_count": null,
      "outputs": []
    },
    {
      "cell_type": "code",
      "metadata": {
        "id": "JGUTZrhYnm6R"
      },
      "source": [
        "# 히든레이어 - 은닉층"
      ],
      "execution_count": null,
      "outputs": []
    },
    {
      "cell_type": "code",
      "metadata": {
        "id": "uFPFP2MPqFFN"
      },
      "source": [
        ""
      ],
      "execution_count": null,
      "outputs": []
    },
    {
      "cell_type": "code",
      "metadata": {
        "id": "_c9dvgxJqFI_"
      },
      "source": [
        ""
      ],
      "execution_count": null,
      "outputs": []
    },
    {
      "cell_type": "code",
      "metadata": {
        "id": "sYuU6wP6qFNd"
      },
      "source": [
        "import numpy as np\n",
        "import matplotlib.pyplot as plt\n",
        "\n",
        "# 계단 함수 구현하기\n",
        "def step_function(x): # 계단 함수\n",
        "  return np.array(x>0, dtype=np.int ) #dtype = ture false가 아닌 정수로 표현 해라 정수형태의 배열을 만들어 준다.\n",
        "\n",
        "  #시그모이드 함수 구현하기\n",
        "  #자연상수 e의 지수함수는 numpy의 exp에 구현되어 있다.\n",
        "  \n",
        "def sigmoid(x): #x는 위에서 봤었떤 z가 된다.\n",
        "   return 1 / (1+np.exp(-x)) # np.exp(-x) 위에서 본 1+e−z 이수식을 의미"
      ],
      "execution_count": null,
      "outputs": []
    },
    {
      "cell_type": "code",
      "metadata": {
        "colab": {
          "base_uri": "https://localhost:8080/",
          "height": 499
        },
        "id": "w32OaU-iq-In",
        "outputId": "006ab4a7-90d9-46bb-fd42-4e460bddaa83"
      },
      "source": [
        "fig, (ax1, ax2) = plt.subplots(1, 2,figsize=(20,8))\n",
        "x = np.arange(-5.0, 5.0, 0.1)\n",
        "\n",
        "ax1.plot(x, step_function(x))\n",
        "ax1.set_title('step function')\n",
        "\n",
        "ax2.plot(x, sigmoid(x))\n",
        "ax2.set_title('sigmoid function') # 시그모이드라는 이유 음수 무한대로 갈수록 0으로 가까워질 뿐 0이 되지는 않는다.\n",
        "\n",
        "\n",
        "plt.show()"
      ],
      "execution_count": null,
      "outputs": [
        {
          "output_type": "display_data",
          "data": {
            "image/png": "[encoded data removed]",
            "text/plain": [
              "<Figure size 1440x576 with 2 Axes>"
            ]
          },
          "metadata": {
            "tags": [],
            "needs_background": "light"
          }
        }
      ]
    },
    {
      "cell_type": "markdown",
      "metadata": {
        "id": "9kPvKIInrItS"
      },
      "source": [
        "# 활성화 함수 # 2 ReLU(Rectified Linear Unit)\n",
        "* 이미지 처리에 주로 사용되는 함수\n",
        "  * 요즘엔 다양한 분야에 활용 되는 중\n",
        "* CNN과 찰떡궁합인 함수\n",
        "* 입력값이 0을 넘으면 그대로 출력, 0 이하면 0을 출력하는 함수\n",
        "* $a(x) = \\begin{cases} \n",
        "0\\enspace(x \\leq 0)\n",
        "\\\\ x\\enspace(x > 0) \\end{cases}$\n",
        "*\n",
        "\n",
        "\n",
        "# relu로 필요없는 음수부분을 삭제 한다."
      ]
    },
    {
      "cell_type": "code",
      "metadata": {
        "id": "ipnVhNFlFuul"
      },
      "source": [
        "# cnn 에서 x는 양수 w는 랜덤한 실수이다. 그런데 w가 어느 부분은 양수 음수일 수도 있따. 그렇다면 cnn에서 이미지가 음수가 될수도 있따  그래서 relu에서 -1 를날려 버려주는 역할을 하는 것이다."
      ],
      "execution_count": null,
      "outputs": []
    },
    {
      "cell_type": "code",
      "metadata": {
        "id": "l9u958YP-I2b"
      },
      "source": [
        "#음수 데이터면 0, 양수 데이터면 해당 데이터를 그대로 출력\n",
        "\n"
      ],
      "execution_count": null,
      "outputs": []
    },
    {
      "cell_type": "code",
      "metadata": {
        "id": "CXQAG35L-aWq"
      },
      "source": [
        "#음수 데이터면 0, 양수 데이터면 해당 데이터를 드대로 출력\n",
        "def relu(x):\n",
        "  return np.maximum(0, x) # maximum : 0 과 x 둘중에 더 큰 값을 출력\n",
        "\n"
      ],
      "execution_count": null,
      "outputs": []
    },
    {
      "cell_type": "code",
      "metadata": {
        "colab": {
          "base_uri": "https://localhost:8080/",
          "height": 499
        },
        "id": "ZKmnCwy5-xEM",
        "outputId": "738de182-6243-43a5-86e9-8fd63130ac25"
      },
      "source": [
        "plt.figure(figsize=(10, 8))\n",
        "x = np.arange(-5.0, 5.0, 0.1)\n",
        "plt.title('ReLU function')\n",
        "plt.plot(x, relu(x))\n",
        "plt.show()"
      ],
      "execution_count": null,
      "outputs": [
        {
          "output_type": "display_data",
          "data": {
            "image/png": "[encoded data removed]",
            "text/plain": [
              "<Figure size 720x576 with 1 Axes>"
            ]
          },
          "metadata": {
            "tags": [],
            "needs_background": "light"
          }
        }
      ]
    },
    {
      "cell_type": "code",
      "metadata": {
        "id": "pJwOMRj3-0QD"
      },
      "source": [
        "# relu를 사용하는 이유"
      ],
      "execution_count": null,
      "outputs": []
    },
    {
      "cell_type": "markdown",
      "metadata": {
        "id": "MiMEnyB9-171"
      },
      "source": [
        "## ReLU를 사용하는 이유\n",
        "* 최근에는 시그모이드 보다는 비선형 직선을 여러개 연결하는 ReLU를 더 많이 사용하는 추세\n",
        "  * $\\sigma$함수는 곡선함수라서 연산 비용(CPU, GPU 등의 연산)이 많이 들어간다.\n",
        "  (직선의 형태로 사용될수도 있다.)\n",
        "  * 따라서 필요에 따라 ReLU를 여러 개 붙여서 사용 하는 것이 도움이 될 때가 많다.\n",
        "  * 물론 데이터의 종류나 특징에 따라 성능은 달라요!\n",
        "* 이미지 처리에서 ReLU를 사용하는 이유\n",
        "  * 이미지는 0 ~ 255 까지의 정수로 이루어져 있다.\n",
        "  * 이미지도 신경망의 연산에 따라서 실수(float)로 값이 변경 됩니다.($WX+b$)\n",
        "  * 연산에 의해 실수화 되다 보니 음수값이 등장하기 시작\n",
        "  * 이미지 시스템에서 음수는 사용하지 않는 데이터이기 때문에, 음수로 연산된 데이터를 0으로 만들어서 연산의 부담을 줄여준다.\n",
        "* 최근에는 Leakly ReLU도 자주 사용하는 추세\n",
        "  * 음수 데이터를 0으로 처리하는 것이 아닌, 0.01 같은 작은 값을 곱해서 음수 데이터를 약하게 처리하는 방식"
      ]
    },
    {
      "cell_type": "code",
      "metadata": {
        "id": "ub3_hgtU-23n"
      },
      "source": [
        "\n",
        "#"
      ],
      "execution_count": null,
      "outputs": []
    },
    {
      "cell_type": "markdown",
      "metadata": {
        "id": "EqmaKr3FAJJb"
      },
      "source": [
        "# 활성화 함수 #3 하이퍼볼릭 탄젠트(tanh)\n",
        "* 텍스트 처리에 주로 사용되는 함수  (잘생김, 멋짐 이런 것 등등 각 각의 단어에 대한 방향에 대한 값을 나타낸다.) - 유사도는 아니고 방향정도로 이해하면 된다.\n",
        "\n",
        "* 시그모이드와 비슷한 모양이지만 -1 ~ 1 사이의 값으로 출력\n",
        "    * 시그모이드는 확률을 의미함 (0~1)\n",
        "    * 하이퍼볼릭 탄젠트는 방향을 의미함\n",
        "\n",
        "    (벡터란 크기와 방향을 같게 하는 것)\n"
      ]
    },
    {
      "cell_type": "code",
      "metadata": {
        "id": "Fo1FxCqZC2AW"
      },
      "source": [
        "# 하이퍼볼릭 탄젠트는 각도도 나타낸다\n",
        "#-1에 가까울수록 반대방향으로 가고있다.\n",
        "# 가운데 값은 0이된다. \n",
        "# 범위가 두배로 커진 하이퍼볼릭 탄젠트"
      ],
      "execution_count": null,
      "outputs": []
    },
    {
      "cell_type": "code",
      "metadata": {
        "id": "QaS_NDIuHfcg"
      },
      "source": [
        ""
      ],
      "execution_count": null,
      "outputs": []
    }
  ]
}