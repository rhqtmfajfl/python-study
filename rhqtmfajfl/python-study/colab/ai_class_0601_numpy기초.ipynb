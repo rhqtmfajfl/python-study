{
  "nbformat": 4,
  "nbformat_minor": 0,
  "metadata": {
    "colab": {
      "name": "ai class 0601 numpy기초.ipynb",
      "provenance": [],
      "authorship_tag": "ABX9TyOB3q5mKypm9LtHiQFvM8Ug",
      "include_colab_link": true
    },
    "kernelspec": {
      "name": "python3",
      "display_name": "Python 3"
    },
    "language_info": {
      "name": "python"
    }
  },
  "cells": [
    {
      "cell_type": "markdown",
      "metadata": {
        "id": "view-in-github",
        "colab_type": "text"
      },
      "source": [
        "<a href=\"https://colab.research.google.com/github/rhqtmfajfl/python-study/blob/master/rhqtmfajfl/python-study/colab/ai_class_0601_numpy%EA%B8%B0%EC%B4%88.ipynb\" target=\"_parent\"><img src=\"https://colab.research.google.com/assets/colab-badge.svg\" alt=\"Open In Colab\"/></a>"
      ]
    },
    {
      "cell_type": "code",
      "metadata": {
        "id": "Bn6nBfBJJx4j"
      },
      "source": [
        "import numpy as np"
      ],
      "execution_count": null,
      "outputs": []
    },
    {
      "cell_type": "markdown",
      "metadata": {
        "id": "7vEPV-o2J-pb"
      },
      "source": [
        "numpy 수치연산을 위한 파이썬 라이브러리"
      ]
    },
    {
      "cell_type": "code",
      "metadata": {
        "colab": {
          "base_uri": "https://localhost:8080/"
        },
        "id": "qkwhm7gOJ6OT",
        "outputId": "7434df70-793b-48fb-fb83-ead6c27e5bdd"
      },
      "source": [
        "#1. python의 list를 ndarray화 할 수 있따.\n",
        "py_list = [1,2,3]\n",
        "arr1 = np.array(py_list)\n",
        "arr1"
      ],
      "execution_count": null,
      "outputs": [
        {
          "output_type": "execute_result",
          "data": {
            "text/plain": [
              "array([1, 2, 3])"
            ]
          },
          "metadata": {
            "tags": []
          },
          "execution_count": 2
        }
      ]
    },
    {
      "cell_type": "code",
      "metadata": {
        "colab": {
          "base_uri": "https://localhost:8080/"
        },
        "id": "RzfmPlcLLJQK",
        "outputId": "adb69b32-e539-4146-b62d-88fc5de10c30"
      },
      "source": [
        "#타입확인\n",
        "type(arr1)\n"
      ],
      "execution_count": null,
      "outputs": [
        {
          "output_type": "execute_result",
          "data": {
            "text/plain": [
              "numpy.ndarray"
            ]
          },
          "metadata": {
            "tags": []
          },
          "execution_count": 3
        }
      ]
    },
    {
      "cell_type": "code",
      "metadata": {
        "colab": {
          "base_uri": "https://localhost:8080/"
        },
        "id": "6I-96bG3LOm0",
        "outputId": "05ab3bdc-8f8c-457f-ec77-dbc944956596"
      },
      "source": [
        "np.ones((2,3))*5 #5로 채워진 배열"
      ],
      "execution_count": null,
      "outputs": [
        {
          "output_type": "execute_result",
          "data": {
            "text/plain": [
              "array([[5., 5., 5.],\n",
              "       [5., 5., 5.]])"
            ]
          },
          "metadata": {
            "tags": []
          },
          "execution_count": 4
        }
      ]
    },
    {
      "cell_type": "code",
      "metadata": {
        "colab": {
          "base_uri": "https://localhost:8080/"
        },
        "id": "LAYNu_1iMkwm",
        "outputId": "ec5340d7-6a8c-4f72-bb23-dc247a27301d"
      },
      "source": [
        "np.full((2,3),5) #np.full 사용빈도 낮은 zeros가 많이 사용 zeros 딥러닝 머신러닝에서 편향 초기값"
      ],
      "execution_count": null,
      "outputs": [
        {
          "output_type": "execute_result",
          "data": {
            "text/plain": [
              "array([[5, 5, 5],\n",
              "       [5, 5, 5]])"
            ]
          },
          "metadata": {
            "tags": []
          },
          "execution_count": 5
        }
      ]
    },
    {
      "cell_type": "code",
      "metadata": {
        "colab": {
          "base_uri": "https://localhost:8080/"
        },
        "id": "y2_IvOkRMquQ",
        "outputId": "b509bc0c-bf55-4efb-f1c5-b8f807cf873c"
      },
      "source": [
        "#점구간 만들기\n",
        "np.linspace"
      ],
      "execution_count": null,
      "outputs": [
        {
          "output_type": "execute_result",
          "data": {
            "text/plain": [
              "<function numpy.linspace>"
            ]
          },
          "metadata": {
            "tags": []
          },
          "execution_count": 7
        }
      ]
    },
    {
      "cell_type": "code",
      "metadata": {
        "colab": {
          "base_uri": "https://localhost:8080/"
        },
        "id": "KrWg5k7eM2x-",
        "outputId": "24c4a1ec-61c6-4e33-dd0f-b77683a09b19"
      },
      "source": [
        "np.linspace(1, 10, 3) #1부터 10까지 3개의 숫자를 균일한 구간으로 만든다. -> 균일한 두개의 구간을 생성"
      ],
      "execution_count": null,
      "outputs": [
        {
          "output_type": "execute_result",
          "data": {
            "text/plain": [
              "array([ 1. ,  5.5, 10. ])"
            ]
          },
          "metadata": {
            "tags": []
          },
          "execution_count": 8
        }
      ]
    },
    {
      "cell_type": "code",
      "metadata": {
        "id": "lqLDnwOlNJlo"
      },
      "source": [
        "#linspace 시각화 선을 그을 용도록 사용 구간값"
      ],
      "execution_count": null,
      "outputs": []
    },
    {
      "cell_type": "code",
      "metadata": {
        "colab": {
          "base_uri": "https://localhost:8080/"
        },
        "id": "yHjnKFWeNXr6",
        "outputId": "7d53e6bd-a0e2-4e93-9dcd-5a190ac16322"
      },
      "source": [
        "np.linspace(1, 10,4)"
      ],
      "execution_count": null,
      "outputs": [
        {
          "output_type": "execute_result",
          "data": {
            "text/plain": [
              "array([ 1.,  4.,  7., 10.])"
            ]
          },
          "metadata": {
            "tags": []
          },
          "execution_count": 10
        }
      ]
    },
    {
      "cell_type": "code",
      "metadata": {
        "id": "KX3qAFZwNbwX"
      },
      "source": [
        "#arndom"
      ],
      "execution_count": null,
      "outputs": []
    },
    {
      "cell_type": "code",
      "metadata": {
        "colab": {
          "base_uri": "https://localhost:8080/"
        },
        "id": "oldUzlXwNkRl",
        "outputId": "293d2795-0fc1-48be-b28c-25cb7a9abef2"
      },
      "source": [
        "#완전랜덤 rand\n",
        "\n",
        "np.random.rand(2,3)"
      ],
      "execution_count": null,
      "outputs": [
        {
          "output_type": "execute_result",
          "data": {
            "text/plain": [
              "array([[0.77115231, 0.84272711, 0.01145006],\n",
              "       [0.56105879, 0.57537581, 0.44440887]])"
            ]
          },
          "metadata": {
            "tags": []
          },
          "execution_count": 12
        }
      ]
    },
    {
      "cell_type": "code",
      "metadata": {
        "colab": {
          "base_uri": "https://localhost:8080/"
        },
        "id": "3x1En_mLT0Jn",
        "outputId": "40fe1099-c348-46ab-c7c3-ff78b42b8804"
      },
      "source": [
        "np.random.rand(2,3,4)"
      ],
      "execution_count": null,
      "outputs": [
        {
          "output_type": "execute_result",
          "data": {
            "text/plain": [
              "array([[[0.19138774, 0.76268514, 0.362055  , 0.86297825],\n",
              "        [0.06305797, 0.91340392, 0.9937279 , 0.7587652 ],\n",
              "        [0.60416864, 0.89512776, 0.13717826, 0.47153364]],\n",
              "\n",
              "       [[0.99666777, 0.76912059, 0.35137122, 0.41745383],\n",
              "        [0.62487498, 0.25836737, 0.94402707, 0.04391182],\n",
              "        [0.35481777, 0.9899136 , 0.01569559, 0.97552521]]])"
            ]
          },
          "metadata": {
            "tags": []
          },
          "execution_count": 13
        }
      ]
    },
    {
      "cell_type": "code",
      "metadata": {
        "id": "g9BA4Sp3T680"
      },
      "source": [
        "#정규분포 랜덤 값의 빈도가 평균이 많고 최소최대로 갈수록 값이 작아진다."
      ],
      "execution_count": null,
      "outputs": []
    },
    {
      "cell_type": "code",
      "metadata": {
        "colab": {
          "base_uri": "https://localhost:8080/"
        },
        "id": "YsNlYG2lT85J",
        "outputId": "0aa93a7d-1be0-4b1d-d4dc-4bc629d78046"
      },
      "source": [
        "np.random.randn(16)"
      ],
      "execution_count": null,
      "outputs": [
        {
          "output_type": "execute_result",
          "data": {
            "text/plain": [
              "array([-1.31444232, -0.32462234, -0.38652715, -0.90281185,  0.95989146,\n",
              "        1.47910273, -0.90527509, -0.35506866, -1.17491388,  1.16267495,\n",
              "       -0.00970957,  0.85806699, -1.65927629,  0.32726356,  1.82769645,\n",
              "        0.35650065])"
            ]
          },
          "metadata": {
            "tags": []
          },
          "execution_count": 15
        }
      ]
    },
    {
      "cell_type": "code",
      "metadata": {
        "id": "hh95qVvwUcyl"
      },
      "source": [
        "#균등분포"
      ],
      "execution_count": null,
      "outputs": []
    },
    {
      "cell_type": "code",
      "metadata": {
        "colab": {
          "base_uri": "https://localhost:8080/"
        },
        "id": "sXxouaiVUxnx",
        "outputId": "d6959c1f-aaf0-40fb-d82f-03da180155cd"
      },
      "source": [
        "np.random.uniform(1.0, 3.0, size=(3,4)) #균등분포는 구간이 필요하다"
      ],
      "execution_count": null,
      "outputs": [
        {
          "output_type": "execute_result",
          "data": {
            "text/plain": [
              "array([[1.79865977, 2.14779534, 2.20160197, 2.06051842],\n",
              "       [1.42294994, 1.84120156, 2.22034323, 1.74753318],\n",
              "       [1.57495941, 1.42606593, 1.12940173, 1.01521466]])"
            ]
          },
          "metadata": {
            "tags": []
          },
          "execution_count": 17
        }
      ]
    },
    {
      "cell_type": "code",
      "metadata": {
        "id": "bD8ck-gJVLM_"
      },
      "source": [
        "## 정수랜덤 샘플링"
      ],
      "execution_count": null,
      "outputs": []
    },
    {
      "cell_type": "code",
      "metadata": {
        "colab": {
          "base_uri": "https://localhost:8080/"
        },
        "id": "ztRQ_TD2Vkpd",
        "outputId": "fd461383-41ef-4b0e-b579-9fd1b2e6f03a"
      },
      "source": [
        "np.random.choice(10, size=(2,3)) #0부터 9까지 정수중 랜덤하게 2,3배열 형태로 추출 기본은 중복 추출\n"
      ],
      "execution_count": null,
      "outputs": [
        {
          "output_type": "execute_result",
          "data": {
            "text/plain": [
              "array([[2, 3, 3],\n",
              "       [7, 1, 9]])"
            ]
          },
          "metadata": {
            "tags": []
          },
          "execution_count": 19
        }
      ]
    },
    {
      "cell_type": "code",
      "metadata": {
        "id": "BBGH1HUHWSrF"
      },
      "source": [
        "#배열내에서도 랜덤 추출이 가능"
      ],
      "execution_count": null,
      "outputs": []
    },
    {
      "cell_type": "code",
      "metadata": {
        "colab": {
          "base_uri": "https://localhost:8080/"
        },
        "id": "hceAuNlLWe7k",
        "outputId": "91b79049-526d-4570-a49f-3f30e1cc77bc"
      },
      "source": [
        "arr = np.arange(1,6)\n",
        "np.random.choice(arr, size=(2,2))"
      ],
      "execution_count": null,
      "outputs": [
        {
          "output_type": "execute_result",
          "data": {
            "text/plain": [
              "array([[4, 5],\n",
              "       [2, 1]])"
            ]
          },
          "metadata": {
            "tags": []
          },
          "execution_count": 22
        }
      ]
    },
    {
      "cell_type": "code",
      "metadata": {
        "colab": {
          "base_uri": "https://localhost:8080/"
        },
        "id": "6564fj0eWh8H",
        "outputId": "1d11b6e8-56cc-44e3-c523-128b85112e6b"
      },
      "source": [
        "arr = np.arange(1,6)\n",
        "np.random.choice(arr, size=(2,3))"
      ],
      "execution_count": null,
      "outputs": [
        {
          "output_type": "execute_result",
          "data": {
            "text/plain": [
              "array([[3, 2, 5],\n",
              "       [2, 1, 4]])"
            ]
          },
          "metadata": {
            "tags": []
          },
          "execution_count": 23
        }
      ]
    },
    {
      "cell_type": "code",
      "metadata": {
        "id": "2M_yFbryWpNQ"
      },
      "source": [
        "#중복추출 x"
      ],
      "execution_count": null,
      "outputs": []
    },
    {
      "cell_type": "code",
      "metadata": {
        "colab": {
          "base_uri": "https://localhost:8080/"
        },
        "id": "YJrF8Z47WwxM",
        "outputId": "b1c06cb3-0af3-4f7b-cca1-d73a007e5f5d"
      },
      "source": [
        "np.random.choice(arr, size=(2,2), replace= False) #중복추출 x - replace 옵션을 alse로 주면 추출x"
      ],
      "execution_count": null,
      "outputs": [
        {
          "output_type": "execute_result",
          "data": {
            "text/plain": [
              "array([[2, 3],\n",
              "       [5, 1]])"
            ]
          },
          "metadata": {
            "tags": []
          },
          "execution_count": 25
        }
      ]
    },
    {
      "cell_type": "code",
      "metadata": {
        "id": "38Txc9rLW7oX"
      },
      "source": [
        "#랜덤 정수 배열 만들기\n",
        "a1 = np.random.randint(1, 100, size=(5,))"
      ],
      "execution_count": null,
      "outputs": []
    },
    {
      "cell_type": "code",
      "metadata": {
        "colab": {
          "base_uri": "https://localhost:8080/"
        },
        "id": "TXzaAK6pXRfA",
        "outputId": "f0bdd8ed-98d8-47f9-a524-3fb44607fd1e"
      },
      "source": [
        "a1"
      ],
      "execution_count": null,
      "outputs": [
        {
          "output_type": "execute_result",
          "data": {
            "text/plain": [
              "array([89, 62, 13, 73, 12])"
            ]
          },
          "metadata": {
            "tags": []
          },
          "execution_count": 27
        }
      ]
    },
    {
      "cell_type": "code",
      "metadata": {
        "id": "BqNnI4upXSOy"
      },
      "source": [
        "a2 = np.random.randint(1, 100, size=(5,1))"
      ],
      "execution_count": null,
      "outputs": []
    },
    {
      "cell_type": "code",
      "metadata": {
        "colab": {
          "base_uri": "https://localhost:8080/"
        },
        "id": "40jYAO06XZd1",
        "outputId": "2da5030b-a275-4cd9-ec1b-effb1c470e19"
      },
      "source": [
        "a2"
      ],
      "execution_count": null,
      "outputs": [
        {
          "output_type": "execute_result",
          "data": {
            "text/plain": [
              "array([[50],\n",
              "       [22],\n",
              "       [ 2],\n",
              "       [69],\n",
              "       [54]])"
            ]
          },
          "metadata": {
            "tags": []
          },
          "execution_count": 31
        }
      ]
    },
    {
      "cell_type": "code",
      "metadata": {
        "id": "0bo7nLIsXZ7R"
      },
      "source": [
        "#다차원배열 노션 2-1 행렬"
      ],
      "execution_count": null,
      "outputs": []
    },
    {
      "cell_type": "code",
      "metadata": {
        "id": "gX54v-tfXokS"
      },
      "source": [
        "#스칼라 0차원 데이터\n",
        "\n",
        "#벡터 실수값 x가 모여져 있는것 -> 스칼라를 모은것 1차원 배열\n",
        "#a =[1,2,3] 모아진 n개의 개수가 n차원이 된다. n차원 벡터\n",
        "#열벡터를 기본으로 한다."
      ],
      "execution_count": null,
      "outputs": []
    },
    {
      "cell_type": "code",
      "metadata": {
        "colab": {
          "base_uri": "https://localhost:8080/"
        },
        "id": "DJMCqFpxYoJT",
        "outputId": "986c3a34-1b1e-441f-c79e-a8323c926a60"
      },
      "source": [
        "#행벡터의 모양을 하지만 1차원 배열이기 때문에 열벡터로 따져야 한다.\n",
        "heights_1 = np.array([180.1,175.5,163.3])\n",
        "heights_1"
      ],
      "execution_count": null,
      "outputs": [
        {
          "output_type": "execute_result",
          "data": {
            "text/plain": [
              "array([180.1, 175.5, 163.3])"
            ]
          },
          "metadata": {
            "tags": []
          },
          "execution_count": 34
        }
      ]
    },
    {
      "cell_type": "code",
      "metadata": {
        "colab": {
          "base_uri": "https://localhost:8080/"
        },
        "id": "fbKu6Pj-Z_8b",
        "outputId": "635f64e8-5765-4072-e62e-72060df3d588"
      },
      "source": [
        "h_2 =np.array([[180.1],\n",
        "               [175.5],\n",
        "               [163.3]])\n",
        "h_2  #이차원배열 이것도 벡터가 된다. 열벡터가 된다."
      ],
      "execution_count": null,
      "outputs": [
        {
          "output_type": "execute_result",
          "data": {
            "text/plain": [
              "array([[180.1],\n",
              "       [175.5],\n",
              "       [163.3]])"
            ]
          },
          "metadata": {
            "tags": []
          },
          "execution_count": 35
        }
      ]
    },
    {
      "cell_type": "code",
      "metadata": {
        "id": "A6vX-qiHaI-8"
      },
      "source": [
        "#열벡터를 띄거나 2차원 배열일 때사이킷런 텐서플로우 같은 머신러닝에서 사용\n",
        "\n",
        "#이차원 배열이지만 열백터의 모양을 하고 있으면 허용 행백터 모형은 에러"
      ],
      "execution_count": null,
      "outputs": []
    },
    {
      "cell_type": "code",
      "metadata": {
        "id": "PDZSLc5KbkzX"
      },
      "source": [
        "#heights_1과 h2는 다른 배열이다. 하지만 같은 백터이다.\n",
        "#h1은 numpy에서는 행벅터이지만 실제 수학적으로 열벡터이다.\n",
        "#hws\n",
        "#벡터 x = [3,5] 이면 3,5로 가는 것"
      ],
      "execution_count": null,
      "outputs": []
    },
    {
      "cell_type": "code",
      "metadata": {
        "id": "1Q_1YhqPc3qk"
      },
      "source": [
        "#행렬 matrix = 2차원 배열\n",
        "#1차원 배열인 백터가 여러개 모여 있는것"
      ],
      "execution_count": null,
      "outputs": []
    },
    {
      "cell_type": "code",
      "metadata": {
        "id": "1O2wsIkfdNof"
      },
      "source": [
        "#ensor 텐서\n",
        "#3차원 이상의 매열을 의미\n",
        "#3차원 배열은 2차원 베에 모영;ㅅ다."
      ],
      "execution_count": null,
      "outputs": []
    },
    {
      "cell_type": "code",
      "metadata": {
        "id": "CkgvxMv9dS5G"
      },
      "source": [
        "#0 fank tensor - 스칼라이다. 0차원"
      ],
      "execution_count": null,
      "outputs": []
    },
    {
      "cell_type": "code",
      "metadata": {
        "id": "thvQQCSZhxuS"
      },
      "source": [
        "#axis 이해하기\n"
      ],
      "execution_count": null,
      "outputs": []
    },
    {
      "cell_type": "markdown",
      "metadata": {
        "id": "DtpTtw0sibF7"
      },
      "source": [
        "axis 이해하기\n",
        "axis : 축. 축이란? 데이터가 추가되는 방향의 인덱스\n",
        "\n",
        "예를 들어서 3차원 (3, 4, 5)\n",
        "\n",
        "3차원 배열에 추가되는건 2차원 배열 -> axis=0\n",
        "2차원 배열에 추가되는건 1차원 배열 -> axis=1\n",
        "1차원 배열에 추가되는건 0차원 스칼라 -> axis=2\n",
        "\n",
        "axis 가 1이라는 것은 1차원 배열에 추가되는 2차원의 방향"
      ]
    },
    {
      "cell_type": "code",
      "metadata": {
        "id": "tn0NfGwihzgq"
      },
      "source": [
        "arr = np.arange(1, 37).reshape(3,4,3)"
      ],
      "execution_count": null,
      "outputs": []
    },
    {
      "cell_type": "code",
      "metadata": {
        "colab": {
          "base_uri": "https://localhost:8080/"
        },
        "id": "tpC5wB6ciSsP",
        "outputId": "c29d13ae-9f97-4c3b-b7a0-60381b38e470"
      },
      "source": [
        "arr"
      ],
      "execution_count": null,
      "outputs": [
        {
          "output_type": "execute_result",
          "data": {
            "text/plain": [
              "array([[[ 1,  2,  3],\n",
              "        [ 4,  5,  6],\n",
              "        [ 7,  8,  9],\n",
              "        [10, 11, 12]],\n",
              "\n",
              "       [[13, 14, 15],\n",
              "        [16, 17, 18],\n",
              "        [19, 20, 21],\n",
              "        [22, 23, 24]],\n",
              "\n",
              "       [[25, 26, 27],\n",
              "        [28, 29, 30],\n",
              "        [31, 32, 33],\n",
              "        [34, 35, 36]]])"
            ]
          },
          "metadata": {
            "tags": []
          },
          "execution_count": 43
        }
      ]
    },
    {
      "cell_type": "code",
      "metadata": {
        "id": "SMf-zkktiTQX"
      },
      "source": [
        "arr = np.arange(1, 37).reshape(3,4,3)"
      ],
      "execution_count": null,
      "outputs": []
    },
    {
      "cell_type": "code",
      "metadata": {
        "colab": {
          "base_uri": "https://localhost:8080/"
        },
        "id": "vtQEo9zfjLlr",
        "outputId": "5f061423-100c-4b66-cecb-2c34d1ae2712"
      },
      "source": [
        "np.max(arr,axis=0) #axis"
      ],
      "execution_count": null,
      "outputs": [
        {
          "output_type": "execute_result",
          "data": {
            "text/plain": [
              "array([[25, 26, 27],\n",
              "       [28, 29, 30],\n",
              "       [31, 32, 33],\n",
              "       [34, 35, 36]])"
            ]
          },
          "metadata": {
            "tags": []
          },
          "execution_count": 45
        }
      ]
    },
    {
      "cell_type": "code",
      "metadata": {
        "colab": {
          "base_uri": "https://localhost:8080/"
        },
        "id": "3-emku8djOUy",
        "outputId": "8e189ac8-635b-4396-ebdf-f0b934224a18"
      },
      "source": [
        "np.max(arr, axis=1)"
      ],
      "execution_count": null,
      "outputs": [
        {
          "output_type": "execute_result",
          "data": {
            "text/plain": [
              "array([[10, 11, 12],\n",
              "       [22, 23, 24],\n",
              "       [34, 35, 36]])"
            ]
          },
          "metadata": {
            "tags": []
          },
          "execution_count": 46
        }
      ]
    },
    {
      "cell_type": "code",
      "metadata": {
        "colab": {
          "base_uri": "https://localhost:8080/"
        },
        "id": "Q7pRBrI9jsB4",
        "outputId": "4f8fc547-a874-4315-e092-d1c473e1a6b1"
      },
      "source": [
        "np.max(arr, axis=2)"
      ],
      "execution_count": null,
      "outputs": [
        {
          "output_type": "execute_result",
          "data": {
            "text/plain": [
              "array([[ 3,  6,  9, 12],\n",
              "       [15, 18, 21, 24],\n",
              "       [27, 30, 33, 36]])"
            ]
          },
          "metadata": {
            "tags": []
          },
          "execution_count": 47
        }
      ]
    },
    {
      "cell_type": "code",
      "metadata": {
        "colab": {
          "base_uri": "https://localhost:8080/"
        },
        "id": "Wzf90yTcj3Mq",
        "outputId": "66db9c95-8d6a-4337-c6aa-0f39747c047d"
      },
      "source": [
        "arr = np.random.randint(1, 37, size=(3,3,3,3))\n",
        "arr"
      ],
      "execution_count": null,
      "outputs": [
        {
          "output_type": "execute_result",
          "data": {
            "text/plain": [
              "array([[[[ 1, 29, 26],\n",
              "         [ 1, 35, 18],\n",
              "         [33, 19, 24]],\n",
              "\n",
              "        [[19, 30, 31],\n",
              "         [ 2, 33, 34],\n",
              "         [ 4, 27, 19]],\n",
              "\n",
              "        [[27, 35, 31],\n",
              "         [27, 31,  9],\n",
              "         [24, 17,  1]]],\n",
              "\n",
              "\n",
              "       [[[19, 22, 36],\n",
              "         [20, 30,  6],\n",
              "         [12, 23,  8]],\n",
              "\n",
              "        [[32, 15, 32],\n",
              "         [23,  5,  5],\n",
              "         [13, 13, 29]],\n",
              "\n",
              "        [[21, 32, 30],\n",
              "         [11,  3, 19],\n",
              "         [17,  4,  2]]],\n",
              "\n",
              "\n",
              "       [[[16, 27, 23],\n",
              "         [31, 17, 32],\n",
              "         [ 3, 16, 34]],\n",
              "\n",
              "        [[16, 12, 11],\n",
              "         [ 4, 19, 28],\n",
              "         [33,  4, 30]],\n",
              "\n",
              "        [[21, 21,  2],\n",
              "         [12, 24,  6],\n",
              "         [19,  5,  1]]]])"
            ]
          },
          "metadata": {
            "tags": []
          },
          "execution_count": 49
        }
      ]
    },
    {
      "cell_type": "code",
      "metadata": {
        "colab": {
          "base_uri": "https://localhost:8080/"
        },
        "id": "3pEusvUZkCcW",
        "outputId": "588b453c-d17c-4a36-ad9e-49ab0476ab73"
      },
      "source": [
        "arr = np.random.randint(1, 37, size=(3,4,3))\n",
        "arr"
      ],
      "execution_count": null,
      "outputs": [
        {
          "output_type": "execute_result",
          "data": {
            "text/plain": [
              "array([[[22, 13, 28],\n",
              "        [ 5,  8, 29],\n",
              "        [32, 28,  6],\n",
              "        [32,  3, 12]],\n",
              "\n",
              "       [[36, 18,  1],\n",
              "        [13,  6,  5],\n",
              "        [ 4, 11, 24],\n",
              "        [17, 12, 27]],\n",
              "\n",
              "       [[ 5, 24,  2],\n",
              "        [20, 26, 24],\n",
              "        [ 1, 13, 28],\n",
              "        [19, 28, 11]]])"
            ]
          },
          "metadata": {
            "tags": []
          },
          "execution_count": 50
        }
      ]
    },
    {
      "cell_type": "code",
      "metadata": {
        "colab": {
          "base_uri": "https://localhost:8080/"
        },
        "id": "pbIknsa5kuyF",
        "outputId": "ee6869f5-c203-444d-e9e9-cc302b66fef5"
      },
      "source": [
        "arr1 = arr[0:3,1:3,1:3] #첫번째 전체 행렬 두번째는\n",
        "arr1"
      ],
      "execution_count": null,
      "outputs": [
        {
          "output_type": "execute_result",
          "data": {
            "text/plain": [
              "array([[[ 8, 29],\n",
              "        [28,  6]],\n",
              "\n",
              "       [[ 6,  5],\n",
              "        [11, 24]],\n",
              "\n",
              "       [[26, 24],\n",
              "        [13, 28]]])"
            ]
          },
          "metadata": {
            "tags": []
          },
          "execution_count": 59
        }
      ]
    },
    {
      "cell_type": "code",
      "metadata": {
        "id": "rD1xmAdbk6g9"
      },
      "source": [
        "#spread 연산자"
      ],
      "execution_count": null,
      "outputs": []
    },
    {
      "cell_type": "code",
      "metadata": {
        "colab": {
          "base_uri": "https://localhost:8080/"
        },
        "id": "DUGXVwrDlyIk",
        "outputId": "2ed311dd-9491-4cdf-e6fe-30c630813eb6"
      },
      "source": [
        "arr = np.arange(36).reshape(2,3,3,2)\n",
        "arr"
      ],
      "execution_count": null,
      "outputs": [
        {
          "output_type": "execute_result",
          "data": {
            "text/plain": [
              "array([[[[ 0,  1],\n",
              "         [ 2,  3],\n",
              "         [ 4,  5]],\n",
              "\n",
              "        [[ 6,  7],\n",
              "         [ 8,  9],\n",
              "         [10, 11]],\n",
              "\n",
              "        [[12, 13],\n",
              "         [14, 15],\n",
              "         [16, 17]]],\n",
              "\n",
              "\n",
              "       [[[18, 19],\n",
              "         [20, 21],\n",
              "         [22, 23]],\n",
              "\n",
              "        [[24, 25],\n",
              "         [26, 27],\n",
              "         [28, 29]],\n",
              "\n",
              "        [[30, 31],\n",
              "         [32, 33],\n",
              "         [34, 35]]]])"
            ]
          },
          "metadata": {
            "tags": []
          },
          "execution_count": 61
        }
      ]
    },
    {
      "cell_type": "code",
      "metadata": {
        "colab": {
          "base_uri": "https://localhost:8080/"
        },
        "id": "NMvXhih7l5Nv",
        "outputId": "54870b28-fafb-46d1-a7f3-a1f57e8607b4"
      },
      "source": [
        "arr [0, : ,: ,0]  #첫번째가 가장높은 차원 두번째가 그다음 차원"
      ],
      "execution_count": null,
      "outputs": [
        {
          "output_type": "execute_result",
          "data": {
            "text/plain": [
              "array([[ 0,  2,  4],\n",
              "       [ 6,  8, 10],\n",
              "       [12, 14, 16]])"
            ]
          },
          "metadata": {
            "tags": []
          },
          "execution_count": 63
        }
      ]
    },
    {
      "cell_type": "code",
      "metadata": {
        "id": "q-f4_9UdmH_8"
      },
      "source": [
        "#spread 연산자 사이 값을 다 뽑고 싶을 때 사용"
      ],
      "execution_count": null,
      "outputs": []
    },
    {
      "cell_type": "code",
      "metadata": {
        "colab": {
          "base_uri": "https://localhost:8080/"
        },
        "id": "wnumNGnomObH",
        "outputId": "73fd90ba-b0e1-4f10-d50b-0b227d16abfd"
      },
      "source": [
        "arr [0,... ,0]"
      ],
      "execution_count": null,
      "outputs": [
        {
          "output_type": "execute_result",
          "data": {
            "text/plain": [
              "array([[ 0,  2,  4],\n",
              "       [ 6,  8, 10],\n",
              "       [12, 14, 16]])"
            ]
          },
          "metadata": {
            "tags": []
          },
          "execution_count": 65
        }
      ]
    },
    {
      "cell_type": "code",
      "metadata": {
        "id": "CW3ozZy9mRMr"
      },
      "source": [
        "#차원 추가(차원수 확장)\n"
      ],
      "execution_count": null,
      "outputs": []
    },
    {
      "cell_type": "markdown",
      "metadata": {
        "id": "Vm32rvhnoItv"
      },
      "source": [
        "보통 이미지 데이터를 딥러닝에서 사용하고자 하면 : (N, H, W, C)\n",
        "\n",
        "N : 이미지의 개수\n",
        "H : 세로 픽셀의 개수\n",
        "W : 가로 픽셀의 개수\n",
        "C : 채널수(컬러 RGB : 3, GRAYSCALE : 1"
      ]
    },
    {
      "cell_type": "code",
      "metadata": {
        "id": "iMKgzUewnkZc"
      },
      "source": [
        "# 훈련에 사용할 이미지의 형상(shape)을 확인 : (60000, 28, 28, 1)\n",
        "# matplotlib에서 흑백 이미지를 표시하고 싶으면 (28, 28)\n",
        "# images = [60000, 28, 28, 1] -> images[0, ..., 0] -> (28, 28)"
      ],
      "execution_count": null,
      "outputs": []
    },
    {
      "cell_type": "markdown",
      "metadata": {
        "id": "Nn2lFr4poP6s"
      },
      "source": [
        "# 차원 추가( 차원수 확장 )\n",
        "\n",
        "> 들여쓴 블록\n",
        "\n",
        "\n",
        "* 흑백 이미지를 가져 왔는데 형상이 `(28, 28)`\n",
        "* 딥러닝에서 이미지를 다루고자 하면 `(N,H,W,C)`를 유지 해야 한다.\n",
        "* `(28, 28)` -> `(1, 28, 28, 1)`로 만들어야 딥러닝에서 다룰 수가 있다.\n",
        "* 원하는 차원 위치에 `np.newaxis`를 추가하면 된다.\n",
        "  * numpy : `np.newaxis`\n",
        "  * tensorflow : `tf.newaxis`"
      ]
    },
    {
      "cell_type": "code",
      "metadata": {
        "colab": {
          "base_uri": "https://localhost:8080/"
        },
        "id": "ZaBSW5R9oLcy",
        "outputId": "c93ab59b-841d-407b-c265-acacc2a4206b"
      },
      "source": [
        "arr = np.random.rand(28, 28)\n",
        "arr.shape"
      ],
      "execution_count": null,
      "outputs": [
        {
          "output_type": "execute_result",
          "data": {
            "text/plain": [
              "(28, 28)"
            ]
          },
          "metadata": {
            "tags": []
          },
          "execution_count": 68
        }
      ]
    },
    {
      "cell_type": "code",
      "metadata": {
        "colab": {
          "base_uri": "https://localhost:8080/"
        },
        "id": "c7Hto951oeyF",
        "outputId": "1de5ddad-9684-489c-edf3-7714e1ef1af2"
      },
      "source": [
        "temp_arr = arr[np.newaxis, ..., np.newaxis]\n",
        "temp_arr.shape"
      ],
      "execution_count": null,
      "outputs": [
        {
          "output_type": "execute_result",
          "data": {
            "text/plain": [
              "(1, 28, 28, 1)"
            ]
          },
          "metadata": {
            "tags": []
          },
          "execution_count": 70
        }
      ]
    },
    {
      "cell_type": "code",
      "metadata": {
        "colab": {
          "base_uri": "https://localhost:8080/"
        },
        "id": "oHMLRNL0oLor",
        "outputId": "e940b40a-37d7-433c-e155-737b6e363958"
      },
      "source": [
        "temp= arr[np.newaxis, :,:,np.newaxis]\n",
        "temp.shape"
      ],
      "execution_count": null,
      "outputs": [
        {
          "output_type": "execute_result",
          "data": {
            "text/plain": [
              "(1, 28, 28, 1)"
            ]
          },
          "metadata": {
            "tags": []
          },
          "execution_count": 69
        }
      ]
    },
    {
      "cell_type": "code",
      "metadata": {
        "id": "Sn-osqs3oil9"
      },
      "source": [
        ""
      ],
      "execution_count": null,
      "outputs": []
    },
    {
      "cell_type": "code",
      "metadata": {
        "id": "sA08O02ZopGO"
      },
      "source": [
        "#차원 쥐어 짜기\n",
        "#np.squeeze 개수가 1인 차원의 내용을 없애는 기법"
      ],
      "execution_count": null,
      "outputs": []
    },
    {
      "cell_type": "code",
      "metadata": {
        "colab": {
          "base_uri": "https://localhost:8080/"
        },
        "id": "tWASBVp1o0bK",
        "outputId": "50b1b840-efb2-4419-88f7-b6d799d23bbf"
      },
      "source": [
        "temp.shape"
      ],
      "execution_count": null,
      "outputs": [
        {
          "output_type": "execute_result",
          "data": {
            "text/plain": [
              "(1, 28, 28, 1)"
            ]
          },
          "metadata": {
            "tags": []
          },
          "execution_count": 72
        }
      ]
    },
    {
      "cell_type": "code",
      "metadata": {
        "colab": {
          "base_uri": "https://localhost:8080/"
        },
        "id": "tWFD-vB0o14o",
        "outputId": "dd28bd74-c34e-471b-825d-0930fa026b6d"
      },
      "source": [
        "temp_squeeze = np.squeeze(temp)\n",
        "temp_squeeze.shape"
      ],
      "execution_count": null,
      "outputs": [
        {
          "output_type": "execute_result",
          "data": {
            "text/plain": [
              "(28, 28)"
            ]
          },
          "metadata": {
            "tags": []
          },
          "execution_count": 74
        }
      ]
    },
    {
      "cell_type": "code",
      "metadata": {
        "id": "yHuc_v8Ro9nx"
      },
      "source": [
        "#평탄화\n",
        "#2차원 배열을 1차원 배열로 평평하게 해주는것 중요!!!! 무조건 1차원으로만"
      ],
      "execution_count": null,
      "outputs": []
    },
    {
      "cell_type": "markdown",
      "metadata": {
        "id": "jjrdD_31pvQ3"
      },
      "source": [
        "평탄화\n",
        "2차원 이상의 배열을 1차원 배열로 평평하게 펴주는 것 (★★★★★)\n",
        "ravel : 원본 배열을 평탄화 시킨 참조배열을 만들어 낸다. (View 또는 Reference라고 한다.)\n",
        "flatten : 원본 배열을 평탄화 시킨 복사된배열을 만들어 낸다.\n",
        "ravel은 원본 배열에 수정이 가해질 가능성이 있고, flatten은 원본 배열에 영향을 미치지 않는다."
      ]
    },
    {
      "cell_type": "code",
      "metadata": {
        "colab": {
          "base_uri": "https://localhost:8080/"
        },
        "id": "NRJmLsEXpaEG",
        "outputId": "e0c57776-922b-415b-826f-f6ba4046f716"
      },
      "source": [
        "x = np.random.randint(15, size=(3,5))\n",
        "x.shape"
      ],
      "execution_count": null,
      "outputs": [
        {
          "output_type": "execute_result",
          "data": {
            "text/plain": [
              "(3, 5)"
            ]
          },
          "metadata": {
            "tags": []
          },
          "execution_count": 76
        }
      ]
    },
    {
      "cell_type": "code",
      "metadata": {
        "colab": {
          "base_uri": "https://localhost:8080/"
        },
        "id": "xLfEgp7np12A",
        "outputId": "335cbffb-f5dd-4c47-9680-45f02e3cded5"
      },
      "source": [
        "x\n"
      ],
      "execution_count": null,
      "outputs": [
        {
          "output_type": "execute_result",
          "data": {
            "text/plain": [
              "array([[ 8,  5,  5, 10,  5],\n",
              "       [14,  0, 10,  7, 13],\n",
              "       [ 2,  5,  1, 13, 11]])"
            ]
          },
          "metadata": {
            "tags": []
          },
          "execution_count": 77
        }
      ]
    },
    {
      "cell_type": "code",
      "metadata": {
        "id": "Fe8avHL2p3_V"
      },
      "source": [
        "#ravel"
      ],
      "execution_count": null,
      "outputs": []
    },
    {
      "cell_type": "code",
      "metadata": {
        "id": "hJuy0l8Ep6b9"
      },
      "source": [
        "temp = np.ravel(x) # 위의 x를 1차원으로 평탄화 1차원으로 만듬\n"
      ],
      "execution_count": null,
      "outputs": []
    },
    {
      "cell_type": "code",
      "metadata": {
        "colab": {
          "base_uri": "https://localhost:8080/"
        },
        "id": "BwCqU-bHp8Fh",
        "outputId": "0e21e2ae-1774-4276-d231-24bdd5f9cde9"
      },
      "source": [
        "temp.shape"
      ],
      "execution_count": null,
      "outputs": [
        {
          "output_type": "execute_result",
          "data": {
            "text/plain": [
              "(15,)"
            ]
          },
          "metadata": {
            "tags": []
          },
          "execution_count": 80
        }
      ]
    },
    {
      "cell_type": "code",
      "metadata": {
        "colab": {
          "base_uri": "https://localhost:8080/"
        },
        "id": "SYisMYIMp9uy",
        "outputId": "45ec574b-f2bc-4285-fa75-6a81d329bf8b"
      },
      "source": [
        "temp"
      ],
      "execution_count": null,
      "outputs": [
        {
          "output_type": "execute_result",
          "data": {
            "text/plain": [
              "array([ 8,  5,  5, 10,  5, 14,  0, 10,  7, 13,  2,  5,  1, 13, 11])"
            ]
          },
          "metadata": {
            "tags": []
          },
          "execution_count": 81
        }
      ]
    },
    {
      "cell_type": "code",
      "metadata": {
        "id": "l8vAxLFUp_Uy"
      },
      "source": [
        "temp[0] =100"
      ],
      "execution_count": null,
      "outputs": []
    },
    {
      "cell_type": "code",
      "metadata": {
        "colab": {
          "base_uri": "https://localhost:8080/"
        },
        "id": "q-j_piHRqJAH",
        "outputId": "3d024eb4-b7a8-433b-9fd9-028972ffc8c8"
      },
      "source": [
        "temp"
      ],
      "execution_count": null,
      "outputs": [
        {
          "output_type": "execute_result",
          "data": {
            "text/plain": [
              "array([100,   5,   5,  10,   5,  14,   0,  10,   7,  13,   2,   5,   1,\n",
              "        13,  11])"
            ]
          },
          "metadata": {
            "tags": []
          },
          "execution_count": 83
        }
      ]
    },
    {
      "cell_type": "code",
      "metadata": {
        "colab": {
          "base_uri": "https://localhost:8080/"
        },
        "id": "J7IOky9eqJbb",
        "outputId": "055b044b-6b1f-4905-9675-88974697b4e2"
      },
      "source": [
        "x #x도 같이 바뀜"
      ],
      "execution_count": null,
      "outputs": [
        {
          "output_type": "execute_result",
          "data": {
            "text/plain": [
              "array([[100,   5,   5,  10,   5],\n",
              "       [ 14,   0,  10,   7,  13],\n",
              "       [  2,   5,   1,  13,  11]])"
            ]
          },
          "metadata": {
            "tags": []
          },
          "execution_count": 84
        }
      ]
    },
    {
      "cell_type": "code",
      "metadata": {
        "colab": {
          "base_uri": "https://localhost:8080/"
        },
        "id": "6mJ8xJkuqLe9",
        "outputId": "8c8f38cf-e788-4eb6-d24c-7c4e5d88c4bf"
      },
      "source": [
        "x[1][3] =5000 #ravel 로 만든 temp는 원본이 바뀌면 temp도 바뀐다 주소가 서로 같기 때문에\n",
        "temp"
      ],
      "execution_count": null,
      "outputs": [
        {
          "output_type": "execute_result",
          "data": {
            "text/plain": [
              "array([ 100,    5,    5,   10,    5,   14,    0,   10, 5000,   13,    2,\n",
              "          5,    1,   13,   11])"
            ]
          },
          "metadata": {
            "tags": []
          },
          "execution_count": 85
        }
      ]
    },
    {
      "cell_type": "code",
      "metadata": {
        "id": "ZeXHvHCfrk2M"
      },
      "source": [
        "#flatten"
      ],
      "execution_count": null,
      "outputs": []
    },
    {
      "cell_type": "code",
      "metadata": {
        "id": "wFSfgMylrsL_"
      },
      "source": [
        "temp_flat = x.flatten()"
      ],
      "execution_count": null,
      "outputs": []
    },
    {
      "cell_type": "code",
      "metadata": {
        "colab": {
          "base_uri": "https://localhost:8080/"
        },
        "id": "yBtOHJkVrvRN",
        "outputId": "4fd44817-0f1c-4303-97cb-dacc9e159362"
      },
      "source": [
        "temp_flat"
      ],
      "execution_count": null,
      "outputs": [
        {
          "output_type": "execute_result",
          "data": {
            "text/plain": [
              "array([ 100,    5,    5,   10,    5,   14,    0,   10, 5000,   13,    2,\n",
              "          5,    1,   13,   11])"
            ]
          },
          "metadata": {
            "tags": []
          },
          "execution_count": 89
        }
      ]
    },
    {
      "cell_type": "code",
      "metadata": {
        "colab": {
          "base_uri": "https://localhost:8080/"
        },
        "id": "vvr5oxYbrwl9",
        "outputId": "8e1ec283-0a3f-4af3-81b4-ba74c4b2ddbd"
      },
      "source": [
        "temp_flat[0] = 1234234\n",
        "temp_flat"
      ],
      "execution_count": null,
      "outputs": [
        {
          "output_type": "execute_result",
          "data": {
            "text/plain": [
              "array([1234234,       5,       5,      10,       5,      14,       0,\n",
              "            10,    5000,      13,       2,       5,       1,      13,\n",
              "            11])"
            ]
          },
          "metadata": {
            "tags": []
          },
          "execution_count": 92
        }
      ]
    },
    {
      "cell_type": "code",
      "metadata": {
        "colab": {
          "base_uri": "https://localhost:8080/"
        },
        "id": "qvv4ZkLAr2qa",
        "outputId": "e98f7db3-7537-4943-ea5e-53f474c71d24"
      },
      "source": [
        "x"
      ],
      "execution_count": null,
      "outputs": [
        {
          "output_type": "execute_result",
          "data": {
            "text/plain": [
              "array([[ 100,    5,    5,   10,    5],\n",
              "       [  14,    0,   10, 5000,   13],\n",
              "       [   2,    5,    1,   13,   11]])"
            ]
          },
          "metadata": {
            "tags": []
          },
          "execution_count": 93
        }
      ]
    },
    {
      "cell_type": "code",
      "metadata": {
        "id": "hG8fNCi3r3ui"
      },
      "source": [
        "#flatten은 원본데이터를 안전하게 관리할 수 있다."
      ],
      "execution_count": null,
      "outputs": []
    },
    {
      "cell_type": "code",
      "metadata": {
        "id": "vWdVKJzHsFeb"
      },
      "source": [
        "# 스택에는 로컬 변수만 들어간다.\n",
        "#heap에는 객체만 들어간다.\n",
        "#static에는 함수가 들어간다. static은 메소드 클래스라고 한다."
      ],
      "execution_count": null,
      "outputs": []
    },
    {
      "cell_type": "code",
      "metadata": {
        "id": "kNHaAY2psTu5"
      },
      "source": [
        "#reshape"
      ],
      "execution_count": null,
      "outputs": []
    },
    {
      "cell_type": "code",
      "metadata": {
        "id": "hk8gAj0ksWXF"
      },
      "source": [
        "a = np.random.randint(40, size=(2,3,3))"
      ],
      "execution_count": null,
      "outputs": []
    },
    {
      "cell_type": "code",
      "metadata": {
        "colab": {
          "base_uri": "https://localhost:8080/"
        },
        "id": "VjdVubTJ_Fbq",
        "outputId": "b5dfed5b-7ce6-4e1d-917a-0b6c381fc698"
      },
      "source": [
        "a"
      ],
      "execution_count": null,
      "outputs": [
        {
          "output_type": "execute_result",
          "data": {
            "text/plain": [
              "array([[[23, 11, 39],\n",
              "        [22, 27, 39],\n",
              "        [21, 18, 37]],\n",
              "\n",
              "       [[39, 17, 27],\n",
              "        [15, 10, 39],\n",
              "        [11, 17, 31]]])"
            ]
          },
          "metadata": {
            "tags": []
          },
          "execution_count": 125
        }
      ]
    },
    {
      "cell_type": "code",
      "metadata": {
        "colab": {
          "base_uri": "https://localhost:8080/"
        },
        "id": "u2Ad_u1q_F6V",
        "outputId": "0ed88472-a9d1-4892-a2ed-06da172b5dd1"
      },
      "source": [
        "np.max(a, axis=1)"
      ],
      "execution_count": null,
      "outputs": [
        {
          "output_type": "execute_result",
          "data": {
            "text/plain": [
              "array([[23, 27, 39],\n",
              "       [39, 17, 39]])"
            ]
          },
          "metadata": {
            "tags": []
          },
          "execution_count": 126
        }
      ]
    },
    {
      "cell_type": "code",
      "metadata": {
        "id": "EQ1jx6zk_Id7"
      },
      "source": [
        "x = np.arange(20)"
      ],
      "execution_count": null,
      "outputs": []
    },
    {
      "cell_type": "code",
      "metadata": {
        "colab": {
          "base_uri": "https://localhost:8080/"
        },
        "id": "lGlK2AFbBXSy",
        "outputId": "39ab764e-9ea1-4b3e-feec-58d2721dc84d"
      },
      "source": [
        "x"
      ],
      "execution_count": null,
      "outputs": [
        {
          "output_type": "execute_result",
          "data": {
            "text/plain": [
              "array([ 0,  1,  2,  3,  4,  5,  6,  7,  8,  9, 10, 11, 12, 13, 14, 15, 16,\n",
              "       17, 18, 19])"
            ]
          },
          "metadata": {
            "tags": []
          },
          "execution_count": 120
        }
      ]
    },
    {
      "cell_type": "code",
      "metadata": {
        "colab": {
          "base_uri": "https://localhost:8080/"
        },
        "id": "qhNwQOKZBX5v",
        "outputId": "7180bb4a-7c18-4a33-ee97-cdfc87e34a96"
      },
      "source": [
        "x.reshape(2,10)"
      ],
      "execution_count": null,
      "outputs": [
        {
          "output_type": "execute_result",
          "data": {
            "text/plain": [
              "array([[ 0,  1,  2,  3,  4,  5,  6,  7,  8,  9],\n",
              "       [10, 11, 12, 13, 14, 15, 16, 17, 18, 19]])"
            ]
          },
          "metadata": {
            "tags": []
          },
          "execution_count": 121
        }
      ]
    },
    {
      "cell_type": "code",
      "metadata": {
        "id": "VAp7MwSOBauQ"
      },
      "source": [
        "#reshape 팁 : reshape 함수 내의 모든 숫자들 곱했을 때 스칼라 원소의 개수와 같으면 된다."
      ],
      "execution_count": null,
      "outputs": []
    },
    {
      "cell_type": "code",
      "metadata": {
        "colab": {
          "base_uri": "https://localhost:8080/"
        },
        "id": "FoGf7fmqBqgK",
        "outputId": "4c0fa444-3c6e-4687-c2f9-197ac5548e2c"
      },
      "source": [
        "x.reshape(2,5,2)"
      ],
      "execution_count": null,
      "outputs": [
        {
          "output_type": "execute_result",
          "data": {
            "text/plain": [
              "array([[[ 0,  1],\n",
              "        [ 2,  3],\n",
              "        [ 4,  5],\n",
              "        [ 6,  7],\n",
              "        [ 8,  9]],\n",
              "\n",
              "       [[10, 11],\n",
              "        [12, 13],\n",
              "        [14, 15],\n",
              "        [16, 17],\n",
              "        [18, 19]]])"
            ]
          },
          "metadata": {
            "tags": []
          },
          "execution_count": 123
        }
      ]
    },
    {
      "cell_type": "code",
      "metadata": {
        "id": "1PPoMv89Bsyh"
      },
      "source": [
        "#reshape의 -1은 조커"
      ],
      "execution_count": null,
      "outputs": []
    },
    {
      "cell_type": "code",
      "metadata": {
        "colab": {
          "base_uri": "https://localhost:8080/"
        },
        "id": "WL8FfZLcB643",
        "outputId": "5d0e764c-5274-47d8-ce09-10ae016de7c1"
      },
      "source": [
        "x.reshape(2, -1,2)"
      ],
      "execution_count": null,
      "outputs": [
        {
          "output_type": "execute_result",
          "data": {
            "text/plain": [
              "array([[[ 0,  1],\n",
              "        [ 2,  3],\n",
              "        [ 4,  5],\n",
              "        [ 6,  7],\n",
              "        [ 8,  9]],\n",
              "\n",
              "       [[10, 11],\n",
              "        [12, 13],\n",
              "        [14, 15],\n",
              "        [16, 17],\n",
              "        [18, 19]]])"
            ]
          },
          "metadata": {
            "tags": []
          },
          "execution_count": 129
        }
      ]
    },
    {
      "cell_type": "code",
      "metadata": {
        "id": "pmSFAeuRB9Sj"
      },
      "source": [
        "#x.reshape(2, -1,-1) #이거는 에러가 발생"
      ],
      "execution_count": null,
      "outputs": []
    },
    {
      "cell_type": "code",
      "metadata": {
        "colab": {
          "base_uri": "https://localhost:8080/",
          "height": 291
        },
        "id": "XFjvMLJgCOxL",
        "outputId": "6a921a5f-e368-4ea0-9f22-bacbbe967ec2"
      },
      "source": [
        "# arr = np.random.randn((60000,28,28,1))\n",
        "# arr.shape"
      ],
      "execution_count": null,
      "outputs": [
        {
          "output_type": "error",
          "ename": "TypeError",
          "evalue": "ignored",
          "traceback": [
            "\u001b[0;31m---------------------------------------------------------------------------\u001b[0m",
            "\u001b[0;31mTypeError\u001b[0m                                 Traceback (most recent call last)",
            "\u001b[0;32m<ipython-input-132-4325518b11ac>\u001b[0m in \u001b[0;36m<module>\u001b[0;34m()\u001b[0m\n\u001b[0;32m----> 1\u001b[0;31m \u001b[0marr\u001b[0m \u001b[0;34m=\u001b[0m \u001b[0mnp\u001b[0m\u001b[0;34m.\u001b[0m\u001b[0mrandom\u001b[0m\u001b[0;34m.\u001b[0m\u001b[0mrandn\u001b[0m\u001b[0;34m(\u001b[0m\u001b[0;34m(\u001b[0m\u001b[0;36m60000\u001b[0m\u001b[0;34m,\u001b[0m\u001b[0;36m28\u001b[0m\u001b[0;34m,\u001b[0m\u001b[0;36m28\u001b[0m\u001b[0;34m,\u001b[0m\u001b[0;36m1\u001b[0m\u001b[0;34m)\u001b[0m\u001b[0;34m)\u001b[0m\u001b[0;34m\u001b[0m\u001b[0;34m\u001b[0m\u001b[0m\n\u001b[0m\u001b[1;32m      2\u001b[0m \u001b[0marr\u001b[0m\u001b[0;34m.\u001b[0m\u001b[0mshape\u001b[0m\u001b[0;34m\u001b[0m\u001b[0;34m\u001b[0m\u001b[0m\n",
            "\u001b[0;32mmtrand.pyx\u001b[0m in \u001b[0;36mnumpy.random.mtrand.RandomState.randn\u001b[0;34m()\u001b[0m\n",
            "\u001b[0;32mmtrand.pyx\u001b[0m in \u001b[0;36mnumpy.random.mtrand.RandomState.standard_normal\u001b[0;34m()\u001b[0m\n",
            "\u001b[0;32m_common.pyx\u001b[0m in \u001b[0;36mnumpy.random._common.cont\u001b[0;34m()\u001b[0m\n",
            "\u001b[0;31mTypeError\u001b[0m: 'tuple' object cannot be interpreted as an integer"
          ]
        }
      ]
    },
    {
      "cell_type": "code",
      "metadata": {
        "colab": {
          "base_uri": "https://localhost:8080/",
          "height": 168
        },
        "id": "vvWB7X_dCVl_",
        "outputId": "515a31b2-fc28-4339-ea96-ca3c6304202c"
      },
      "source": [
        "# arr.reshape(600, -1)"
      ],
      "execution_count": null,
      "outputs": [
        {
          "output_type": "error",
          "ename": "ValueError",
          "evalue": "ignored",
          "traceback": [
            "\u001b[0;31m---------------------------------------------------------------------------\u001b[0m",
            "\u001b[0;31mValueError\u001b[0m                                Traceback (most recent call last)",
            "\u001b[0;32m<ipython-input-133-3be6bd52f20d>\u001b[0m in \u001b[0;36m<module>\u001b[0;34m()\u001b[0m\n\u001b[0;32m----> 1\u001b[0;31m \u001b[0marr\u001b[0m\u001b[0;34m.\u001b[0m\u001b[0mreshape\u001b[0m\u001b[0;34m(\u001b[0m\u001b[0;36m600\u001b[0m\u001b[0;34m,\u001b[0m \u001b[0;34m-\u001b[0m\u001b[0;36m1\u001b[0m\u001b[0;34m)\u001b[0m\u001b[0;34m\u001b[0m\u001b[0;34m\u001b[0m\u001b[0m\n\u001b[0m",
            "\u001b[0;31mValueError\u001b[0m: cannot reshape array of size 784 into shape (600,newaxis)"
          ]
        }
      ]
    },
    {
      "cell_type": "code",
      "metadata": {
        "id": "GrD5ivjiEWBC"
      },
      "source": [
        "#브로드 캐스팅\n",
        "\n",
        "#차원수가 다른 배열끼리 연산\n",
        "#차원이 달라도 0차원 스칼라의 개수가 똑같으면 연산이 가능\n",
        "#저차원 배열을 고차원 배열로 확장\n",
        "#수학적으로 따지게 되면 고차원 배열의 shape과 똑같이 생긴 1벡터를 만들어서 저차원 배열과 곱한 배열을 만들어서 계산\n",
        "#저차원을 고차원으로 임시로 늘여준다."
      ],
      "execution_count": null,
      "outputs": []
    },
    {
      "cell_type": "code",
      "metadata": {
        "id": "JHs9D9JhGDxz"
      },
      "source": [
        "#shape 이 다를 때의 연산"
      ],
      "execution_count": null,
      "outputs": []
    },
    {
      "cell_type": "markdown",
      "metadata": {
        "id": "r54baOLvGbZn"
      },
      "source": [
        ""
      ]
    },
    {
      "cell_type": "markdown",
      "metadata": {
        "id": "c5Cd8xKiFJRa"
      },
      "source": [
        "# shape이 다를 때의 연산"
      ]
    },
    {
      "cell_type": "code",
      "metadata": {
        "id": "2tDP2UgoGNsh"
      },
      "source": [
        "a = np.arange(12).reshape(4, 3)  # (4, 3)\n",
        "b = np.arange(100, 103)          # ()\n",
        "c = np.arange(1000, 1004) \n",
        "d = np.arange(100, 103) \n",
        "e = np.arange(100, 103) "
      ],
      "execution_count": null,
      "outputs": []
    },
    {
      "cell_type": "code",
      "metadata": {
        "id": "noRM-kNIIUeV"
      },
      "source": [
        "#전치행렬\n",
        "#행렬 a의 행과 열의 인덱스를 바꾼것을 전치행렬\n",
        "#aij를 aji로 바꾼것\n",
        "#인덱스가 한개일때 는 전치가 안된다.\n",
        "#인덱스가 한개 1차원 배열 일때는 reshpapeㄱ"
      ],
      "execution_count": null,
      "outputs": []
    },
    {
      "cell_type": "code",
      "metadata": {
        "id": "4zQ_qeuqaFCH"
      },
      "source": [
        ""
      ],
      "execution_count": null,
      "outputs": []
    }
  ]
}