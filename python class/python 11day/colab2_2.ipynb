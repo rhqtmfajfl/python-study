{
  "nbformat": 4,
  "nbformat_minor": 0,
  "metadata": {
    "colab": {
      "name": "colab2-2.ipynb",
      "provenance": [],
      "collapsed_sections": []
    },
    "kernelspec": {
      "name": "python3",
      "display_name": "Python 3"
    },
    "language_info": {
      "name": "python"
    }
  },
  "cells": [
    {
      "cell_type": "code",
      "metadata": {
        "id": "SIQaZICThkXS"
      },
      "source": [
        "import numpy as np\n",
        "import pandas as pd"
      ],
      "execution_count": 33,
      "outputs": []
    },
    {
      "cell_type": "code",
      "metadata": {
        "id": "-wCO2HO-hndx"
      },
      "source": [
        "t = [i*3 for i in range(1,11)]"
      ],
      "execution_count": null,
      "outputs": []
    },
    {
      "cell_type": "code",
      "metadata": {
        "id": "t-tpxwtehp7S"
      },
      "source": [
        "a = [1,2,3]\n",
        "b = [4,5,6]\n",
        "c = [a,b]"
      ],
      "execution_count": null,
      "outputs": []
    },
    {
      "cell_type": "code",
      "metadata": {
        "id": "2sR2qCyUhvgA"
      },
      "source": [
        "np1 = np.array(t)"
      ],
      "execution_count": null,
      "outputs": []
    },
    {
      "cell_type": "code",
      "metadata": {
        "colab": {
          "base_uri": "https://localhost:8080/"
        },
        "id": "tCoehNG5hxgL",
        "outputId": "accca957-4b9d-4d95-ad77-74436616a75e"
      },
      "source": [
        "type(np1)"
      ],
      "execution_count": null,
      "outputs": [
        {
          "output_type": "execute_result",
          "data": {
            "text/plain": [
              "numpy.ndarray"
            ]
          },
          "metadata": {
            "tags": []
          },
          "execution_count": 20
        }
      ]
    },
    {
      "cell_type": "code",
      "metadata": {
        "colab": {
          "base_uri": "https://localhost:8080/"
        },
        "id": "d5C2_m-Bhych",
        "outputId": "0ab3326d-b9b9-48cb-b39a-adb4a76c4528"
      },
      "source": [
        "np1"
      ],
      "execution_count": null,
      "outputs": [
        {
          "output_type": "execute_result",
          "data": {
            "text/plain": [
              "array([ 3,  6,  9, 12, 15, 18, 21, 24, 27, 30])"
            ]
          },
          "metadata": {
            "tags": []
          },
          "execution_count": 21
        }
      ]
    },
    {
      "cell_type": "code",
      "metadata": {
        "id": "4xnjSfC2hzUe"
      },
      "source": [
        "tt1 = [i for i in range(1, 10, 2)]\n",
        "tt2 = [i*3 for i in range(5, 10,3)]\n",
        "tt3 = [i for i in range(1, 20, 5)]"
      ],
      "execution_count": null,
      "outputs": []
    },
    {
      "cell_type": "code",
      "metadata": {
        "id": "Y9HgR1gbiD92"
      },
      "source": [
        "ttt = [tt1, tt2, tt3]"
      ],
      "execution_count": null,
      "outputs": []
    },
    {
      "cell_type": "code",
      "metadata": {
        "colab": {
          "base_uri": "https://localhost:8080/"
        },
        "id": "0FtahKbeiGjw",
        "outputId": "b6eb6cd5-b658-42cf-94eb-287558586b9c"
      },
      "source": [
        "np22 = np.array(ttt)"
      ],
      "execution_count": null,
      "outputs": [
        {
          "output_type": "stream",
          "text": [
            "/usr/local/lib/python3.7/dist-packages/ipykernel_launcher.py:1: VisibleDeprecationWarning: Creating an ndarray from ragged nested sequences (which is a list-or-tuple of lists-or-tuples-or ndarrays with different lengths or shapes) is deprecated. If you meant to do this, you must specify 'dtype=object' when creating the ndarray\n",
            "  \"\"\"Entry point for launching an IPython kernel.\n"
          ],
          "name": "stderr"
        }
      ]
    },
    {
      "cell_type": "code",
      "metadata": {
        "colab": {
          "base_uri": "https://localhost:8080/"
        },
        "id": "1P890dpbiI9M",
        "outputId": "95d8155a-4c00-489f-de49-07fddf78d3f5"
      },
      "source": [
        "type(ttt)"
      ],
      "execution_count": null,
      "outputs": [
        {
          "output_type": "execute_result",
          "data": {
            "text/plain": [
              "list"
            ]
          },
          "metadata": {
            "tags": []
          },
          "execution_count": 25
        }
      ]
    },
    {
      "cell_type": "code",
      "metadata": {
        "colab": {
          "base_uri": "https://localhost:8080/"
        },
        "id": "FE3xAAOliLVh",
        "outputId": "282738e7-b69c-44e1-a2fc-8076afaba4df"
      },
      "source": [
        "np22"
      ],
      "execution_count": null,
      "outputs": [
        {
          "output_type": "execute_result",
          "data": {
            "text/plain": [
              "array([list([1, 3, 5, 7, 9]), list([15, 24]), list([1, 6, 11, 16])],\n",
              "      dtype=object)"
            ]
          },
          "metadata": {
            "tags": []
          },
          "execution_count": 26
        }
      ]
    },
    {
      "cell_type": "code",
      "metadata": {
        "colab": {
          "base_uri": "https://localhost:8080/"
        },
        "id": "_EHyeqNYiNA7",
        "outputId": "5f49f8ca-5ebf-4e51-9885-0fc626217d6f"
      },
      "source": [
        "type(np22)"
      ],
      "execution_count": null,
      "outputs": [
        {
          "output_type": "execute_result",
          "data": {
            "text/plain": [
              "numpy.ndarray"
            ]
          },
          "metadata": {
            "tags": []
          },
          "execution_count": 27
        }
      ]
    },
    {
      "cell_type": "code",
      "metadata": {
        "id": "a3q7gO7IiR8e"
      },
      "source": [
        "np1 = np.array(t)"
      ],
      "execution_count": null,
      "outputs": []
    },
    {
      "cell_type": "code",
      "metadata": {
        "colab": {
          "base_uri": "https://localhost:8080/"
        },
        "id": "-Kbd-VotiXCG",
        "outputId": "6c9bd0fd-8daa-4ecc-cafb-606f8c0298ab"
      },
      "source": [
        "np1"
      ],
      "execution_count": null,
      "outputs": [
        {
          "output_type": "execute_result",
          "data": {
            "text/plain": [
              "array([ 3,  6,  9, 12, 15, 18, 21, 24, 27, 30])"
            ]
          },
          "metadata": {
            "tags": []
          },
          "execution_count": 29
        }
      ]
    },
    {
      "cell_type": "code",
      "metadata": {
        "colab": {
          "base_uri": "https://localhost:8080/"
        },
        "id": "HTSEuLwliXuU",
        "outputId": "ba967fa6-73de-47f8-ada4-0ca2cd880dd7"
      },
      "source": [
        "np1 +1"
      ],
      "execution_count": null,
      "outputs": [
        {
          "output_type": "execute_result",
          "data": {
            "text/plain": [
              "array([ 4,  7, 10, 13, 16, 19, 22, 25, 28, 31])"
            ]
          },
          "metadata": {
            "tags": []
          },
          "execution_count": 30
        }
      ]
    },
    {
      "cell_type": "code",
      "metadata": {
        "colab": {
          "base_uri": "https://localhost:8080/"
        },
        "id": "qXj5rozIiYt0",
        "outputId": "c16d56f1-f464-4f67-bf3a-410048e1e3bb"
      },
      "source": [
        "np1.shape"
      ],
      "execution_count": null,
      "outputs": [
        {
          "output_type": "execute_result",
          "data": {
            "text/plain": [
              "(10,)"
            ]
          },
          "metadata": {
            "tags": []
          },
          "execution_count": 31
        }
      ]
    },
    {
      "cell_type": "code",
      "metadata": {
        "colab": {
          "base_uri": "https://localhost:8080/"
        },
        "id": "suojBMEJicc8",
        "outputId": "ef810b1e-135b-4733-ca96-27a2bb76a509"
      },
      "source": [
        "np1.mean()"
      ],
      "execution_count": null,
      "outputs": [
        {
          "output_type": "execute_result",
          "data": {
            "text/plain": [
              "16.5"
            ]
          },
          "metadata": {
            "tags": []
          },
          "execution_count": 32
        }
      ]
    },
    {
      "cell_type": "code",
      "metadata": {
        "id": "q_7Ef2Mridbu"
      },
      "source": [
        ""
      ],
      "execution_count": null,
      "outputs": []
    },
    {
      "cell_type": "code",
      "metadata": {
        "colab": {
          "base_uri": "https://localhost:8080/",
          "height": 170
        },
        "id": "5zjgwT3vihju",
        "outputId": "e60db50f-6470-414c-9b50-81ef9d29af21"
      },
      "source": [
        "ytes"
      ],
      "execution_count": null,
      "outputs": [
        {
          "output_type": "error",
          "ename": "NameError",
          "evalue": "ignored",
          "traceback": [
            "\u001b[0;31m---------------------------------------------------------------------------\u001b[0m",
            "\u001b[0;31mNameError\u001b[0m                                 Traceback (most recent call last)",
            "\u001b[0;32m<ipython-input-33-8ab611b72ed3>\u001b[0m in \u001b[0;36m<module>\u001b[0;34m()\u001b[0m\n\u001b[0;32m----> 1\u001b[0;31m \u001b[0mytes\u001b[0m\u001b[0;34m\u001b[0m\u001b[0;34m\u001b[0m\u001b[0m\n\u001b[0m",
            "\u001b[0;31mNameError\u001b[0m: name 'ytes' is not defined"
          ]
        }
      ]
    },
    {
      "cell_type": "code",
      "metadata": {
        "colab": {
          "base_uri": "https://localhost:8080/"
        },
        "id": "2mJbaav-ih2i",
        "outputId": "fba2bc6f-26c7-4763-815a-14fa3f1de4d6"
      },
      "source": [
        "np1.nbytes"
      ],
      "execution_count": null,
      "outputs": [
        {
          "output_type": "execute_result",
          "data": {
            "text/plain": [
              "80"
            ]
          },
          "metadata": {
            "tags": []
          },
          "execution_count": 34
        }
      ]
    },
    {
      "cell_type": "code",
      "metadata": {
        "colab": {
          "base_uri": "https://localhost:8080/"
        },
        "id": "F_VKmFOfii6h",
        "outputId": "0da1fe40-00de-42b6-a1de-81063827e7bd"
      },
      "source": [
        "a"
      ],
      "execution_count": null,
      "outputs": [
        {
          "output_type": "execute_result",
          "data": {
            "text/plain": [
              "[1, 2, 3]"
            ]
          },
          "metadata": {
            "tags": []
          },
          "execution_count": 35
        }
      ]
    },
    {
      "cell_type": "code",
      "metadata": {
        "colab": {
          "base_uri": "https://localhost:8080/"
        },
        "id": "1p1djJKeijj6",
        "outputId": "6808a3d4-3a5a-43bc-8812-e9fc366369e6"
      },
      "source": [
        "b"
      ],
      "execution_count": null,
      "outputs": [
        {
          "output_type": "execute_result",
          "data": {
            "text/plain": [
              "[4, 5, 6]"
            ]
          },
          "metadata": {
            "tags": []
          },
          "execution_count": 36
        }
      ]
    },
    {
      "cell_type": "code",
      "metadata": {
        "colab": {
          "base_uri": "https://localhost:8080/"
        },
        "id": "HSdzWxskij_6",
        "outputId": "c1e2cad4-ab3a-4b34-c41a-06abd1f3b2f6"
      },
      "source": [
        "c"
      ],
      "execution_count": null,
      "outputs": [
        {
          "output_type": "execute_result",
          "data": {
            "text/plain": [
              "[[1, 2, 3], [4, 5, 6]]"
            ]
          },
          "metadata": {
            "tags": []
          },
          "execution_count": 37
        }
      ]
    },
    {
      "cell_type": "code",
      "metadata": {
        "id": "-VtaL6DeikYo"
      },
      "source": [
        "np2 = np.array(c)"
      ],
      "execution_count": null,
      "outputs": []
    },
    {
      "cell_type": "code",
      "metadata": {
        "colab": {
          "base_uri": "https://localhost:8080/"
        },
        "id": "p6E-EPYRiliw",
        "outputId": "91d48817-6924-4f0c-c223-61b68903b005"
      },
      "source": [
        "np2.shape"
      ],
      "execution_count": null,
      "outputs": [
        {
          "output_type": "execute_result",
          "data": {
            "text/plain": [
              "(2, 3)"
            ]
          },
          "metadata": {
            "tags": []
          },
          "execution_count": 39
        }
      ]
    },
    {
      "cell_type": "code",
      "metadata": {
        "colab": {
          "base_uri": "https://localhost:8080/"
        },
        "id": "kXDhIWIZim3l",
        "outputId": "24aa5bc4-fc24-490b-83bf-6896e378b62d"
      },
      "source": [
        "np2"
      ],
      "execution_count": null,
      "outputs": [
        {
          "output_type": "execute_result",
          "data": {
            "text/plain": [
              "array([[1, 2, 3],\n",
              "       [4, 5, 6]])"
            ]
          },
          "metadata": {
            "tags": []
          },
          "execution_count": 40
        }
      ]
    },
    {
      "cell_type": "code",
      "metadata": {
        "colab": {
          "base_uri": "https://localhost:8080/"
        },
        "id": "gN1qnbIPinfX",
        "outputId": "9b0dc3c9-b1d1-45aa-9fed-4159f8a9e8ab"
      },
      "source": [
        "np2.nbytes"
      ],
      "execution_count": null,
      "outputs": [
        {
          "output_type": "execute_result",
          "data": {
            "text/plain": [
              "48"
            ]
          },
          "metadata": {
            "tags": []
          },
          "execution_count": 41
        }
      ]
    },
    {
      "cell_type": "code",
      "metadata": {
        "colab": {
          "base_uri": "https://localhost:8080/"
        },
        "id": "x7hb6vAOipUN",
        "outputId": "dab491be-40a1-4f4f-af3f-d727931012b1"
      },
      "source": [
        "np2 + 10"
      ],
      "execution_count": null,
      "outputs": [
        {
          "output_type": "execute_result",
          "data": {
            "text/plain": [
              "array([[11, 12, 13],\n",
              "       [14, 15, 16]])"
            ]
          },
          "metadata": {
            "tags": []
          },
          "execution_count": 42
        }
      ]
    },
    {
      "cell_type": "code",
      "metadata": {
        "colab": {
          "base_uri": "https://localhost:8080/"
        },
        "id": "78Sh9v23itS1",
        "outputId": "b02da474-fed0-4b35-bd15-067fb8183bfe"
      },
      "source": [
        "np2.T"
      ],
      "execution_count": null,
      "outputs": [
        {
          "output_type": "execute_result",
          "data": {
            "text/plain": [
              "array([[1, 4],\n",
              "       [2, 5],\n",
              "       [3, 6]])"
            ]
          },
          "metadata": {
            "tags": []
          },
          "execution_count": 43
        }
      ]
    },
    {
      "cell_type": "code",
      "metadata": {
        "id": "QhOKSLTYiuUz"
      },
      "source": [
        "tt1 = [i for i in range(2,21, 2)]"
      ],
      "execution_count": null,
      "outputs": []
    },
    {
      "cell_type": "code",
      "metadata": {
        "id": "vCKnCSKwiyFR"
      },
      "source": [
        "tt2 = [i*3 for i in range(1, 11)]"
      ],
      "execution_count": null,
      "outputs": []
    },
    {
      "cell_type": "code",
      "metadata": {
        "id": "HocNfib6i0hO"
      },
      "source": [
        "tt3 = [i for i in range(5,51,5)]"
      ],
      "execution_count": null,
      "outputs": []
    },
    {
      "cell_type": "code",
      "metadata": {
        "colab": {
          "base_uri": "https://localhost:8080/"
        },
        "id": "GXR71Ci-i3Uu",
        "outputId": "14e7e56f-bc0c-49ce-ee73-952c7b78fa94"
      },
      "source": [
        "tt1, tt2, tt3"
      ],
      "execution_count": null,
      "outputs": [
        {
          "output_type": "execute_result",
          "data": {
            "text/plain": [
              "([2, 4, 6, 8, 10, 12, 14, 16, 18, 20],\n",
              " [3, 6, 9, 12, 15, 18, 21, 24, 27, 30],\n",
              " [5, 10, 15, 20, 25, 30, 35, 40, 45, 50])"
            ]
          },
          "metadata": {
            "tags": []
          },
          "execution_count": 74
        }
      ]
    },
    {
      "cell_type": "code",
      "metadata": {
        "id": "8Sg1QFxIi4ZQ"
      },
      "source": [
        "ttt= [tt1,tt2,tt3]"
      ],
      "execution_count": null,
      "outputs": []
    },
    {
      "cell_type": "code",
      "metadata": {
        "id": "9_Kpw5asi6L1"
      },
      "source": [
        "np22 = np.array(ttt)"
      ],
      "execution_count": null,
      "outputs": []
    },
    {
      "cell_type": "code",
      "metadata": {
        "colab": {
          "base_uri": "https://localhost:8080/"
        },
        "id": "YD6Th9l7i738",
        "outputId": "c8ffa02a-5745-470c-aa78-5fd2352c693a"
      },
      "source": [
        "np22"
      ],
      "execution_count": null,
      "outputs": [
        {
          "output_type": "execute_result",
          "data": {
            "text/plain": [
              "array([[ 2,  4,  6,  8, 10, 12, 14, 16, 18, 20],\n",
              "       [ 3,  6,  9, 12, 15, 18, 21, 24, 27, 30],\n",
              "       [ 5, 10, 15, 20, 25, 30, 35, 40, 45, 50]])"
            ]
          },
          "metadata": {
            "tags": []
          },
          "execution_count": 77
        }
      ]
    },
    {
      "cell_type": "markdown",
      "metadata": {
        "id": "GT_R8EkHjxT4"
      },
      "source": [
        ""
      ]
    },
    {
      "cell_type": "code",
      "metadata": {
        "id": "D304y_smjHBb"
      },
      "source": [
        "tt1 = [i for i in range(1, 10)]"
      ],
      "execution_count": null,
      "outputs": []
    },
    {
      "cell_type": "code",
      "metadata": {
        "id": "mc5yOi7fjPEs"
      },
      "source": [
        "tt2 = [i for i in range(2, 11)]"
      ],
      "execution_count": null,
      "outputs": []
    },
    {
      "cell_type": "code",
      "metadata": {
        "id": "KTUj0PNJjSq4"
      },
      "source": [
        "tt3 = [i for i in range(5, 12,3)]"
      ],
      "execution_count": null,
      "outputs": []
    },
    {
      "cell_type": "code",
      "metadata": {
        "id": "5nku5oeFjU2e"
      },
      "source": [
        "ttt = [tt1, tt2, tt3]"
      ],
      "execution_count": null,
      "outputs": []
    },
    {
      "cell_type": "code",
      "metadata": {
        "colab": {
          "base_uri": "https://localhost:8080/"
        },
        "id": "xOqQx7VwjWtT",
        "outputId": "4c155ee2-2a27-4bc8-88ba-1fc0d6ea6eee"
      },
      "source": [
        "np22 = np.array(ttt)"
      ],
      "execution_count": null,
      "outputs": [
        {
          "output_type": "stream",
          "text": [
            "/usr/local/lib/python3.7/dist-packages/ipykernel_launcher.py:1: VisibleDeprecationWarning: Creating an ndarray from ragged nested sequences (which is a list-or-tuple of lists-or-tuples-or ndarrays with different lengths or shapes) is deprecated. If you meant to do this, you must specify 'dtype=object' when creating the ndarray\n",
            "  \"\"\"Entry point for launching an IPython kernel.\n"
          ],
          "name": "stderr"
        }
      ]
    },
    {
      "cell_type": "code",
      "metadata": {
        "colab": {
          "base_uri": "https://localhost:8080/"
        },
        "id": "N1yNTiLwj8Mp",
        "outputId": "01f929f1-6ad9-4513-a54f-acd489809b46"
      },
      "source": [
        "np22.sum(axis=1)"
      ],
      "execution_count": null,
      "outputs": [
        {
          "output_type": "execute_result",
          "data": {
            "text/plain": [
              "array([110, 165, 275])"
            ]
          },
          "metadata": {
            "tags": []
          },
          "execution_count": 78
        }
      ]
    },
    {
      "cell_type": "code",
      "metadata": {
        "colab": {
          "base_uri": "https://localhost:8080/",
          "height": 134
        },
        "id": "VP6NqoT_jYf5",
        "outputId": "79c4e8dc-6b1b-4ebb-d5a7-18c1060e0de0"
      },
      "source": [
        "a = []"
      ],
      "execution_count": null,
      "outputs": [
        {
          "output_type": "error",
          "ename": "SyntaxError",
          "evalue": "ignored",
          "traceback": [
            "\u001b[0;36m  File \u001b[0;32m\"<ipython-input-82-865e0b921b43>\"\u001b[0;36m, line \u001b[0;32m1\u001b[0m\n\u001b[0;31m    a = [][]\u001b[0m\n\u001b[0m           ^\u001b[0m\n\u001b[0;31mSyntaxError\u001b[0m\u001b[0;31m:\u001b[0m invalid syntax\n"
          ]
        }
      ]
    },
    {
      "cell_type": "code",
      "metadata": {
        "colab": {
          "base_uri": "https://localhost:8080/"
        },
        "id": "eTUMfpTukQh3",
        "outputId": "6c0a8c23-7ce1-4a34-ecc7-2a590078318c"
      },
      "source": [
        "a"
      ],
      "execution_count": null,
      "outputs": [
        {
          "output_type": "execute_result",
          "data": {
            "text/plain": [
              "0"
            ]
          },
          "metadata": {
            "tags": []
          },
          "execution_count": 80
        }
      ]
    },
    {
      "cell_type": "code",
      "metadata": {
        "colab": {
          "base_uri": "https://localhost:8080/"
        },
        "id": "u8vwpmflkRVt",
        "outputId": "4f41eba3-b8e3-4698-87fb-60c44ffa3a94"
      },
      "source": [
        "b"
      ],
      "execution_count": null,
      "outputs": [
        {
          "output_type": "execute_result",
          "data": {
            "text/plain": [
              "0"
            ]
          },
          "metadata": {
            "tags": []
          },
          "execution_count": 81
        }
      ]
    },
    {
      "cell_type": "code",
      "metadata": {
        "id": "KLh3rIeMkRwO"
      },
      "source": [
        "np11 = np.array([2,4,6,8,10])  "
      ],
      "execution_count": null,
      "outputs": []
    },
    {
      "cell_type": "code",
      "metadata": {
        "colab": {
          "base_uri": "https://localhost:8080/"
        },
        "id": "nZwBhM1LlciS",
        "outputId": "6e1eb61f-22f9-438c-a20f-6b5282f08a1a"
      },
      "source": [
        "np11.nbytes"
      ],
      "execution_count": null,
      "outputs": [
        {
          "output_type": "execute_result",
          "data": {
            "text/plain": [
              "40"
            ]
          },
          "metadata": {
            "tags": []
          },
          "execution_count": 84
        }
      ]
    },
    {
      "cell_type": "code",
      "metadata": {
        "colab": {
          "base_uri": "https://localhost:8080/"
        },
        "id": "y9OqpLmlldgM",
        "outputId": "922d2bf5-1748-4620-fb47-ee0152f9d320"
      },
      "source": [
        "np11.dtype"
      ],
      "execution_count": null,
      "outputs": [
        {
          "output_type": "execute_result",
          "data": {
            "text/plain": [
              "dtype('int64')"
            ]
          },
          "metadata": {
            "tags": []
          },
          "execution_count": 85
        }
      ]
    },
    {
      "cell_type": "code",
      "metadata": {
        "id": "PhFBIzZRleyM"
      },
      "source": [
        "np12 = np.array([2,4,6,8,10], dtype =np.int16)"
      ],
      "execution_count": null,
      "outputs": []
    },
    {
      "cell_type": "code",
      "metadata": {
        "id": "6M8Ud5gcljxd"
      },
      "source": [
        "np200 = np.array([2.3, 4.5, 6.7])"
      ],
      "execution_count": null,
      "outputs": []
    },
    {
      "cell_type": "code",
      "metadata": {
        "colab": {
          "base_uri": "https://localhost:8080/",
          "height": 134
        },
        "id": "gRcu-6lolpKp",
        "outputId": "d727bbd8-6297-4a59-edf5-444030c5693c"
      },
      "source": [
        "for i in range(1, 10):"
      ],
      "execution_count": null,
      "outputs": [
        {
          "output_type": "error",
          "ename": "SyntaxError",
          "evalue": "ignored",
          "traceback": [
            "\u001b[0;36m  File \u001b[0;32m\"<ipython-input-88-6df1f476ba84>\"\u001b[0;36m, line \u001b[0;32m1\u001b[0m\n\u001b[0;31m    for i in range(1, 10):\u001b[0m\n\u001b[0m                          ^\u001b[0m\n\u001b[0;31mSyntaxError\u001b[0m\u001b[0;31m:\u001b[0m unexpected EOF while parsing\n"
          ]
        }
      ]
    },
    {
      "cell_type": "code",
      "metadata": {
        "id": "nk7oZEV16O6F"
      },
      "source": [
        ""
      ],
      "execution_count": null,
      "outputs": []
    },
    {
      "cell_type": "code",
      "metadata": {
        "colab": {
          "base_uri": "https://localhost:8080/"
        },
        "id": "68p_mI2vxp5w",
        "outputId": "0baea42e-7307-43c8-90e5-616f2c9ce304"
      },
      "source": [
        "for i in range(1, 10):\n",
        "  print('%d 단' % i)\n",
        "  for j in range(2,10):\n",
        "    a = i*j\n",
        "    print('%d x %d = %d'%(j,i, a))"
      ],
      "execution_count": null,
      "outputs": [
        {
          "output_type": "stream",
          "text": [
            "1 단\n",
            "2 x 1 = 2\n",
            "3 x 1 = 3\n",
            "4 x 1 = 4\n",
            "5 x 1 = 5\n",
            "6 x 1 = 6\n",
            "7 x 1 = 7\n",
            "8 x 1 = 8\n",
            "9 x 1 = 9\n",
            "2 단\n",
            "2 x 2 = 4\n",
            "3 x 2 = 6\n",
            "4 x 2 = 8\n",
            "5 x 2 = 10\n",
            "6 x 2 = 12\n",
            "7 x 2 = 14\n",
            "8 x 2 = 16\n",
            "9 x 2 = 18\n",
            "3 단\n",
            "2 x 3 = 6\n",
            "3 x 3 = 9\n",
            "4 x 3 = 12\n",
            "5 x 3 = 15\n",
            "6 x 3 = 18\n",
            "7 x 3 = 21\n",
            "8 x 3 = 24\n",
            "9 x 3 = 27\n",
            "4 단\n",
            "2 x 4 = 8\n",
            "3 x 4 = 12\n",
            "4 x 4 = 16\n",
            "5 x 4 = 20\n",
            "6 x 4 = 24\n",
            "7 x 4 = 28\n",
            "8 x 4 = 32\n",
            "9 x 4 = 36\n",
            "5 단\n",
            "2 x 5 = 10\n",
            "3 x 5 = 15\n",
            "4 x 5 = 20\n",
            "5 x 5 = 25\n",
            "6 x 5 = 30\n",
            "7 x 5 = 35\n",
            "8 x 5 = 40\n",
            "9 x 5 = 45\n",
            "6 단\n",
            "2 x 6 = 12\n",
            "3 x 6 = 18\n",
            "4 x 6 = 24\n",
            "5 x 6 = 30\n",
            "6 x 6 = 36\n",
            "7 x 6 = 42\n",
            "8 x 6 = 48\n",
            "9 x 6 = 54\n",
            "7 단\n",
            "2 x 7 = 14\n",
            "3 x 7 = 21\n",
            "4 x 7 = 28\n",
            "5 x 7 = 35\n",
            "6 x 7 = 42\n",
            "7 x 7 = 49\n",
            "8 x 7 = 56\n",
            "9 x 7 = 63\n",
            "8 단\n",
            "2 x 8 = 16\n",
            "3 x 8 = 24\n",
            "4 x 8 = 32\n",
            "5 x 8 = 40\n",
            "6 x 8 = 48\n",
            "7 x 8 = 56\n",
            "8 x 8 = 64\n",
            "9 x 8 = 72\n",
            "9 단\n",
            "2 x 9 = 18\n",
            "3 x 9 = 27\n",
            "4 x 9 = 36\n",
            "5 x 9 = 45\n",
            "6 x 9 = 54\n",
            "7 x 9 = 63\n",
            "8 x 9 = 72\n",
            "9 x 9 = 81\n"
          ],
          "name": "stdout"
        }
      ]
    },
    {
      "cell_type": "code",
      "metadata": {
        "colab": {
          "base_uri": "https://localhost:8080/"
        },
        "id": "kFG_UbYGyjD7",
        "outputId": "91727983-4ea2-4210-c8fe-cb0a078a6c92"
      },
      "source": [
        "array = [[i*j for j in range(2,10)] for i in range(1,10)]\n",
        "print(array)"
      ],
      "execution_count": null,
      "outputs": [
        {
          "output_type": "stream",
          "text": [
            "[[2, 3, 4, 5, 6, 7, 8, 9], [4, 6, 8, 10, 12, 14, 16, 18], [6, 9, 12, 15, 18, 21, 24, 27], [8, 12, 16, 20, 24, 28, 32, 36], [10, 15, 20, 25, 30, 35, 40, 45], [12, 18, 24, 30, 36, 42, 48, 54], [14, 21, 28, 35, 42, 49, 56, 63], [16, 24, 32, 40, 48, 56, 64, 72], [18, 27, 36, 45, 54, 63, 72, 81]]\n"
          ],
          "name": "stdout"
        }
      ]
    },
    {
      "cell_type": "code",
      "metadata": {
        "colab": {
          "base_uri": "https://localhost:8080/"
        },
        "id": "i2yafzT0zrtT",
        "outputId": "846218dd-3861-43a0-f3dc-98f7ded1a3dd"
      },
      "source": [
        "array = list([i*j for j in range(2,10)] for i in range(1,10))\n",
        "print(array)"
      ],
      "execution_count": null,
      "outputs": [
        {
          "output_type": "stream",
          "text": [
            "[[2, 3, 4, 5, 6, 7, 8, 9], [4, 6, 8, 10, 12, 14, 16, 18], [6, 9, 12, 15, 18, 21, 24, 27], [8, 12, 16, 20, 24, 28, 32, 36], [10, 15, 20, 25, 30, 35, 40, 45], [12, 18, 24, 30, 36, 42, 48, 54], [14, 21, 28, 35, 42, 49, 56, 63], [16, 24, 32, 40, 48, 56, 64, 72], [18, 27, 36, 45, 54, 63, 72, 81]]\n"
          ],
          "name": "stdout"
        }
      ]
    },
    {
      "cell_type": "code",
      "metadata": {
        "colab": {
          "base_uri": "https://localhost:8080/",
          "height": 134
        },
        "id": "JcCJ3WEx0ujX",
        "outputId": "b01f0c50-ab91-4a02-93d8-a7f0d29098bd"
      },
      "source": [
        "a = list(i for i in range(1,10))\n",
        "    print('%d 단' % i)\n",
        "    a= [i]\n",
        "        for j in range(2,10):\n",
        "          c= list('[j]*[i] ="
      ],
      "execution_count": null,
      "outputs": [
        {
          "output_type": "error",
          "ename": "IndentationError",
          "evalue": "ignored",
          "traceback": [
            "\u001b[0;36m  File \u001b[0;32m\"<ipython-input-99-8ab689e8054d>\"\u001b[0;36m, line \u001b[0;32m3\u001b[0m\n\u001b[0;31m    for j in range(2,10):\u001b[0m\n\u001b[0m    ^\u001b[0m\n\u001b[0;31mIndentationError\u001b[0m\u001b[0;31m:\u001b[0m unexpected indent\n"
          ]
        }
      ]
    },
    {
      "cell_type": "code",
      "metadata": {
        "id": "yxUSfenG3AIm"
      },
      "source": [
        "np12 = np.array(array, dtype =np.int16)"
      ],
      "execution_count": null,
      "outputs": []
    },
    {
      "cell_type": "code",
      "metadata": {
        "colab": {
          "base_uri": "https://localhost:8080/"
        },
        "id": "A1fBt7Ye5VuR",
        "outputId": "e4b2b535-f4cf-4321-9b1f-8ce6b9060c4f"
      },
      "source": [
        "np12.nbytes"
      ],
      "execution_count": null,
      "outputs": [
        {
          "output_type": "execute_result",
          "data": {
            "text/plain": [
              "144"
            ]
          },
          "metadata": {
            "tags": []
          },
          "execution_count": 101
        }
      ]
    },
    {
      "cell_type": "code",
      "metadata": {
        "colab": {
          "base_uri": "https://localhost:8080/",
          "height": 187
        },
        "id": "wO9ISEya6h4H",
        "outputId": "aad4032c-6ecb-4c16-871c-0adf1aaa821e"
      },
      "source": [
        "array[4] + 50\n",
        "print(array)"
      ],
      "execution_count": null,
      "outputs": [
        {
          "output_type": "error",
          "ename": "TypeError",
          "evalue": "ignored",
          "traceback": [
            "\u001b[0;31m---------------------------------------------------------------------------\u001b[0m",
            "\u001b[0;31mTypeError\u001b[0m                                 Traceback (most recent call last)",
            "\u001b[0;32m<ipython-input-103-1d9e2c36d2f9>\u001b[0m in \u001b[0;36m<module>\u001b[0;34m()\u001b[0m\n\u001b[0;32m----> 1\u001b[0;31m \u001b[0marray\u001b[0m\u001b[0;34m[\u001b[0m\u001b[0;36m4\u001b[0m\u001b[0;34m]\u001b[0m \u001b[0;34m+\u001b[0m \u001b[0;36m50\u001b[0m\u001b[0;34m\u001b[0m\u001b[0;34m\u001b[0m\u001b[0m\n\u001b[0m\u001b[1;32m      2\u001b[0m \u001b[0mprint\u001b[0m\u001b[0;34m(\u001b[0m\u001b[0marray\u001b[0m\u001b[0;34m)\u001b[0m\u001b[0;34m\u001b[0m\u001b[0;34m\u001b[0m\u001b[0m\n",
            "\u001b[0;31mTypeError\u001b[0m: can only concatenate list (not \"int\") to list"
          ]
        }
      ]
    },
    {
      "cell_type": "code",
      "metadata": {
        "colab": {
          "base_uri": "https://localhost:8080/",
          "height": 223
        },
        "id": "Y7QVD6M58BHK",
        "outputId": "e3ebecd4-6125-45f9-afda-a61daa87fba2"
      },
      "source": [
        "for i in range(1,10):\n",
        "  print('%d' % i)\n",
        "  for j in range(2,10):\n",
        "    \n",
        "    print( )  "
      ],
      "execution_count": null,
      "outputs": [
        {
          "output_type": "stream",
          "text": [
            "1\n"
          ],
          "name": "stdout"
        },
        {
          "output_type": "error",
          "ename": "TypeError",
          "evalue": "ignored",
          "traceback": [
            "\u001b[0;31m---------------------------------------------------------------------------\u001b[0m",
            "\u001b[0;31mTypeError\u001b[0m                                 Traceback (most recent call last)",
            "\u001b[0;32m<ipython-input-134-f2774ae54a39>\u001b[0m in \u001b[0;36m<module>\u001b[0;34m()\u001b[0m\n\u001b[1;32m      3\u001b[0m   \u001b[0;32mfor\u001b[0m \u001b[0mj\u001b[0m \u001b[0;32min\u001b[0m \u001b[0mrange\u001b[0m\u001b[0;34m(\u001b[0m\u001b[0;36m2\u001b[0m\u001b[0;34m,\u001b[0m\u001b[0;36m10\u001b[0m\u001b[0;34m)\u001b[0m\u001b[0;34m:\u001b[0m\u001b[0;34m\u001b[0m\u001b[0;34m\u001b[0m\u001b[0m\n\u001b[1;32m      4\u001b[0m \u001b[0;34m\u001b[0m\u001b[0m\n\u001b[0;32m----> 5\u001b[0;31m     \u001b[0mprint\u001b[0m\u001b[0;34m(\u001b[0m\u001b[0;34m'%d x %d = %d'\u001b[0m\u001b[0;34m%\u001b[0m\u001b[0;34m(\u001b[0m\u001b[0mlist\u001b[0m\u001b[0;34m(\u001b[0m\u001b[0mi\u001b[0m\u001b[0;34m,\u001b[0m\u001b[0mj\u001b[0m\u001b[0;34m,\u001b[0m \u001b[0mi\u001b[0m\u001b[0;34m*\u001b[0m\u001b[0mj\u001b[0m\u001b[0;34m)\u001b[0m\u001b[0;34m)\u001b[0m \u001b[0;34m)\u001b[0m\u001b[0;34m\u001b[0m\u001b[0;34m\u001b[0m\u001b[0m\n\u001b[0m",
            "\u001b[0;31mTypeError\u001b[0m: list expected at most 1 arguments, got 3"
          ]
        }
      ]
    },
    {
      "cell_type": "code",
      "metadata": {
        "colab": {
          "base_uri": "https://localhost:8080/"
        },
        "id": "-D-8Z7bOK3QK",
        "outputId": "38fe98de-46e2-4ae1-ad38-3ea3da4e94c3"
      },
      "source": [
        "a = list([i*j for j in range(2,10)] for i in range(1,10))\n",
        "print(a)"
      ],
      "execution_count": null,
      "outputs": [
        {
          "output_type": "stream",
          "text": [
            "[[2, 3, 4, 5, 6, 7, 8, 9], [4, 6, 8, 10, 12, 14, 16, 18], [6, 9, 12, 15, 18, 21, 24, 27], [8, 12, 16, 20, 24, 28, 32, 36], [10, 15, 20, 25, 30, 35, 40, 45], [12, 18, 24, 30, 36, 42, 48, 54], [14, 21, 28, 35, 42, 49, 56, 63], [16, 24, 32, 40, 48, 56, 64, 72], [18, 27, 36, 45, 54, 63, 72, 81]]\n"
          ],
          "name": "stdout"
        }
      ]
    },
    {
      "cell_type": "code",
      "metadata": {
        "colab": {
          "base_uri": "https://localhost:8080/"
        },
        "id": "-2VcGLd3Ror4",
        "outputId": "5694b1e9-a06c-4171-bf48-8cec28ef0053"
      },
      "source": [
        "array[2:3]"
      ],
      "execution_count": null,
      "outputs": [
        {
          "output_type": "execute_result",
          "data": {
            "text/plain": [
              "[[6, 9, 12, 15, 18, 21, 24, 27]]"
            ]
          },
          "metadata": {
            "tags": []
          },
          "execution_count": 138
        }
      ]
    },
    {
      "cell_type": "code",
      "metadata": {
        "colab": {
          "base_uri": "https://localhost:8080/",
          "height": 170
        },
        "id": "jc3Pl_BiR1pL",
        "outputId": "49aa9498-42be-4de1-8ef5-1b0e0b9a7b30"
      },
      "source": [
        "array[2:3] +50"
      ],
      "execution_count": null,
      "outputs": [
        {
          "output_type": "error",
          "ename": "TypeError",
          "evalue": "ignored",
          "traceback": [
            "\u001b[0;31m---------------------------------------------------------------------------\u001b[0m",
            "\u001b[0;31mTypeError\u001b[0m                                 Traceback (most recent call last)",
            "\u001b[0;32m<ipython-input-139-ca5969d302ac>\u001b[0m in \u001b[0;36m<module>\u001b[0;34m()\u001b[0m\n\u001b[0;32m----> 1\u001b[0;31m \u001b[0marray\u001b[0m\u001b[0;34m[\u001b[0m\u001b[0;36m2\u001b[0m\u001b[0;34m:\u001b[0m\u001b[0;36m3\u001b[0m\u001b[0;34m]\u001b[0m \u001b[0;34m+\u001b[0m\u001b[0;36m50\u001b[0m\u001b[0;34m\u001b[0m\u001b[0;34m\u001b[0m\u001b[0m\n\u001b[0m",
            "\u001b[0;31mTypeError\u001b[0m: can only concatenate list (not \"int\") to list"
          ]
        }
      ]
    },
    {
      "cell_type": "code",
      "metadata": {
        "colab": {
          "base_uri": "https://localhost:8080/",
          "height": 170
        },
        "id": "n2GlLQVcSCkW",
        "outputId": "66f6db27-2bc1-405a-b834-492f0be7d5ca"
      },
      "source": [
        "array[2:5,2:4]"
      ],
      "execution_count": null,
      "outputs": [
        {
          "output_type": "error",
          "ename": "TypeError",
          "evalue": "ignored",
          "traceback": [
            "\u001b[0;31m---------------------------------------------------------------------------\u001b[0m",
            "\u001b[0;31mTypeError\u001b[0m                                 Traceback (most recent call last)",
            "\u001b[0;32m<ipython-input-141-7af110dead7e>\u001b[0m in \u001b[0;36m<module>\u001b[0;34m()\u001b[0m\n\u001b[0;32m----> 1\u001b[0;31m \u001b[0marray\u001b[0m\u001b[0;34m[\u001b[0m\u001b[0;36m2\u001b[0m\u001b[0;34m:\u001b[0m\u001b[0;36m5\u001b[0m\u001b[0;34m,\u001b[0m\u001b[0;36m2\u001b[0m\u001b[0;34m:\u001b[0m\u001b[0;36m4\u001b[0m\u001b[0;34m]\u001b[0m\u001b[0;34m\u001b[0m\u001b[0;34m\u001b[0m\u001b[0m\n\u001b[0m",
            "\u001b[0;31mTypeError\u001b[0m: list indices must be integers or slices, not tuple"
          ]
        }
      ]
    },
    {
      "cell_type": "code",
      "metadata": {
        "colab": {
          "base_uri": "https://localhost:8080/",
          "height": 170
        },
        "id": "Bpk7mLpSSRcj",
        "outputId": "885ebe34-5af2-433d-a4f7-0010fcbc1679"
      },
      "source": [
        "a = np.array.reshape(8,9)"
      ],
      "execution_count": null,
      "outputs": [
        {
          "output_type": "error",
          "ename": "AttributeError",
          "evalue": "ignored",
          "traceback": [
            "\u001b[0;31m---------------------------------------------------------------------------\u001b[0m",
            "\u001b[0;31mAttributeError\u001b[0m                            Traceback (most recent call last)",
            "\u001b[0;32m<ipython-input-144-feb669653c9f>\u001b[0m in \u001b[0;36m<module>\u001b[0;34m()\u001b[0m\n\u001b[0;32m----> 1\u001b[0;31m \u001b[0ma\u001b[0m \u001b[0;34m=\u001b[0m \u001b[0mnp\u001b[0m\u001b[0;34m.\u001b[0m\u001b[0marray\u001b[0m\u001b[0;34m.\u001b[0m\u001b[0mreshape\u001b[0m\u001b[0;34m(\u001b[0m\u001b[0;36m8\u001b[0m\u001b[0;34m,\u001b[0m\u001b[0;36m9\u001b[0m\u001b[0;34m)\u001b[0m\u001b[0;34m\u001b[0m\u001b[0;34m\u001b[0m\u001b[0m\n\u001b[0m",
            "\u001b[0;31mAttributeError\u001b[0m: 'builtin_function_or_method' object has no attribute 'reshape'"
          ]
        }
      ]
    },
    {
      "cell_type": "code",
      "metadata": {
        "colab": {
          "base_uri": "https://localhost:8080/"
        },
        "id": "1WHv4tU0TICd",
        "outputId": "f67ff1e5-eacf-4015-bc63-f744699f6695"
      },
      "source": [
        "np.array"
      ],
      "execution_count": null,
      "outputs": [
        {
          "output_type": "execute_result",
          "data": {
            "text/plain": [
              "<function numpy.array>"
            ]
          },
          "metadata": {
            "tags": []
          },
          "execution_count": 145
        }
      ]
    },
    {
      "cell_type": "code",
      "metadata": {
        "id": "gmM6cMRIThfF"
      },
      "source": [
        "a = np.array"
      ],
      "execution_count": null,
      "outputs": []
    },
    {
      "cell_type": "code",
      "metadata": {
        "colab": {
          "base_uri": "https://localhost:8080/"
        },
        "id": "SkfDhN2XTlZA",
        "outputId": "abc551c7-466b-4d37-953d-330bafa55ba3"
      },
      "source": [
        "array"
      ],
      "execution_count": null,
      "outputs": [
        {
          "output_type": "execute_result",
          "data": {
            "text/plain": [
              "[[2, 3, 4, 5, 6, 7, 8, 9],\n",
              " [4, 6, 8, 10, 12, 14, 16, 18],\n",
              " [6, 9, 12, 15, 18, 21, 24, 27],\n",
              " [8, 12, 16, 20, 24, 28, 32, 36],\n",
              " [10, 15, 20, 25, 30, 35, 40, 45],\n",
              " [12, 18, 24, 30, 36, 42, 48, 54],\n",
              " [14, 21, 28, 35, 42, 49, 56, 63],\n",
              " [16, 24, 32, 40, 48, 56, 64, 72],\n",
              " [18, 27, 36, 45, 54, 63, 72, 81]]"
            ]
          },
          "metadata": {
            "tags": []
          },
          "execution_count": 149
        }
      ]
    },
    {
      "cell_type": "code",
      "metadata": {
        "colab": {
          "base_uri": "https://localhost:8080/",
          "height": 134
        },
        "id": "YLWZBNzVTjho",
        "outputId": "89b0de3e-0b8b-4046-ec05-fa7f39949521"
      },
      "source": [
        "a = np.array"
      ],
      "execution_count": null,
      "outputs": [
        {
          "output_type": "error",
          "ename": "SyntaxError",
          "evalue": "ignored",
          "traceback": [
            "\u001b[0;36m  File \u001b[0;32m\"<ipython-input-157-a927370ecd7b>\"\u001b[0;36m, line \u001b[0;32m1\u001b[0m\n\u001b[0;31m    a = np.array[]\u001b[0m\n\u001b[0m                 ^\u001b[0m\n\u001b[0;31mSyntaxError\u001b[0m\u001b[0;31m:\u001b[0m invalid syntax\n"
          ]
        }
      ]
    },
    {
      "cell_type": "code",
      "metadata": {
        "colab": {
          "base_uri": "https://localhost:8080/"
        },
        "id": "jIkFh76TT2nL",
        "outputId": "1caf9bc7-c926-496b-8b1b-f0ea64db1f39"
      },
      "source": [
        "a"
      ],
      "execution_count": null,
      "outputs": [
        {
          "output_type": "execute_result",
          "data": {
            "text/plain": [
              "<function numpy.array>"
            ]
          },
          "metadata": {
            "tags": []
          },
          "execution_count": 155
        }
      ]
    },
    {
      "cell_type": "code",
      "metadata": {
        "colab": {
          "base_uri": "https://localhost:8080/"
        },
        "id": "MMLR8B-dUHA_",
        "outputId": "8b66ff11-3e0f-453a-9cb8-fe39bd1904c4"
      },
      "source": [
        "print(a)"
      ],
      "execution_count": null,
      "outputs": [
        {
          "output_type": "stream",
          "text": [
            "<built-in function array>\n"
          ],
          "name": "stdout"
        }
      ]
    },
    {
      "cell_type": "code",
      "metadata": {
        "colab": {
          "base_uri": "https://localhost:8080/"
        },
        "id": "dM3VXt0ZUIAp",
        "outputId": "819673d1-d57c-4faa-91a7-7cf39a758ac4"
      },
      "source": [
        "a = list([i*j for j in range(2,10)] for i in range(1,10))\n",
        "print(a)"
      ],
      "execution_count": null,
      "outputs": [
        {
          "output_type": "stream",
          "text": [
            "[[2, 3, 4, 5, 6, 7, 8, 9], [4, 6, 8, 10, 12, 14, 16, 18], [6, 9, 12, 15, 18, 21, 24, 27], [8, 12, 16, 20, 24, 28, 32, 36], [10, 15, 20, 25, 30, 35, 40, 45], [12, 18, 24, 30, 36, 42, 48, 54], [14, 21, 28, 35, 42, 49, 56, 63], [16, 24, 32, 40, 48, 56, 64, 72], [18, 27, 36, 45, 54, 63, 72, 81]]\n"
          ],
          "name": "stdout"
        }
      ]
    },
    {
      "cell_type": "code",
      "metadata": {
        "colab": {
          "base_uri": "https://localhost:8080/",
          "height": 294
        },
        "id": "sYz8DIWpUQg-",
        "outputId": "4a4c8350-38e1-480c-f977-19465455964a"
      },
      "source": [
        "b = np.a()"
      ],
      "execution_count": null,
      "outputs": [
        {
          "output_type": "error",
          "ename": "AttributeError",
          "evalue": "ignored",
          "traceback": [
            "\u001b[0;31m---------------------------------------------------------------------------\u001b[0m",
            "\u001b[0;31mAttributeError\u001b[0m                            Traceback (most recent call last)",
            "\u001b[0;32m<ipython-input-160-a52f84d7ad39>\u001b[0m in \u001b[0;36m<module>\u001b[0;34m()\u001b[0m\n\u001b[0;32m----> 1\u001b[0;31m \u001b[0mb\u001b[0m \u001b[0;34m=\u001b[0m \u001b[0mnp\u001b[0m\u001b[0;34m.\u001b[0m\u001b[0ma\u001b[0m\u001b[0;34m(\u001b[0m\u001b[0;34m)\u001b[0m\u001b[0;34m\u001b[0m\u001b[0;34m\u001b[0m\u001b[0m\n\u001b[0m",
            "\u001b[0;32m/usr/local/lib/python3.7/dist-packages/numpy/__init__.py\u001b[0m in \u001b[0;36m__getattr__\u001b[0;34m(attr)\u001b[0m\n\u001b[1;32m    213\u001b[0m             \u001b[0;32melse\u001b[0m\u001b[0;34m:\u001b[0m\u001b[0;34m\u001b[0m\u001b[0;34m\u001b[0m\u001b[0m\n\u001b[1;32m    214\u001b[0m                 raise AttributeError(\"module {!r} has no attribute \"\n\u001b[0;32m--> 215\u001b[0;31m                                      \"{!r}\".format(__name__, attr))\n\u001b[0m\u001b[1;32m    216\u001b[0m \u001b[0;34m\u001b[0m\u001b[0m\n\u001b[1;32m    217\u001b[0m         \u001b[0;32mdef\u001b[0m \u001b[0m__dir__\u001b[0m\u001b[0;34m(\u001b[0m\u001b[0;34m)\u001b[0m\u001b[0;34m:\u001b[0m\u001b[0;34m\u001b[0m\u001b[0;34m\u001b[0m\u001b[0m\n",
            "\u001b[0;31mAttributeError\u001b[0m: module 'numpy' has no attribute 'a'"
          ]
        }
      ]
    },
    {
      "cell_type": "code",
      "metadata": {
        "colab": {
          "base_uri": "https://localhost:8080/",
          "height": 170
        },
        "id": "PGcd6jLdUSCO",
        "outputId": "89966660-2416-46fc-d4de-265b2e48d0cb"
      },
      "source": [
        "b = a.reshape(9,8)"
      ],
      "execution_count": null,
      "outputs": [
        {
          "output_type": "error",
          "ename": "AttributeError",
          "evalue": "ignored",
          "traceback": [
            "\u001b[0;31m---------------------------------------------------------------------------\u001b[0m",
            "\u001b[0;31mAttributeError\u001b[0m                            Traceback (most recent call last)",
            "\u001b[0;32m<ipython-input-164-da79b9c98124>\u001b[0m in \u001b[0;36m<module>\u001b[0;34m()\u001b[0m\n\u001b[0;32m----> 1\u001b[0;31m \u001b[0mb\u001b[0m \u001b[0;34m=\u001b[0m \u001b[0ma\u001b[0m\u001b[0;34m.\u001b[0m\u001b[0mreshape\u001b[0m\u001b[0;34m(\u001b[0m\u001b[0;36m9\u001b[0m\u001b[0;34m,\u001b[0m\u001b[0;36m8\u001b[0m\u001b[0;34m)\u001b[0m\u001b[0;34m\u001b[0m\u001b[0;34m\u001b[0m\u001b[0m\n\u001b[0m",
            "\u001b[0;31mAttributeError\u001b[0m: 'list' object has no attribute 'reshape'"
          ]
        }
      ]
    },
    {
      "cell_type": "code",
      "metadata": {
        "id": "mYuAlw9HUvL4",
        "colab": {
          "base_uri": "https://localhost:8080/"
        },
        "outputId": "29d00866-e639-411d-b0de-ef06f040a835"
      },
      "source": [
        "a = list([i*j for j in range(2,10)] for i in range(1,10))\n",
        "print(a)"
      ],
      "execution_count": 29,
      "outputs": [
        {
          "output_type": "stream",
          "text": [
            "[[2, 3, 4, 5, 6, 7, 8, 9], [4, 6, 8, 10, 12, 14, 16, 18], [6, 9, 12, 15, 18, 21, 24, 27], [8, 12, 16, 20, 24, 28, 32, 36], [10, 15, 20, 25, 30, 35, 40, 45], [12, 18, 24, 30, 36, 42, 48, 54], [14, 21, 28, 35, 42, 49, 56, 63], [16, 24, 32, 40, 48, 56, 64, 72], [18, 27, 36, 45, 54, 63, 72, 81]]\n"
          ],
          "name": "stdout"
        }
      ]
    },
    {
      "cell_type": "code",
      "metadata": {
        "colab": {
          "base_uri": "https://localhost:8080/",
          "height": 170
        },
        "id": "xT9kSX4yhO1L",
        "outputId": "e8fbc9ae-e3fd-4609-b2af-b23d61902f74"
      },
      "source": [
        "b = np.a"
      ],
      "execution_count": 32,
      "outputs": [
        {
          "output_type": "error",
          "ename": "NameError",
          "evalue": "ignored",
          "traceback": [
            "\u001b[0;31m---------------------------------------------------------------------------\u001b[0m",
            "\u001b[0;31mNameError\u001b[0m                                 Traceback (most recent call last)",
            "\u001b[0;32m<ipython-input-32-7b5b42f45472>\u001b[0m in \u001b[0;36m<module>\u001b[0;34m()\u001b[0m\n\u001b[0;32m----> 1\u001b[0;31m \u001b[0mb\u001b[0m \u001b[0;34m=\u001b[0m \u001b[0mnp\u001b[0m\u001b[0;34m.\u001b[0m\u001b[0ma\u001b[0m\u001b[0;34m\u001b[0m\u001b[0;34m\u001b[0m\u001b[0m\n\u001b[0m",
            "\u001b[0;31mNameError\u001b[0m: name 'np' is not defined"
          ]
        }
      ]
    },
    {
      "cell_type": "code",
      "metadata": {
        "colab": {
          "base_uri": "https://localhost:8080/",
          "height": 170
        },
        "id": "unJ7oBmNhTEx",
        "outputId": "71551e85-1cad-4888-b7e7-1a4d09c0a8eb"
      },
      "source": [
        "a[ :7 , 3: ] "
      ],
      "execution_count": 31,
      "outputs": [
        {
          "output_type": "error",
          "ename": "TypeError",
          "evalue": "ignored",
          "traceback": [
            "\u001b[0;31m---------------------------------------------------------------------------\u001b[0m",
            "\u001b[0;31mTypeError\u001b[0m                                 Traceback (most recent call last)",
            "\u001b[0;32m<ipython-input-31-89b893c65c95>\u001b[0m in \u001b[0;36m<module>\u001b[0;34m()\u001b[0m\n\u001b[0;32m----> 1\u001b[0;31m \u001b[0ma\u001b[0m\u001b[0;34m[\u001b[0m \u001b[0;34m:\u001b[0m\u001b[0;36m7\u001b[0m \u001b[0;34m,\u001b[0m \u001b[0;36m3\u001b[0m\u001b[0;34m:\u001b[0m \u001b[0;34m]\u001b[0m\u001b[0;34m\u001b[0m\u001b[0;34m\u001b[0m\u001b[0m\n\u001b[0m",
            "\u001b[0;31mTypeError\u001b[0m: list indices must be integers or slices, not tuple"
          ]
        }
      ]
    },
    {
      "cell_type": "code",
      "metadata": {
        "id": "3gVgAAa_hY44"
      },
      "source": [
        "np11 = np.array([2,4,6,8], dtype=np.int16)\n",
        "np12 = np.array([3,6,9,12,15], dtype=np.int16)"
      ],
      "execution_count": 38,
      "outputs": []
    },
    {
      "cell_type": "code",
      "metadata": {
        "colab": {
          "base_uri": "https://localhost:8080/"
        },
        "id": "C9CSrt7wl81h",
        "outputId": "ec0f1876-cda4-4705-a51d-9f80b106e955"
      },
      "source": [
        "np11.shape"
      ],
      "execution_count": 39,
      "outputs": [
        {
          "output_type": "execute_result",
          "data": {
            "text/plain": [
              "(4,)"
            ]
          },
          "metadata": {
            "tags": []
          },
          "execution_count": 39
        }
      ]
    },
    {
      "cell_type": "code",
      "metadata": {
        "id": "eRIUf-3El-Io"
      },
      "source": [
        "np11 +=5"
      ],
      "execution_count": 41,
      "outputs": []
    },
    {
      "cell_type": "code",
      "metadata": {
        "colab": {
          "base_uri": "https://localhost:8080/"
        },
        "id": "dNKKasr0mGoI",
        "outputId": "567c5a29-f796-4175-a49f-b96ef9b15eb1"
      },
      "source": [
        "np11"
      ],
      "execution_count": 42,
      "outputs": [
        {
          "output_type": "execute_result",
          "data": {
            "text/plain": [
              "array([ 7,  9, 11, 13], dtype=int16)"
            ]
          },
          "metadata": {
            "tags": []
          },
          "execution_count": 42
        }
      ]
    },
    {
      "cell_type": "code",
      "metadata": {
        "colab": {
          "base_uri": "https://localhost:8080/"
        },
        "id": "JF_Jb11YmJTs",
        "outputId": "fd610315-fd37-45c2-fc53-d4e4db3c9189"
      },
      "source": [
        "np11 > 10"
      ],
      "execution_count": 43,
      "outputs": [
        {
          "output_type": "execute_result",
          "data": {
            "text/plain": [
              "array([False, False,  True,  True])"
            ]
          },
          "metadata": {
            "tags": []
          },
          "execution_count": 43
        }
      ]
    },
    {
      "cell_type": "code",
      "metadata": {
        "colab": {
          "base_uri": "https://localhost:8080/"
        },
        "id": "m4GLRuzlmKq3",
        "outputId": "6089ed5a-9979-49c6-a0b5-3c8bb36d36db"
      },
      "source": [
        "np11 ==11"
      ],
      "execution_count": 44,
      "outputs": [
        {
          "output_type": "execute_result",
          "data": {
            "text/plain": [
              "array([False, False,  True, False])"
            ]
          },
          "metadata": {
            "tags": []
          },
          "execution_count": 44
        }
      ]
    },
    {
      "cell_type": "code",
      "metadata": {
        "colab": {
          "base_uri": "https://localhost:8080/"
        },
        "id": "fBrL0Z9bmLv9",
        "outputId": "8addad41-0cf0-468e-ccd5-f148aa152862"
      },
      "source": [
        "np11.__le__(9)"
      ],
      "execution_count": 46,
      "outputs": [
        {
          "output_type": "execute_result",
          "data": {
            "text/plain": [
              "array([ True,  True, False, False])"
            ]
          },
          "metadata": {
            "tags": []
          },
          "execution_count": 46
        }
      ]
    },
    {
      "cell_type": "code",
      "metadata": {
        "colab": {
          "base_uri": "https://localhost:8080/"
        },
        "id": "0rP8xRYqmPPW",
        "outputId": "49a27dd2-948f-4ffa-ac1c-37bcf9891ac9"
      },
      "source": [
        "np11"
      ],
      "execution_count": 47,
      "outputs": [
        {
          "output_type": "execute_result",
          "data": {
            "text/plain": [
              "array([ 7,  9, 11, 13], dtype=int16)"
            ]
          },
          "metadata": {
            "tags": []
          },
          "execution_count": 47
        }
      ]
    },
    {
      "cell_type": "code",
      "metadata": {
        "colab": {
          "base_uri": "https://localhost:8080/"
        },
        "id": "AKQP-Cr3nBPO",
        "outputId": "a1749667-d97c-4f43-9036-b14832aa4c6e"
      },
      "source": [
        "np12 "
      ],
      "execution_count": 48,
      "outputs": [
        {
          "output_type": "execute_result",
          "data": {
            "text/plain": [
              "array([ 3,  6,  9, 12, 15], dtype=int16)"
            ]
          },
          "metadata": {
            "tags": []
          },
          "execution_count": 48
        }
      ]
    },
    {
      "cell_type": "code",
      "metadata": {
        "colab": {
          "base_uri": "https://localhost:8080/"
        },
        "id": "iInWLki4nCG9",
        "outputId": "3132c7e0-973b-4361-ef2e-d55bdaad59a3"
      },
      "source": [
        "np11.size"
      ],
      "execution_count": 49,
      "outputs": [
        {
          "output_type": "execute_result",
          "data": {
            "text/plain": [
              "4"
            ]
          },
          "metadata": {
            "tags": []
          },
          "execution_count": 49
        }
      ]
    },
    {
      "cell_type": "code",
      "metadata": {
        "colab": {
          "base_uri": "https://localhost:8080/"
        },
        "id": "49-W74x2nGtm",
        "outputId": "9898a77c-d430-437e-8763-d87d9c4669d8"
      },
      "source": [
        "np11.nbytes"
      ],
      "execution_count": 50,
      "outputs": [
        {
          "output_type": "execute_result",
          "data": {
            "text/plain": [
              "8"
            ]
          },
          "metadata": {
            "tags": []
          },
          "execution_count": 50
        }
      ]
    },
    {
      "cell_type": "code",
      "metadata": {
        "colab": {
          "base_uri": "https://localhost:8080/"
        },
        "id": "cFyRMtsWnID6",
        "outputId": "9a959b77-20f1-4838-fb14-68c98e4e6df7"
      },
      "source": [
        "np11.itemsize"
      ],
      "execution_count": 51,
      "outputs": [
        {
          "output_type": "execute_result",
          "data": {
            "text/plain": [
              "2"
            ]
          },
          "metadata": {
            "tags": []
          },
          "execution_count": 51
        }
      ]
    },
    {
      "cell_type": "code",
      "metadata": {
        "id": "FkR8B8vanJMi"
      },
      "source": [
        "np13 = np.arange(1,11)"
      ],
      "execution_count": 53,
      "outputs": []
    },
    {
      "cell_type": "code",
      "metadata": {
        "colab": {
          "base_uri": "https://localhost:8080/"
        },
        "id": "1Sj9PvmAnKvm",
        "outputId": "2f309395-700a-431a-978e-8aed0bff23e3"
      },
      "source": [
        "np13"
      ],
      "execution_count": 54,
      "outputs": [
        {
          "output_type": "execute_result",
          "data": {
            "text/plain": [
              "array([ 1,  2,  3,  4,  5,  6,  7,  8,  9, 10])"
            ]
          },
          "metadata": {
            "tags": []
          },
          "execution_count": 54
        }
      ]
    },
    {
      "cell_type": "code",
      "metadata": {
        "colab": {
          "base_uri": "https://localhost:8080/"
        },
        "id": "kPOK-FyVnQwM",
        "outputId": "b063c7ea-b6eb-42b2-e94a-d3689cc021f1"
      },
      "source": [
        "np13[:]"
      ],
      "execution_count": 55,
      "outputs": [
        {
          "output_type": "execute_result",
          "data": {
            "text/plain": [
              "array([ 1,  2,  3,  4,  5,  6,  7,  8,  9, 10])"
            ]
          },
          "metadata": {
            "tags": []
          },
          "execution_count": 55
        }
      ]
    },
    {
      "cell_type": "code",
      "metadata": {
        "colab": {
          "base_uri": "https://localhost:8080/"
        },
        "id": "fFQz9rRwnpun",
        "outputId": "f83c10cb-c5ad-4c25-fe07-ba4f1e1ca0c4"
      },
      "source": [
        "np13[3:7]"
      ],
      "execution_count": 56,
      "outputs": [
        {
          "output_type": "execute_result",
          "data": {
            "text/plain": [
              "array([4, 5, 6, 7])"
            ]
          },
          "metadata": {
            "tags": []
          },
          "execution_count": 56
        }
      ]
    },
    {
      "cell_type": "code",
      "metadata": {
        "colab": {
          "base_uri": "https://localhost:8080/"
        },
        "id": "vCTQrfRZnrP3",
        "outputId": "1d2dcade-c083-418b-d644-1ca509d03f41"
      },
      "source": [
        "np13[3:7] +5 # 이거는 np13에 저장되지 않고 나타내기만 한다."
      ],
      "execution_count": 58,
      "outputs": [
        {
          "output_type": "execute_result",
          "data": {
            "text/plain": [
              "array([ 9, 10, 11, 12])"
            ]
          },
          "metadata": {
            "tags": []
          },
          "execution_count": 58
        }
      ]
    },
    {
      "cell_type": "code",
      "metadata": {
        "colab": {
          "base_uri": "https://localhost:8080/"
        },
        "id": "1-dNix0Wnszt",
        "outputId": "b8dcf5fa-cf0c-42cb-bec4-fa78eaaed21f"
      },
      "source": [
        "np13"
      ],
      "execution_count": 59,
      "outputs": [
        {
          "output_type": "execute_result",
          "data": {
            "text/plain": [
              "array([ 1,  2,  3,  4,  5,  6,  7,  8,  9, 10])"
            ]
          },
          "metadata": {
            "tags": []
          },
          "execution_count": 59
        }
      ]
    },
    {
      "cell_type": "code",
      "metadata": {
        "id": "8U19ui8tn-ce"
      },
      "source": [
        "np13 = np13[3:7] + 5"
      ],
      "execution_count": 60,
      "outputs": []
    },
    {
      "cell_type": "code",
      "metadata": {
        "colab": {
          "base_uri": "https://localhost:8080/"
        },
        "id": "nrtvoPL8oBiX",
        "outputId": "51a4b1ff-e318-43cb-9a91-c95340f621a5"
      },
      "source": [
        "np13 # 4부터 7까지 5를 np13에 더하고 "
      ],
      "execution_count": 61,
      "outputs": [
        {
          "output_type": "execute_result",
          "data": {
            "text/plain": [
              "array([ 9, 10, 11, 12])"
            ]
          },
          "metadata": {
            "tags": []
          },
          "execution_count": 61
        }
      ]
    },
    {
      "cell_type": "code",
      "metadata": {
        "id": "lSIkKv6-oCI6"
      },
      "source": [
        "np14 = np.arange(1,11)"
      ],
      "execution_count": 62,
      "outputs": []
    },
    {
      "cell_type": "code",
      "metadata": {
        "id": "oEca3AsEohTk"
      },
      "source": [
        "np14[2:5] +=3"
      ],
      "execution_count": 63,
      "outputs": []
    },
    {
      "cell_type": "code",
      "metadata": {
        "colab": {
          "base_uri": "https://localhost:8080/"
        },
        "id": "ENUlOqdmokMe",
        "outputId": "e78e58ae-1387-4469-f6d5-a0b2d7d50b7f"
      },
      "source": [
        "np14"
      ],
      "execution_count": 64,
      "outputs": [
        {
          "output_type": "execute_result",
          "data": {
            "text/plain": [
              "array([ 1,  2,  6,  7,  8,  6,  7,  8,  9, 10])"
            ]
          },
          "metadata": {
            "tags": []
          },
          "execution_count": 64
        }
      ]
    },
    {
      "cell_type": "code",
      "metadata": {
        "id": "sUFbiLT-ok75"
      },
      "source": [
        "np15 = np14"
      ],
      "execution_count": 65,
      "outputs": []
    },
    {
      "cell_type": "code",
      "metadata": {
        "id": "ZJN5VCKjomEY"
      },
      "source": [
        "np14[4] =90"
      ],
      "execution_count": 66,
      "outputs": []
    },
    {
      "cell_type": "code",
      "metadata": {
        "colab": {
          "base_uri": "https://localhost:8080/"
        },
        "id": "NWCtGPVAooUI",
        "outputId": "d3f13bf9-e25b-46fc-8d5f-a32c9158d416"
      },
      "source": [
        "np15"
      ],
      "execution_count": 67,
      "outputs": [
        {
          "output_type": "execute_result",
          "data": {
            "text/plain": [
              "array([ 1,  2,  6,  7, 90,  6,  7,  8,  9, 10])"
            ]
          },
          "metadata": {
            "tags": []
          },
          "execution_count": 67
        }
      ]
    },
    {
      "cell_type": "code",
      "metadata": {
        "id": "bIyom8rGoo2V"
      },
      "source": [
        "np16 = np14.copy() #np16에 np14를 copy()를 복사해서 넣어주면 np14내에 수를 바꿔도 np16이 변하지 않는다."
      ],
      "execution_count": 68,
      "outputs": []
    },
    {
      "cell_type": "code",
      "metadata": {
        "colab": {
          "base_uri": "https://localhost:8080/"
        },
        "id": "xBi2mLgqosLC",
        "outputId": "a8ef0efe-1d39-4611-e331-6821956d4a7e"
      },
      "source": [
        "np14\n",
        "np16"
      ],
      "execution_count": 69,
      "outputs": [
        {
          "output_type": "execute_result",
          "data": {
            "text/plain": [
              "array([ 1,  2,  6,  7, 90,  6,  7,  8,  9, 10])"
            ]
          },
          "metadata": {
            "tags": []
          },
          "execution_count": 69
        }
      ]
    },
    {
      "cell_type": "code",
      "metadata": {
        "colab": {
          "base_uri": "https://localhost:8080/"
        },
        "id": "u_dvYMMjouUa",
        "outputId": "b5ba8c0b-b54c-4f86-f9d2-eee7a855b0cd"
      },
      "source": [
        "np16"
      ],
      "execution_count": 70,
      "outputs": [
        {
          "output_type": "execute_result",
          "data": {
            "text/plain": [
              "array([ 1,  2,  6,  7, 90,  6,  7,  8,  9, 10])"
            ]
          },
          "metadata": {
            "tags": []
          },
          "execution_count": 70
        }
      ]
    },
    {
      "cell_type": "code",
      "metadata": {
        "id": "4eu2d-6ZovVe"
      },
      "source": [
        "np14[2] = 123"
      ],
      "execution_count": 71,
      "outputs": []
    },
    {
      "cell_type": "code",
      "metadata": {
        "colab": {
          "base_uri": "https://localhost:8080/"
        },
        "id": "vG8RwHpSoxOF",
        "outputId": "33875dca-e70b-4ae9-f3f0-1d4c9fc74aef"
      },
      "source": [
        "np14"
      ],
      "execution_count": 72,
      "outputs": [
        {
          "output_type": "execute_result",
          "data": {
            "text/plain": [
              "array([  1,   2, 123,   7,  90,   6,   7,   8,   9,  10])"
            ]
          },
          "metadata": {
            "tags": []
          },
          "execution_count": 72
        }
      ]
    },
    {
      "cell_type": "code",
      "metadata": {
        "colab": {
          "base_uri": "https://localhost:8080/"
        },
        "id": "zpFN0yX5ox0v",
        "outputId": "296f17c5-2742-4116-d0d6-430e82246714"
      },
      "source": [
        "np16"
      ],
      "execution_count": 73,
      "outputs": [
        {
          "output_type": "execute_result",
          "data": {
            "text/plain": [
              "array([ 1,  2,  6,  7, 90,  6,  7,  8,  9, 10])"
            ]
          },
          "metadata": {
            "tags": []
          },
          "execution_count": 73
        }
      ]
    },
    {
      "cell_type": "code",
      "metadata": {
        "id": "2OKUUtRyoybN"
      },
      "source": [
        "np14[7:] = 0"
      ],
      "execution_count": 75,
      "outputs": []
    },
    {
      "cell_type": "markdown",
      "metadata": {
        "id": "Pz0oX3WApLOi"
      },
      "source": [
        "np14 에서 0에서 6번째 까지 다 0으로 바꾼다."
      ]
    },
    {
      "cell_type": "code",
      "metadata": {
        "colab": {
          "base_uri": "https://localhost:8080/"
        },
        "id": "qDA_A8T8pGQD",
        "outputId": "38692d05-efd8-4ad1-abd2-5e781b2dcc1a"
      },
      "source": [
        "np14"
      ],
      "execution_count": 76,
      "outputs": [
        {
          "output_type": "execute_result",
          "data": {
            "text/plain": [
              "array([  1,   2, 123,   7,  90,   6,   7,   0,   0,   0])"
            ]
          },
          "metadata": {
            "tags": []
          },
          "execution_count": 76
        }
      ]
    },
    {
      "cell_type": "code",
      "metadata": {
        "id": "_yeHt64YpI_g"
      },
      "source": [
        "np22 = np.array([[1,2,3],[3,4,5]])"
      ],
      "execution_count": 77,
      "outputs": []
    },
    {
      "cell_type": "code",
      "metadata": {
        "id": "9g3PvKGrpamB"
      },
      "source": [
        "a1 =[1,2,31]\n",
        "a2 = [2,4,6]\n",
        "np20 = np.array([a1, a2])"
      ],
      "execution_count": 78,
      "outputs": []
    },
    {
      "cell_type": "code",
      "metadata": {
        "colab": {
          "base_uri": "https://localhost:8080/"
        },
        "id": "kuthy_CYphb6",
        "outputId": "489d2bfa-cdfb-4714-c94d-c665569cac1b"
      },
      "source": [
        "np20"
      ],
      "execution_count": 79,
      "outputs": [
        {
          "output_type": "execute_result",
          "data": {
            "text/plain": [
              "array([[ 1,  2, 31],\n",
              "       [ 2,  4,  6]])"
            ]
          },
          "metadata": {
            "tags": []
          },
          "execution_count": 79
        }
      ]
    },
    {
      "cell_type": "code",
      "metadata": {
        "id": "XxeigYOipjkm"
      },
      "source": [
        "np2 = np.arange(1,16)"
      ],
      "execution_count": 80,
      "outputs": []
    },
    {
      "cell_type": "code",
      "metadata": {
        "colab": {
          "base_uri": "https://localhost:8080/"
        },
        "id": "xEFzdNQkptxw",
        "outputId": "4b5c0594-aa51-465f-8a92-407303ceba0a"
      },
      "source": [
        "np2"
      ],
      "execution_count": 81,
      "outputs": [
        {
          "output_type": "execute_result",
          "data": {
            "text/plain": [
              "array([ 1,  2,  3,  4,  5,  6,  7,  8,  9, 10, 11, 12, 13, 14, 15])"
            ]
          },
          "metadata": {
            "tags": []
          },
          "execution_count": 81
        }
      ]
    },
    {
      "cell_type": "code",
      "metadata": {
        "id": "KyVulsYGpuh3"
      },
      "source": [
        "np222 = np2.reshape(3,5)"
      ],
      "execution_count": 82,
      "outputs": []
    },
    {
      "cell_type": "code",
      "metadata": {
        "colab": {
          "base_uri": "https://localhost:8080/"
        },
        "id": "Biw8AIj4px8m",
        "outputId": "9a292383-5549-4fef-9c4d-5a705039b9b6"
      },
      "source": [
        "np14"
      ],
      "execution_count": 83,
      "outputs": [
        {
          "output_type": "execute_result",
          "data": {
            "text/plain": [
              "array([  1,   2, 123,   7,  90,   6,   7,   0,   0,   0])"
            ]
          },
          "metadata": {
            "tags": []
          },
          "execution_count": 83
        }
      ]
    },
    {
      "cell_type": "code",
      "metadata": {
        "id": "Qn3x4fRXpzV9"
      },
      "source": [
        "np144 = np14.reshape(2,5)"
      ],
      "execution_count": 85,
      "outputs": []
    },
    {
      "cell_type": "code",
      "metadata": {
        "colab": {
          "base_uri": "https://localhost:8080/"
        },
        "id": "RI-3w5anp4we",
        "outputId": "ff491b12-aff9-4227-8dad-b697727fb940"
      },
      "source": [
        "np144"
      ],
      "execution_count": 86,
      "outputs": [
        {
          "output_type": "execute_result",
          "data": {
            "text/plain": [
              "array([[  1,   2, 123,   7,  90],\n",
              "       [  6,   7,   0,   0,   0]])"
            ]
          },
          "metadata": {
            "tags": []
          },
          "execution_count": 86
        }
      ]
    },
    {
      "cell_type": "code",
      "metadata": {
        "id": "f6JU7l9kr_zE"
      },
      "source": [
        "np222 = np2.reshape(3,5)"
      ],
      "execution_count": 87,
      "outputs": []
    },
    {
      "cell_type": "code",
      "metadata": {
        "colab": {
          "base_uri": "https://localhost:8080/"
        },
        "id": "4u4TN06ksGRO",
        "outputId": "b182e1fc-0c25-4943-9c59-b0c691cd28d1"
      },
      "source": [
        "np2"
      ],
      "execution_count": 88,
      "outputs": [
        {
          "output_type": "execute_result",
          "data": {
            "text/plain": [
              "array([ 1,  2,  3,  4,  5,  6,  7,  8,  9, 10, 11, 12, 13, 14, 15])"
            ]
          },
          "metadata": {
            "tags": []
          },
          "execution_count": 88
        }
      ]
    },
    {
      "cell_type": "code",
      "metadata": {
        "colab": {
          "base_uri": "https://localhost:8080/"
        },
        "id": "lPfT6RLYsG_u",
        "outputId": "0179f0d6-43ec-449e-bdb6-9347400eb2a7"
      },
      "source": [
        "np2[:]"
      ],
      "execution_count": 89,
      "outputs": [
        {
          "output_type": "execute_result",
          "data": {
            "text/plain": [
              "array([ 1,  2,  3,  4,  5,  6,  7,  8,  9, 10, 11, 12, 13, 14, 15])"
            ]
          },
          "metadata": {
            "tags": []
          },
          "execution_count": 89
        }
      ]
    },
    {
      "cell_type": "code",
      "metadata": {
        "colab": {
          "base_uri": "https://localhost:8080/"
        },
        "id": "uJX9sFiHsKKa",
        "outputId": "25242898-cf86-4f23-f26e-5fdfa3232579"
      },
      "source": [
        "np222[:]"
      ],
      "execution_count": 90,
      "outputs": [
        {
          "output_type": "execute_result",
          "data": {
            "text/plain": [
              "array([[ 1,  2,  3,  4,  5],\n",
              "       [ 6,  7,  8,  9, 10],\n",
              "       [11, 12, 13, 14, 15]])"
            ]
          },
          "metadata": {
            "tags": []
          },
          "execution_count": 90
        }
      ]
    },
    {
      "cell_type": "code",
      "metadata": {
        "colab": {
          "base_uri": "https://localhost:8080/"
        },
        "id": "BjhR7C1SsLck",
        "outputId": "aa8e50bc-d483-41c5-e205-cb48f104deb2"
      },
      "source": [
        "np222[1:2]"
      ],
      "execution_count": 91,
      "outputs": [
        {
          "output_type": "execute_result",
          "data": {
            "text/plain": [
              "array([[ 6,  7,  8,  9, 10]])"
            ]
          },
          "metadata": {
            "tags": []
          },
          "execution_count": 91
        }
      ]
    },
    {
      "cell_type": "code",
      "metadata": {
        "colab": {
          "base_uri": "https://localhost:8080/"
        },
        "id": "I6rHdCmIsO3t",
        "outputId": "228e3981-92ef-4d7f-d042-dbc91551afef"
      },
      "source": [
        "np222"
      ],
      "execution_count": 92,
      "outputs": [
        {
          "output_type": "execute_result",
          "data": {
            "text/plain": [
              "array([[ 1,  2,  3,  4,  5],\n",
              "       [ 6,  7,  8,  9, 10],\n",
              "       [11, 12, 13, 14, 15]])"
            ]
          },
          "metadata": {
            "tags": []
          },
          "execution_count": 92
        }
      ]
    },
    {
      "cell_type": "code",
      "metadata": {
        "colab": {
          "base_uri": "https://localhost:8080/"
        },
        "id": "806u4f2tsXKi",
        "outputId": "e21afde6-237d-4eda-9086-5346e4a7f732"
      },
      "source": [
        "np222[1][3]"
      ],
      "execution_count": 93,
      "outputs": [
        {
          "output_type": "execute_result",
          "data": {
            "text/plain": [
              "9"
            ]
          },
          "metadata": {
            "tags": []
          },
          "execution_count": 93
        }
      ]
    },
    {
      "cell_type": "code",
      "metadata": {
        "colab": {
          "base_uri": "https://localhost:8080/"
        },
        "id": "Tt5gcL0CsZUY",
        "outputId": "a0ac4fbc-8925-45ae-8a87-43ba2c755fb3"
      },
      "source": [
        "np22"
      ],
      "execution_count": 94,
      "outputs": [
        {
          "output_type": "execute_result",
          "data": {
            "text/plain": [
              "array([[1, 2, 3],\n",
              "       [3, 4, 5]])"
            ]
          },
          "metadata": {
            "tags": []
          },
          "execution_count": 94
        }
      ]
    },
    {
      "cell_type": "code",
      "metadata": {
        "colab": {
          "base_uri": "https://localhost:8080/",
          "height": 170
        },
        "id": "fYAVE4jQsgDC",
        "outputId": "2a16edb1-a2d4-4a07-8ea8-d93edfba9f2a"
      },
      "source": [
        "b = a.array()"
      ],
      "execution_count": 95,
      "outputs": [
        {
          "output_type": "error",
          "ename": "AttributeError",
          "evalue": "ignored",
          "traceback": [
            "\u001b[0;31m---------------------------------------------------------------------------\u001b[0m",
            "\u001b[0;31mAttributeError\u001b[0m                            Traceback (most recent call last)",
            "\u001b[0;32m<ipython-input-95-69ef227820e8>\u001b[0m in \u001b[0;36m<module>\u001b[0;34m()\u001b[0m\n\u001b[0;32m----> 1\u001b[0;31m \u001b[0mb\u001b[0m \u001b[0;34m=\u001b[0m \u001b[0ma\u001b[0m\u001b[0;34m.\u001b[0m\u001b[0marray\u001b[0m\u001b[0;34m(\u001b[0m\u001b[0;34m)\u001b[0m\u001b[0;34m\u001b[0m\u001b[0;34m\u001b[0m\u001b[0m\n\u001b[0m",
            "\u001b[0;31mAttributeError\u001b[0m: 'list' object has no attribute 'array'"
          ]
        }
      ]
    },
    {
      "cell_type": "code",
      "metadata": {
        "colab": {
          "base_uri": "https://localhost:8080/"
        },
        "id": "5NoznlP6sqDC",
        "outputId": "4f2ae416-7e25-47fc-eb46-30dc1786b97e"
      },
      "source": [
        "a"
      ],
      "execution_count": 96,
      "outputs": [
        {
          "output_type": "execute_result",
          "data": {
            "text/plain": [
              "[[2, 3, 4, 5, 6, 7, 8, 9],\n",
              " [4, 6, 8, 10, 12, 14, 16, 18],\n",
              " [6, 9, 12, 15, 18, 21, 24, 27],\n",
              " [8, 12, 16, 20, 24, 28, 32, 36],\n",
              " [10, 15, 20, 25, 30, 35, 40, 45],\n",
              " [12, 18, 24, 30, 36, 42, 48, 54],\n",
              " [14, 21, 28, 35, 42, 49, 56, 63],\n",
              " [16, 24, 32, 40, 48, 56, 64, 72],\n",
              " [18, 27, 36, 45, 54, 63, 72, 81]]"
            ]
          },
          "metadata": {
            "tags": []
          },
          "execution_count": 96
        }
      ]
    },
    {
      "cell_type": "code",
      "metadata": {
        "colab": {
          "base_uri": "https://localhost:8080/"
        },
        "id": "a_poEmhks105",
        "outputId": "ef357280-0145-4d74-a32f-1efccadc4d3c"
      },
      "source": [
        "a[:]"
      ],
      "execution_count": 97,
      "outputs": [
        {
          "output_type": "execute_result",
          "data": {
            "text/plain": [
              "[[2, 3, 4, 5, 6, 7, 8, 9],\n",
              " [4, 6, 8, 10, 12, 14, 16, 18],\n",
              " [6, 9, 12, 15, 18, 21, 24, 27],\n",
              " [8, 12, 16, 20, 24, 28, 32, 36],\n",
              " [10, 15, 20, 25, 30, 35, 40, 45],\n",
              " [12, 18, 24, 30, 36, 42, 48, 54],\n",
              " [14, 21, 28, 35, 42, 49, 56, 63],\n",
              " [16, 24, 32, 40, 48, 56, 64, 72],\n",
              " [18, 27, 36, 45, 54, 63, 72, 81]]"
            ]
          },
          "metadata": {
            "tags": []
          },
          "execution_count": 97
        }
      ]
    },
    {
      "cell_type": "code",
      "metadata": {
        "colab": {
          "base_uri": "https://localhost:8080/"
        },
        "id": "cu-vOMO6tFAg",
        "outputId": "88b72f50-0eac-4e91-82e1-d654f523ebd1"
      },
      "source": [
        "a[:2]"
      ],
      "execution_count": 98,
      "outputs": [
        {
          "output_type": "execute_result",
          "data": {
            "text/plain": [
              "[[2, 3, 4, 5, 6, 7, 8, 9], [4, 6, 8, 10, 12, 14, 16, 18]]"
            ]
          },
          "metadata": {
            "tags": []
          },
          "execution_count": 98
        }
      ]
    },
    {
      "cell_type": "code",
      "metadata": {
        "colab": {
          "base_uri": "https://localhost:8080/"
        },
        "id": "84IcPdd_tGyC",
        "outputId": "901295bb-8832-4182-9883-81ba1def5c0f"
      },
      "source": [
        "a[1:3]"
      ],
      "execution_count": 99,
      "outputs": [
        {
          "output_type": "execute_result",
          "data": {
            "text/plain": [
              "[[4, 6, 8, 10, 12, 14, 16, 18], [6, 9, 12, 15, 18, 21, 24, 27]]"
            ]
          },
          "metadata": {
            "tags": []
          },
          "execution_count": 99
        }
      ]
    },
    {
      "cell_type": "code",
      "metadata": {
        "colab": {
          "base_uri": "https://localhost:8080/",
          "height": 170
        },
        "id": "kJ9BqPJbtJsN",
        "outputId": "ff72028d-34db-4b73-e1dc-7d79ed3157cd"
      },
      "source": [
        "a[ : , : ]"
      ],
      "execution_count": 101,
      "outputs": [
        {
          "output_type": "error",
          "ename": "TypeError",
          "evalue": "ignored",
          "traceback": [
            "\u001b[0;31m---------------------------------------------------------------------------\u001b[0m",
            "\u001b[0;31mTypeError\u001b[0m                                 Traceback (most recent call last)",
            "\u001b[0;32m<ipython-input-101-0c7b607e44e2>\u001b[0m in \u001b[0;36m<module>\u001b[0;34m()\u001b[0m\n\u001b[0;32m----> 1\u001b[0;31m \u001b[0ma\u001b[0m\u001b[0;34m[\u001b[0m \u001b[0;34m:\u001b[0m \u001b[0;34m,\u001b[0m \u001b[0;34m:\u001b[0m \u001b[0;34m]\u001b[0m\u001b[0;34m\u001b[0m\u001b[0;34m\u001b[0m\u001b[0m\n\u001b[0m",
            "\u001b[0;31mTypeError\u001b[0m: list indices must be integers or slices, not tuple"
          ]
        }
      ]
    },
    {
      "cell_type": "code",
      "metadata": {
        "colab": {
          "base_uri": "https://localhost:8080/",
          "height": 170
        },
        "id": "36gGWQG_tpfR",
        "outputId": "01cdc166-1a88-478f-da12-736225464e27"
      },
      "source": [
        "a.np"
      ],
      "execution_count": 102,
      "outputs": [
        {
          "output_type": "error",
          "ename": "AttributeError",
          "evalue": "ignored",
          "traceback": [
            "\u001b[0;31m---------------------------------------------------------------------------\u001b[0m",
            "\u001b[0;31mAttributeError\u001b[0m                            Traceback (most recent call last)",
            "\u001b[0;32m<ipython-input-102-b35aabddff11>\u001b[0m in \u001b[0;36m<module>\u001b[0;34m()\u001b[0m\n\u001b[0;32m----> 1\u001b[0;31m \u001b[0ma\u001b[0m\u001b[0;34m.\u001b[0m\u001b[0mnp\u001b[0m\u001b[0;34m\u001b[0m\u001b[0;34m\u001b[0m\u001b[0m\n\u001b[0m",
            "\u001b[0;31mAttributeError\u001b[0m: 'list' object has no attribute 'np'"
          ]
        }
      ]
    },
    {
      "cell_type": "code",
      "metadata": {
        "id": "MWhgvi5_ts86"
      },
      "source": [
        "b = np.array(a) #list를 numpy에서는 np.array를 사용해야 한다."
      ],
      "execution_count": 104,
      "outputs": []
    },
    {
      "cell_type": "code",
      "metadata": {
        "colab": {
          "base_uri": "https://localhost:8080/"
        },
        "id": "DrvEX6bUuEHR",
        "outputId": "9ccc072a-0517-4bc4-f609-8f5bc46310be"
      },
      "source": [
        "b"
      ],
      "execution_count": 105,
      "outputs": [
        {
          "output_type": "execute_result",
          "data": {
            "text/plain": [
              "array([[ 2,  3,  4,  5,  6,  7,  8,  9],\n",
              "       [ 4,  6,  8, 10, 12, 14, 16, 18],\n",
              "       [ 6,  9, 12, 15, 18, 21, 24, 27],\n",
              "       [ 8, 12, 16, 20, 24, 28, 32, 36],\n",
              "       [10, 15, 20, 25, 30, 35, 40, 45],\n",
              "       [12, 18, 24, 30, 36, 42, 48, 54],\n",
              "       [14, 21, 28, 35, 42, 49, 56, 63],\n",
              "       [16, 24, 32, 40, 48, 56, 64, 72],\n",
              "       [18, 27, 36, 45, 54, 63, 72, 81]])"
            ]
          },
          "metadata": {
            "tags": []
          },
          "execution_count": 105
        }
      ]
    },
    {
      "cell_type": "code",
      "metadata": {
        "colab": {
          "base_uri": "https://localhost:8080/"
        },
        "id": "K5Pd4PyTuRPW",
        "outputId": "9994ef62-6523-4c7f-8620-041b9810fdd3"
      },
      "source": [
        "b[:,:]"
      ],
      "execution_count": 106,
      "outputs": [
        {
          "output_type": "execute_result",
          "data": {
            "text/plain": [
              "array([[ 2,  3,  4,  5,  6,  7,  8,  9],\n",
              "       [ 4,  6,  8, 10, 12, 14, 16, 18],\n",
              "       [ 6,  9, 12, 15, 18, 21, 24, 27],\n",
              "       [ 8, 12, 16, 20, 24, 28, 32, 36],\n",
              "       [10, 15, 20, 25, 30, 35, 40, 45],\n",
              "       [12, 18, 24, 30, 36, 42, 48, 54],\n",
              "       [14, 21, 28, 35, 42, 49, 56, 63],\n",
              "       [16, 24, 32, 40, 48, 56, 64, 72],\n",
              "       [18, 27, 36, 45, 54, 63, 72, 81]])"
            ]
          },
          "metadata": {
            "tags": []
          },
          "execution_count": 106
        }
      ]
    },
    {
      "cell_type": "code",
      "metadata": {
        "colab": {
          "base_uri": "https://localhost:8080/"
        },
        "id": "qvAuyPg6uVWK",
        "outputId": "5684756c-3b59-461d-a79e-49011824c8ad"
      },
      "source": [
        "b[2:3, :]"
      ],
      "execution_count": 107,
      "outputs": [
        {
          "output_type": "execute_result",
          "data": {
            "text/plain": [
              "array([[ 6,  9, 12, 15, 18, 21, 24, 27]])"
            ]
          },
          "metadata": {
            "tags": []
          },
          "execution_count": 107
        }
      ]
    },
    {
      "cell_type": "code",
      "metadata": {
        "colab": {
          "base_uri": "https://localhost:8080/"
        },
        "id": "b596yJZ8ufN7",
        "outputId": "f9c7d18b-e667-4b4e-c46d-ddc9d419d4b2"
      },
      "source": [
        "b[2:3, :] +50"
      ],
      "execution_count": 108,
      "outputs": [
        {
          "output_type": "execute_result",
          "data": {
            "text/plain": [
              "array([[56, 59, 62, 65, 68, 71, 74, 77]])"
            ]
          },
          "metadata": {
            "tags": []
          },
          "execution_count": 108
        }
      ]
    },
    {
      "cell_type": "code",
      "metadata": {
        "id": "9OAfMX9NuiXx"
      },
      "source": [
        "c = np.array(b, dtype=np.int16)"
      ],
      "execution_count": 109,
      "outputs": []
    },
    {
      "cell_type": "code",
      "metadata": {
        "colab": {
          "base_uri": "https://localhost:8080/"
        },
        "id": "6zYOfCs1vzUI",
        "outputId": "504d68fb-7bdf-43f3-8c76-b4a298415dcd"
      },
      "source": [
        "c"
      ],
      "execution_count": 110,
      "outputs": [
        {
          "output_type": "execute_result",
          "data": {
            "text/plain": [
              "array([[ 2,  3,  4,  5,  6,  7,  8,  9],\n",
              "       [ 4,  6,  8, 10, 12, 14, 16, 18],\n",
              "       [ 6,  9, 12, 15, 18, 21, 24, 27],\n",
              "       [ 8, 12, 16, 20, 24, 28, 32, 36],\n",
              "       [10, 15, 20, 25, 30, 35, 40, 45],\n",
              "       [12, 18, 24, 30, 36, 42, 48, 54],\n",
              "       [14, 21, 28, 35, 42, 49, 56, 63],\n",
              "       [16, 24, 32, 40, 48, 56, 64, 72],\n",
              "       [18, 27, 36, 45, 54, 63, 72, 81]], dtype=int16)"
            ]
          },
          "metadata": {
            "tags": []
          },
          "execution_count": 110
        }
      ]
    },
    {
      "cell_type": "code",
      "metadata": {
        "colab": {
          "base_uri": "https://localhost:8080/"
        },
        "id": "urz6tCh4vz4A",
        "outputId": "c1c8d1df-68bd-4dc8-9100-7ce81c4e3fb2"
      },
      "source": [
        "c.dtype"
      ],
      "execution_count": 111,
      "outputs": [
        {
          "output_type": "execute_result",
          "data": {
            "text/plain": [
              "dtype('int16')"
            ]
          },
          "metadata": {
            "tags": []
          },
          "execution_count": 111
        }
      ]
    },
    {
      "cell_type": "code",
      "metadata": {
        "colab": {
          "base_uri": "https://localhost:8080/"
        },
        "id": "BgSxB4esv01D",
        "outputId": "17b3e21e-9aa8-458d-ccf7-43d8a1e00f71"
      },
      "source": [
        "b[1, 0:2]"
      ],
      "execution_count": 112,
      "outputs": [
        {
          "output_type": "execute_result",
          "data": {
            "text/plain": [
              "array([4, 6])"
            ]
          },
          "metadata": {
            "tags": []
          },
          "execution_count": 112
        }
      ]
    },
    {
      "cell_type": "markdown",
      "metadata": {
        "id": "yvmrAPuVwh6S"
      },
      "source": [
        "b의 배열에 1행에서 1열까지 나타낸다."
      ]
    },
    {
      "cell_type": "code",
      "metadata": {
        "colab": {
          "base_uri": "https://localhost:8080/"
        },
        "id": "JV4hz9Q5we-Q",
        "outputId": "207ea94e-f578-4130-c9bf-162eb283ea81"
      },
      "source": [
        "b[-1, 0:2]"
      ],
      "execution_count": 113,
      "outputs": [
        {
          "output_type": "execute_result",
          "data": {
            "text/plain": [
              "array([18, 27])"
            ]
          },
          "metadata": {
            "tags": []
          },
          "execution_count": 113
        }
      ]
    },
    {
      "cell_type": "code",
      "metadata": {
        "id": "R32q6HxWww4J"
      },
      "source": [
        "np3 = np.arange(1,25)"
      ],
      "execution_count": 115,
      "outputs": []
    },
    {
      "cell_type": "code",
      "metadata": {
        "colab": {
          "base_uri": "https://localhost:8080/"
        },
        "id": "5nrjiukFxMNP",
        "outputId": "afa686c7-3537-4b53-d34f-f4aaa16594cb"
      },
      "source": [
        "np3"
      ],
      "execution_count": 118,
      "outputs": [
        {
          "output_type": "execute_result",
          "data": {
            "text/plain": [
              "array([ 1,  2,  3,  4,  5,  6,  7,  8,  9, 10, 11, 12, 13, 14, 15, 16, 17,\n",
              "       18, 19, 20, 21, 22, 23, 24])"
            ]
          },
          "metadata": {
            "tags": []
          },
          "execution_count": 118
        }
      ]
    },
    {
      "cell_type": "markdown",
      "metadata": {
        "id": "8WfHZbpjxHe1"
      },
      "source": [
        "np3를 1 부터 24까지 만든다."
      ]
    },
    {
      "cell_type": "code",
      "metadata": {
        "id": "9vQuSgUWw_w-"
      },
      "source": [
        "np33 = np.random.randn(24)"
      ],
      "execution_count": 117,
      "outputs": []
    },
    {
      "cell_type": "code",
      "metadata": {
        "colab": {
          "base_uri": "https://localhost:8080/"
        },
        "id": "rL3hmAEbxXVJ",
        "outputId": "1bf68547-3d21-41ee-8147-ec1090842082"
      },
      "source": [
        "np33"
      ],
      "execution_count": 119,
      "outputs": [
        {
          "output_type": "execute_result",
          "data": {
            "text/plain": [
              "array([ 1.0583677 ,  0.41921798, -2.7800285 , -0.06712881,  1.3687004 ,\n",
              "       -0.9679867 ,  0.64345583, -0.17160591, -1.44240022,  1.83531887,\n",
              "       -0.58007129, -0.9349472 , -0.48843843,  1.01183324, -0.11048545,\n",
              "       -1.08242611,  2.24828852,  0.86589816,  1.53799188,  1.91826051,\n",
              "        0.55795884,  0.15565361, -0.58595451,  1.46058804])"
            ]
          },
          "metadata": {
            "tags": []
          },
          "execution_count": 119
        }
      ]
    },
    {
      "cell_type": "markdown",
      "metadata": {
        "id": "8UY4aQR2xZNH"
      },
      "source": [
        "np33를 24개의 랜덤 숫자를 만든다."
      ]
    },
    {
      "cell_type": "code",
      "metadata": {
        "colab": {
          "base_uri": "https://localhost:8080/"
        },
        "id": "Kbgf0_bkxELw",
        "outputId": "c9ed01c7-c03c-4576-e3fa-1cfb359252e5"
      },
      "source": [
        "np33.shape"
      ],
      "execution_count": 120,
      "outputs": [
        {
          "output_type": "execute_result",
          "data": {
            "text/plain": [
              "(24,)"
            ]
          },
          "metadata": {
            "tags": []
          },
          "execution_count": 120
        }
      ]
    },
    {
      "cell_type": "markdown",
      "metadata": {
        "id": "qqGsVJ21xhph"
      },
      "source": [
        "np33 의 형태 즉 갯수를 나타낸다."
      ]
    },
    {
      "cell_type": "code",
      "metadata": {
        "colab": {
          "base_uri": "https://localhost:8080/"
        },
        "id": "6MCXROk1xgnT",
        "outputId": "c9f4b6f4-6eb6-41b5-f907-5114a5fd10d2"
      },
      "source": [
        "np33.reshape(2,3,4)"
      ],
      "execution_count": 121,
      "outputs": [
        {
          "output_type": "execute_result",
          "data": {
            "text/plain": [
              "array([[[ 1.0583677 ,  0.41921798, -2.7800285 , -0.06712881],\n",
              "        [ 1.3687004 , -0.9679867 ,  0.64345583, -0.17160591],\n",
              "        [-1.44240022,  1.83531887, -0.58007129, -0.9349472 ]],\n",
              "\n",
              "       [[-0.48843843,  1.01183324, -0.11048545, -1.08242611],\n",
              "        [ 2.24828852,  0.86589816,  1.53799188,  1.91826051],\n",
              "        [ 0.55795884,  0.15565361, -0.58595451,  1.46058804]]])"
            ]
          },
          "metadata": {
            "tags": []
          },
          "execution_count": 121
        }
      ]
    },
    {
      "cell_type": "markdown",
      "metadata": {
        "id": "cJcyF0bOxppW"
      },
      "source": [
        "np33을 2개의 행렬로 나누고 각 행렬은 3행 4열이 된다."
      ]
    },
    {
      "cell_type": "code",
      "metadata": {
        "colab": {
          "base_uri": "https://localhost:8080/"
        },
        "id": "TrIlgZpoxojE",
        "outputId": "72c5020d-4c8a-4fe2-a7d1-d16497dd8a87"
      },
      "source": [
        "np33 * 100"
      ],
      "execution_count": 122,
      "outputs": [
        {
          "output_type": "execute_result",
          "data": {
            "text/plain": [
              "array([ 105.83676988,   41.92179846, -278.0028499 ,   -6.71288066,\n",
              "        136.87004024,  -96.79867039,   64.3455834 ,  -17.16059107,\n",
              "       -144.24002167,  183.53188709,  -58.00712932,  -93.49472009,\n",
              "        -48.84384308,  101.1833237 ,  -11.04854458, -108.24261108,\n",
              "        224.82885176,   86.5898165 ,  153.79918823,  191.82605141,\n",
              "         55.7958843 ,   15.56536114,  -58.59545055,  146.05880372])"
            ]
          },
          "metadata": {
            "tags": []
          },
          "execution_count": 122
        }
      ]
    },
    {
      "cell_type": "code",
      "metadata": {
        "id": "5HDxz0_gxxbJ"
      },
      "source": [
        "np333 = np33.reshape(2,3,4)"
      ],
      "execution_count": 123,
      "outputs": []
    },
    {
      "cell_type": "code",
      "metadata": {
        "colab": {
          "base_uri": "https://localhost:8080/"
        },
        "id": "WgBdhwzpx147",
        "outputId": "9ba0edd5-8f6b-461d-bbaa-3a9247709517"
      },
      "source": [
        "np333"
      ],
      "execution_count": 124,
      "outputs": [
        {
          "output_type": "execute_result",
          "data": {
            "text/plain": [
              "array([[[ 1.0583677 ,  0.41921798, -2.7800285 , -0.06712881],\n",
              "        [ 1.3687004 , -0.9679867 ,  0.64345583, -0.17160591],\n",
              "        [-1.44240022,  1.83531887, -0.58007129, -0.9349472 ]],\n",
              "\n",
              "       [[-0.48843843,  1.01183324, -0.11048545, -1.08242611],\n",
              "        [ 2.24828852,  0.86589816,  1.53799188,  1.91826051],\n",
              "        [ 0.55795884,  0.15565361, -0.58595451,  1.46058804]]])"
            ]
          },
          "metadata": {
            "tags": []
          },
          "execution_count": 124
        }
      ]
    },
    {
      "cell_type": "code",
      "metadata": {
        "colab": {
          "base_uri": "https://localhost:8080/"
        },
        "id": "XS8WQD14x3ap",
        "outputId": "72f0ff99-2f50-41c3-dc07-c3009e81138f"
      },
      "source": [
        "np3"
      ],
      "execution_count": 125,
      "outputs": [
        {
          "output_type": "execute_result",
          "data": {
            "text/plain": [
              "array([ 1,  2,  3,  4,  5,  6,  7,  8,  9, 10, 11, 12, 13, 14, 15, 16, 17,\n",
              "       18, 19, 20, 21, 22, 23, 24])"
            ]
          },
          "metadata": {
            "tags": []
          },
          "execution_count": 125
        }
      ]
    },
    {
      "cell_type": "code",
      "metadata": {
        "colab": {
          "base_uri": "https://localhost:8080/"
        },
        "id": "HAnkff12x4KG",
        "outputId": "23803f9e-89da-4d5d-fadb-128fae67b951"
      },
      "source": [
        "np3.reshape(2,3,4)"
      ],
      "execution_count": 126,
      "outputs": [
        {
          "output_type": "execute_result",
          "data": {
            "text/plain": [
              "array([[[ 1,  2,  3,  4],\n",
              "        [ 5,  6,  7,  8],\n",
              "        [ 9, 10, 11, 12]],\n",
              "\n",
              "       [[13, 14, 15, 16],\n",
              "        [17, 18, 19, 20],\n",
              "        [21, 22, 23, 24]]])"
            ]
          },
          "metadata": {
            "tags": []
          },
          "execution_count": 126
        }
      ]
    },
    {
      "cell_type": "code",
      "metadata": {
        "id": "lD03Sy_-x68y"
      },
      "source": [
        "np3 = np.arange(10, 241, 10)"
      ],
      "execution_count": 127,
      "outputs": []
    },
    {
      "cell_type": "code",
      "metadata": {
        "colab": {
          "base_uri": "https://localhost:8080/"
        },
        "id": "wdDTvdlEx-Ey",
        "outputId": "664b88a2-1f87-4c96-9b1a-b7d08b6d9d3c"
      },
      "source": [
        "np3"
      ],
      "execution_count": 128,
      "outputs": [
        {
          "output_type": "execute_result",
          "data": {
            "text/plain": [
              "array([ 10,  20,  30,  40,  50,  60,  70,  80,  90, 100, 110, 120, 130,\n",
              "       140, 150, 160, 170, 180, 190, 200, 210, 220, 230, 240])"
            ]
          },
          "metadata": {
            "tags": []
          },
          "execution_count": 128
        }
      ]
    },
    {
      "cell_type": "code",
      "metadata": {
        "colab": {
          "base_uri": "https://localhost:8080/"
        },
        "id": "AKcNkzbUx-2b",
        "outputId": "542d96b0-31a1-4112-d8b2-c1450a4c14ec"
      },
      "source": [
        "np3.ndim"
      ],
      "execution_count": 129,
      "outputs": [
        {
          "output_type": "execute_result",
          "data": {
            "text/plain": [
              "1"
            ]
          },
          "metadata": {
            "tags": []
          },
          "execution_count": 129
        }
      ]
    },
    {
      "cell_type": "markdown",
      "metadata": {
        "id": "a56dMgTzyBSD"
      },
      "source": [
        "np3.ndim 에서 ndim은 몇 차원인지 나타내는 것이다.\n",
        "여기서는 np3는 1차원이다."
      ]
    },
    {
      "cell_type": "code",
      "metadata": {
        "id": "t_ZOzNySyAmk"
      },
      "source": [
        "np3 = np.arange(10,241,10)"
      ],
      "execution_count": 130,
      "outputs": []
    },
    {
      "cell_type": "code",
      "metadata": {
        "colab": {
          "base_uri": "https://localhost:8080/"
        },
        "id": "QXxRgC1pyMFi",
        "outputId": "f699afff-9347-474b-b7dd-16bdc29b4f16"
      },
      "source": [
        "np3.ndim"
      ],
      "execution_count": 131,
      "outputs": [
        {
          "output_type": "execute_result",
          "data": {
            "text/plain": [
              "1"
            ]
          },
          "metadata": {
            "tags": []
          },
          "execution_count": 131
        }
      ]
    },
    {
      "cell_type": "code",
      "metadata": {
        "colab": {
          "base_uri": "https://localhost:8080/"
        },
        "id": "7SMvKMV-yNP0",
        "outputId": "2640abe7-e24f-467b-a79d-e08174938481"
      },
      "source": [
        "np3"
      ],
      "execution_count": 132,
      "outputs": [
        {
          "output_type": "execute_result",
          "data": {
            "text/plain": [
              "array([ 10,  20,  30,  40,  50,  60,  70,  80,  90, 100, 110, 120, 130,\n",
              "       140, 150, 160, 170, 180, 190, 200, 210, 220, 230, 240])"
            ]
          },
          "metadata": {
            "tags": []
          },
          "execution_count": 132
        }
      ]
    },
    {
      "cell_type": "code",
      "metadata": {
        "colab": {
          "base_uri": "https://localhost:8080/"
        },
        "id": "bpAlg76LyNse",
        "outputId": "24afdff6-b349-49db-fbb8-e0dcac71f1e2"
      },
      "source": [
        "np33"
      ],
      "execution_count": 133,
      "outputs": [
        {
          "output_type": "execute_result",
          "data": {
            "text/plain": [
              "array([ 1.0583677 ,  0.41921798, -2.7800285 , -0.06712881,  1.3687004 ,\n",
              "       -0.9679867 ,  0.64345583, -0.17160591, -1.44240022,  1.83531887,\n",
              "       -0.58007129, -0.9349472 , -0.48843843,  1.01183324, -0.11048545,\n",
              "       -1.08242611,  2.24828852,  0.86589816,  1.53799188,  1.91826051,\n",
              "        0.55795884,  0.15565361, -0.58595451,  1.46058804])"
            ]
          },
          "metadata": {
            "tags": []
          },
          "execution_count": 133
        }
      ]
    },
    {
      "cell_type": "code",
      "metadata": {
        "id": "p8X-shBTyPTb"
      },
      "source": [
        "np333 = np3. reshape(2,12)"
      ],
      "execution_count": 134,
      "outputs": []
    },
    {
      "cell_type": "markdown",
      "metadata": {
        "id": "e7T7h0dMyUIJ"
      },
      "source": [
        "np3를 np333으로 바꾸고 2행 12열로 만든다."
      ]
    },
    {
      "cell_type": "code",
      "metadata": {
        "colab": {
          "base_uri": "https://localhost:8080/"
        },
        "id": "RXQ2PTAZySHU",
        "outputId": "aacf4d63-c90e-4ed3-e811-30de7efae288"
      },
      "source": [
        "np333"
      ],
      "execution_count": 136,
      "outputs": [
        {
          "output_type": "execute_result",
          "data": {
            "text/plain": [
              "array([[ 10,  20,  30,  40,  50,  60,  70,  80,  90, 100, 110, 120],\n",
              "       [130, 140, 150, 160, 170, 180, 190, 200, 210, 220, 230, 240]])"
            ]
          },
          "metadata": {
            "tags": []
          },
          "execution_count": 136
        }
      ]
    },
    {
      "cell_type": "code",
      "metadata": {
        "id": "TDZqq7OFyY9m"
      },
      "source": [
        "np3333 = np333.reshape(2,3,4)"
      ],
      "execution_count": 137,
      "outputs": []
    },
    {
      "cell_type": "markdown",
      "metadata": {
        "id": "x-gMbNX-yf9p"
      },
      "source": [
        "np3333을 3차원으로 만드는 데 2개의 행렬로 나누고 각 행은 3행 4열로 만든다."
      ]
    },
    {
      "cell_type": "code",
      "metadata": {
        "id": "3IojDk2lz9t5"
      },
      "source": [
        "np444 = np333.reshape(2,3,2,2)"
      ],
      "execution_count": 138,
      "outputs": []
    },
    {
      "cell_type": "code",
      "metadata": {
        "colab": {
          "base_uri": "https://localhost:8080/"
        },
        "id": "6cFSAunJ0bXY",
        "outputId": "6bcb3231-602a-4e60-c5e9-18f4c42e81f1"
      },
      "source": [
        "np444.ndim"
      ],
      "execution_count": 139,
      "outputs": [
        {
          "output_type": "execute_result",
          "data": {
            "text/plain": [
              "4"
            ]
          },
          "metadata": {
            "tags": []
          },
          "execution_count": 139
        }
      ]
    },
    {
      "cell_type": "code",
      "metadata": {
        "colab": {
          "base_uri": "https://localhost:8080/"
        },
        "id": "hCMmZ0ag0czO",
        "outputId": "f69158b9-19ed-427d-c066-28c83531c434"
      },
      "source": [
        "np444"
      ],
      "execution_count": 142,
      "outputs": [
        {
          "output_type": "execute_result",
          "data": {
            "text/plain": [
              "array([[[[ 10,  20],\n",
              "         [ 30,  40]],\n",
              "\n",
              "        [[ 50,  60],\n",
              "         [ 70,  80]],\n",
              "\n",
              "        [[ 90, 100],\n",
              "         [110, 120]]],\n",
              "\n",
              "\n",
              "       [[[130, 140],\n",
              "         [150, 160]],\n",
              "\n",
              "        [[170, 180],\n",
              "         [190, 200]],\n",
              "\n",
              "        [[210, 220],\n",
              "         [230, 240]]]])"
            ]
          },
          "metadata": {
            "tags": []
          },
          "execution_count": 142
        }
      ]
    },
    {
      "cell_type": "code",
      "metadata": {
        "colab": {
          "base_uri": "https://localhost:8080/"
        },
        "id": "T2qJimHp0d1N",
        "outputId": "ce0646e9-fb7f-43b0-e7cd-5d6eca1044ed"
      },
      "source": [
        "  np333"
      ],
      "execution_count": 143,
      "outputs": [
        {
          "output_type": "execute_result",
          "data": {
            "text/plain": [
              "array([[ 10,  20,  30,  40,  50,  60,  70,  80,  90, 100, 110, 120],\n",
              "       [130, 140, 150, 160, 170, 180, 190, 200, 210, 220, 230, 240]])"
            ]
          },
          "metadata": {
            "tags": []
          },
          "execution_count": 143
        }
      ]
    },
    {
      "cell_type": "code",
      "metadata": {
        "colab": {
          "base_uri": "https://localhost:8080/"
        },
        "id": "mJuqNvpy4gBx",
        "outputId": "e920c8f1-ad15-4e78-efa8-d8ad95cccd01"
      },
      "source": [
        "np3333"
      ],
      "execution_count": 144,
      "outputs": [
        {
          "output_type": "execute_result",
          "data": {
            "text/plain": [
              "array([[[ 10,  20,  30,  40],\n",
              "        [ 50,  60,  70,  80],\n",
              "        [ 90, 100, 110, 120]],\n",
              "\n",
              "       [[130, 140, 150, 160],\n",
              "        [170, 180, 190, 200],\n",
              "        [210, 220, 230, 240]]])"
            ]
          },
          "metadata": {
            "tags": []
          },
          "execution_count": 144
        }
      ]
    },
    {
      "cell_type": "code",
      "metadata": {
        "colab": {
          "base_uri": "https://localhost:8080/"
        },
        "id": "HHKXhu7D4g3z",
        "outputId": "c3323449-dbb7-4036-ff6b-55276189c52d"
      },
      "source": [
        "np3333[2:]"
      ],
      "execution_count": 145,
      "outputs": [
        {
          "output_type": "execute_result",
          "data": {
            "text/plain": [
              "array([], shape=(0, 3, 4), dtype=int64)"
            ]
          },
          "metadata": {
            "tags": []
          },
          "execution_count": 145
        }
      ]
    },
    {
      "cell_type": "code",
      "metadata": {
        "colab": {
          "base_uri": "https://localhost:8080/"
        },
        "id": "9SENTLX65qH6",
        "outputId": "a78ccaf5-f99e-4f6b-95d3-9650156156a1"
      },
      "source": [
        "np3333[:,:,:]"
      ],
      "execution_count": 146,
      "outputs": [
        {
          "output_type": "execute_result",
          "data": {
            "text/plain": [
              "array([[[ 10,  20,  30,  40],\n",
              "        [ 50,  60,  70,  80],\n",
              "        [ 90, 100, 110, 120]],\n",
              "\n",
              "       [[130, 140, 150, 160],\n",
              "        [170, 180, 190, 200],\n",
              "        [210, 220, 230, 240]]])"
            ]
          },
          "metadata": {
            "tags": []
          },
          "execution_count": 146
        }
      ]
    },
    {
      "cell_type": "code",
      "metadata": {
        "colab": {
          "base_uri": "https://localhost:8080/"
        },
        "id": "DEp9etd-57qt",
        "outputId": "14965ef8-cf13-4ff7-e290-2983c77204c6"
      },
      "source": [
        "np3333[:,0:0,2:3]"
      ],
      "execution_count": 147,
      "outputs": [
        {
          "output_type": "execute_result",
          "data": {
            "text/plain": [
              "array([], shape=(2, 0, 1), dtype=int64)"
            ]
          },
          "metadata": {
            "tags": []
          },
          "execution_count": 147
        }
      ]
    },
    {
      "cell_type": "code",
      "metadata": {
        "colab": {
          "base_uri": "https://localhost:8080/"
        },
        "id": "1J-BDEMe6KL1",
        "outputId": "609222c7-17b3-45f6-fd87-2adcab6d27cb"
      },
      "source": [
        "np3333[0:1,0:1,2:3]"
      ],
      "execution_count": 155,
      "outputs": [
        {
          "output_type": "execute_result",
          "data": {
            "text/plain": [
              "array([[[30]]])"
            ]
          },
          "metadata": {
            "tags": []
          },
          "execution_count": 155
        }
      ]
    },
    {
      "cell_type": "code",
      "metadata": {
        "colab": {
          "base_uri": "https://localhost:8080/"
        },
        "id": "R9VTqrny7AZe",
        "outputId": "3ebfea27-ae94-4f3e-ee90-805378dedfef"
      },
      "source": [
        "np3333[0:1,2:3,:]"
      ],
      "execution_count": 157,
      "outputs": [
        {
          "output_type": "execute_result",
          "data": {
            "text/plain": [
              "array([[[ 90, 100, 110, 120]]])"
            ]
          },
          "metadata": {
            "tags": []
          },
          "execution_count": 157
        }
      ]
    },
    {
      "cell_type": "code",
      "metadata": {
        "colab": {
          "base_uri": "https://localhost:8080/"
        },
        "id": "7MUQU_a_76oA",
        "outputId": "d3f8fb30-27de-40d8-9fac-7181dd3a3bdc"
      },
      "source": [
        "np3333[1:2,1:3,0:2]"
      ],
      "execution_count": 158,
      "outputs": [
        {
          "output_type": "execute_result",
          "data": {
            "text/plain": [
              "array([[[170, 180],\n",
              "        [210, 220]]])"
            ]
          },
          "metadata": {
            "tags": []
          },
          "execution_count": 158
        }
      ]
    },
    {
      "cell_type": "code",
      "metadata": {
        "id": "qPgWtDvQ8Egv"
      },
      "source": [
        "np123 = np3333"
      ],
      "execution_count": 178,
      "outputs": []
    },
    {
      "cell_type": "code",
      "metadata": {
        "colab": {
          "base_uri": "https://localhost:8080/"
        },
        "id": "6511s9Bg8YL-",
        "outputId": "a287f743-ac79-4067-ba41-832dadcef3f4"
      },
      "source": [
        "np123"
      ],
      "execution_count": 179,
      "outputs": [
        {
          "output_type": "execute_result",
          "data": {
            "text/plain": [
              "array([[[ 10,  20,  30,  40],\n",
              "        [ 50,  60,  70,  80],\n",
              "        [ 90, 100, 110, 120]],\n",
              "\n",
              "       [[130, 140, 150, 160],\n",
              "        [170, 180, 190, 200],\n",
              "        [210, 220, 230, 240]]])"
            ]
          },
          "metadata": {
            "tags": []
          },
          "execution_count": 179
        }
      ]
    },
    {
      "cell_type": "code",
      "metadata": {
        "colab": {
          "base_uri": "https://localhost:8080/"
        },
        "id": "RRwcM9p7APNN",
        "outputId": "836798bd-1430-47a4-c584-268886df74bd"
      },
      "source": [
        "np123[0:2,1:3,2:4] , np123[1:3, 1:3,2:4]"
      ],
      "execution_count": 190,
      "outputs": [
        {
          "output_type": "execute_result",
          "data": {
            "text/plain": [
              "(array([[[ 70,  80],\n",
              "         [110, 120]],\n",
              " \n",
              "        [[190, 200],\n",
              "         [230, 240]]]), array([[[190, 200],\n",
              "         [230, 240]]]))"
            ]
          },
          "metadata": {
            "tags": []
          },
          "execution_count": 190
        }
      ]
    },
    {
      "cell_type": "code",
      "metadata": {
        "colab": {
          "base_uri": "https://localhost:8080/"
        },
        "id": "HPHkLRlRATtP",
        "outputId": "fe1ee4d4-e5b8-4446-a4a0-a3f48c56c019"
      },
      "source": [
        "np123[0:2,1:3,2:4]"
      ],
      "execution_count": 195,
      "outputs": [
        {
          "output_type": "execute_result",
          "data": {
            "text/plain": [
              "array([[[ 70,  80],\n",
              "        [110, 120]],\n",
              "\n",
              "       [[190, 200],\n",
              "        [230, 240]]])"
            ]
          },
          "metadata": {
            "tags": []
          },
          "execution_count": 195
        }
      ]
    },
    {
      "cell_type": "code",
      "metadata": {
        "colab": {
          "base_uri": "https://localhost:8080/"
        },
        "id": "4R2Eaq5wBt5a",
        "outputId": "c1b8b620-6b48-4d8f-f935-448638ff9f06"
      },
      "source": [
        "np123[0:1,1:3,2:4] np123[1:3,0:2,2:4]"
      ],
      "execution_count": 204,
      "outputs": [
        {
          "output_type": "execute_result",
          "data": {
            "text/plain": [
              "array([[[220, 240],\n",
              "        [300, 320]]])"
            ]
          },
          "metadata": {
            "tags": []
          },
          "execution_count": 204
        }
      ]
    },
    {
      "cell_type": "code",
      "metadata": {
        "colab": {
          "base_uri": "https://localhost:8080/"
        },
        "id": "Lprn0MtkCDeH",
        "outputId": "a2126a7e-03db-45e3-c04d-86e0bacd95a5"
      },
      "source": [
        "np123[:,1:,2:]"
      ],
      "execution_count": 206,
      "outputs": [
        {
          "output_type": "execute_result",
          "data": {
            "text/plain": [
              "array([[[ 70,  80],\n",
              "        [110, 120]],\n",
              "\n",
              "       [[190, 200],\n",
              "        [230, 240]]])"
            ]
          },
          "metadata": {
            "tags": []
          },
          "execution_count": 206
        }
      ]
    },
    {
      "cell_type": "code",
      "metadata": {
        "id": "n8yjZ0qXC-5F"
      },
      "source": [
        ""
      ],
      "execution_count": null,
      "outputs": []
    }
  ]
}