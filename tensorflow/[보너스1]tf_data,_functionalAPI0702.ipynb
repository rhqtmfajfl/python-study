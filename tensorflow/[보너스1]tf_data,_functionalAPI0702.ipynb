{
  "nbformat": 4,
  "nbformat_minor": 0,
  "metadata": {
    "colab": {
      "name": "[보너스1]tf.data, functionalAPI.ipynb",
      "provenance": [],
      "authorship_tag": "ABX9TyPhJUmnMj+69yP1PY716tAb",
      "include_colab_link": true
    },
    "kernelspec": {
      "display_name": "Python 3",
      "name": "python3"
    },
    "language_info": {
      "name": "python"
    }
  },
  "cells": [
    {
      "cell_type": "markdown",
      "metadata": {
        "id": "view-in-github",
        "colab_type": "text"
      },
      "source": [
        "<a href=\"https://colab.research.google.com/github/rhqtmfajfl/python-study/blob/master/tensorflow/%5B%EB%B3%B4%EB%84%88%EC%8A%A41%5Dtf_data%2C_functionalAPI0702.ipynb\" target=\"_parent\"><img src=\"https://colab.research.google.com/assets/colab-badge.svg\" alt=\"Open In Colab\"/></a>"
      ]
    },
    {
      "cell_type": "markdown",
      "metadata": {
        "id": "8HQVMBH1HLET"
      },
      "source": [
        "# Tensorflow로 모델링하는 2가지 방법\n",
        "1. `Sequential` 모델링을 활용하는 방법\n",
        "  * keras에서 제공하는 레이어들을 이어 붙여 가면서 모델링하는 방법\n",
        "  * 쉽고 빠르게 모델링이 가능하다.\n",
        "  * 레이어들에 대한 커스터마이징이 조금 힘들다.\n",
        "2. `Functional API`를 활용하는 방법\n",
        "  * 개발자가 직접 레이어를 정의해서 keras의 레이어처럼 사용하게 할 수 있다.(`tf.keras.layers` 상속)\n",
        "  * 기타 평가 방식이나 Loss, Optimizer 등등을 직접 정의해서 사용할 수 있다."
      ]
    },
    {
      "cell_type": "markdown",
      "metadata": {
        "id": "2DemJ7ZYL_a2"
      },
      "source": [
        "# tf.data 사용하기\n",
        "* 일반적인 배열이 아닌, 병렬 처리 된 배열을 이용하여 매우 빠른 속도로 데이터의 입출력이 가능하게 된다.\n",
        "* `dataset`이라는 개념을 이용해서 `feature`, `label`을 손쉽게 관리할 수 있다."
      ]
    },
    {
      "cell_type": "code",
      "metadata": {
        "id": "Q7NmnSYsMZ6F"
      },
      "source": [
        "import tensorflow as tf\n",
        "from tensorflow.keras import datasets"
      ],
      "execution_count": null,
      "outputs": []
    },
    {
      "cell_type": "code",
      "metadata": {
        "colab": {
          "base_uri": "https://localhost:8080/"
        },
        "id": "5e-qzKdWMg5w",
        "outputId": "9ca056f3-5246-4773-f569-5ec4a212b5d2"
      },
      "source": [
        "mnist = datasets.mnist\n",
        "(x_train, y_train), (x_test, y_test) = datasets.mnist.load_data()  # feature labe, feature label"
      ],
      "execution_count": null,
      "outputs": [
        {
          "output_type": "stream",
          "text": [
            "Downloading data from https://storage.googleapis.com/tensorflow/tf-keras-datasets/mnist.npz\n",
            "11493376/11490434 [==============================] - 0s 0us/step\n"
          ],
          "name": "stdout"
        }
      ]
    },
    {
      "cell_type": "code",
      "metadata": {
        "id": "uKjazWhkMyOB"
      },
      "source": [
        "x_train = x_train[..., tf.newaxis]\n",
        "x_test = x_test[...,tf.newaxis]\n",
        "\n",
        "x_train, x_test = x_train/255.0, x_test/255.0"
      ],
      "execution_count": null,
      "outputs": []
    },
    {
      "cell_type": "code",
      "metadata": {
        "colab": {
          "base_uri": "https://localhost:8080/"
        },
        "id": "Zoy2K3PEM_Fs",
        "outputId": "f8beb26a-65b6-4253-baae-d3bdace30e82"
      },
      "source": [
        "x_train.shape, x_test.shape # 4차원 데이터"
      ],
      "execution_count": null,
      "outputs": [
        {
          "output_type": "execute_result",
          "data": {
            "text/plain": [
              "((60000, 28, 28, 1), (10000, 28, 28, 1))"
            ]
          },
          "metadata": {
            "tags": []
          },
          "execution_count": 9
        }
      ]
    },
    {
      "cell_type": "markdown",
      "metadata": {
        "id": "yoFQSLizNHaU"
      },
      "source": [
        "## tf.data의 함수들\n",
        "* `from_tensor_slices()` : `feature`, `label`을 합친 데이터세트(**ds**) 를 생성\n",
        "* `shuffle()` : 데이터 세트에 있는 데이터를 랜덤하게 섞어줌\n",
        "* `batch()` : 배치 생성하기"
      ]
    },
    {
      "cell_type": "code",
      "metadata": {
        "id": "M8oO-DSgNaDY"
      },
      "source": [
        "# 데이터 세트를 만드는 과정을 제너레이트 라고 한다.\n",
        "# 데이터 세트를 제너레이트할 데이터를 넣어 준다. 데이터를 병렬로 처리하 수 있게 된다. (속도가 매우빨라 진다..)\n",
        "\n",
        "train_ds =tf.data.Dataset.from_tensor_slices((x_train, y_train)) # 튜플로 x_train이랑 y_train을 넣어준다.\n",
        "\n",
        "#데이터 섞기\n",
        "train_ds = train_ds.shuffle(1024) #매개변수에 들어가는 숫자는 랜덤 시드가 아닌 랜덤을 생성하기 위한 버퍼 사이즈(1kb를 일반적으로 설정함.)\n",
        "#잠깐 데이터가 머문다.\n",
        "\n",
        "#배치 생성\n",
        "train_ds = train_ds.batch(32) # iteration 할 때마다 batch_size 만큼 데이터가 나온다. (여기서는 32)  반복할때마다 32개씩 나온다.\n"
      ],
      "execution_count": null,
      "outputs": []
    },
    {
      "cell_type": "code",
      "metadata": {
        "id": "M-xmTDR_OcwS"
      },
      "source": [
        "#테스트 ds 만들기\n",
        "test_ds = tf.data.Dataset.from_tensor_slices((x_test, y_test))\n",
        "\n",
        "#테스트 세트는 셔플이 필요 없다. 배치만 설정해 주자.\n",
        "test_ds = test_ds.batch(32)#반복할때 마다 32개씩 나온다.\n"
      ],
      "execution_count": null,
      "outputs": []
    },
    {
      "cell_type": "markdown",
      "metadata": {
        "id": "Zp8pB1poPSDl"
      },
      "source": [
        "`take()` 함수를 이용하면 데이터를 (이미 정해진) 배치 사이즈 만큼 데이터를 꺼내올 수 있다."
      ]
    },
    {
      "cell_type": "code",
      "metadata": {
        "colab": {
          "base_uri": "https://localhost:8080/"
        },
        "id": "-CD7uwa2Pejf",
        "outputId": "870f2502-40bb-4506-c994-821d8e9c119b"
      },
      "source": [
        "for images, labels in train_ds.take(1): # take를 이용하면 배치를 볓개 꺼내올지 알 수 있따.\n",
        "  print(images.shape, labels.shape)"
      ],
      "execution_count": null,
      "outputs": [
        {
          "output_type": "stream",
          "text": [
            "(32, 28, 28, 1) (32,)\n"
          ],
          "name": "stdout"
        }
      ]
    },
    {
      "cell_type": "code",
      "metadata": {
        "colab": {
          "base_uri": "https://localhost:8080/"
        },
        "id": "NzFpOp1UPmZ9",
        "outputId": "270b08fc-f82a-453b-a204-68641da72091"
      },
      "source": [
        "for images, labels in train_ds.take(3): # take를 이용하면 배치를 볓개 꺼내올지 알 수 있따.\n",
        "  print(images.shape, labels.shape)"
      ],
      "execution_count": null,
      "outputs": [
        {
          "output_type": "stream",
          "text": [
            "(32, 28, 28, 1) (32,)\n",
            "(32, 28, 28, 1) (32,)\n",
            "(32, 28, 28, 1) (32,)\n"
          ],
          "name": "stdout"
        }
      ]
    },
    {
      "cell_type": "code",
      "metadata": {
        "colab": {
          "base_uri": "https://localhost:8080/",
          "height": 545
        },
        "id": "hj6fZXXsPzcD",
        "outputId": "17c3b462-3508-4525-c79d-944dd97b2133"
      },
      "source": [
        "import matplotlib.pyplot as plt\n",
        "\n",
        "for images, labels in train_ds.take(2):\n",
        "  image = images[0,...,0]\n",
        "  label = labels.numpy()[0]\n",
        "\n",
        "  plt.title(label)\n",
        "  plt.imshow(image, cmap='gray')\n",
        "  plt.show()"
      ],
      "execution_count": null,
      "outputs": [
        {
          "output_type": "display_data",
          "data": {
            "image/png": "[encoded data removed]",
            "text/plain": [
              "<Figure size 432x288 with 1 Axes>"
            ]
          },
          "metadata": {
            "tags": []
          }
        },
        {
          "output_type": "display_data",
          "data": {
            "image/png": "[encoded data removed]",
            "text/plain": [
              "<Figure size 432x288 with 1 Axes>"
            ]
          },
          "metadata": {
            "tags": []
          }
        }
      ]
    },
    {
      "cell_type": "markdown",
      "metadata": {
        "id": "K1tfF4NxP-5O"
      },
      "source": [
        "## tf.data를 이용해서 Sequantial 모델 훈련하기\n"
      ]
    },
    {
      "cell_type": "code",
      "metadata": {
        "colab": {
          "base_uri": "https://localhost:8080/"
        },
        "id": "n1RedvtmQwHc",
        "outputId": "c24c593b-75ff-4ee8-ba8f-9498a43f3f38"
      },
      "source": [
        "from tensorflow.keras.layers import Conv2D, MaxPool2D#Feature Extraction Layers  #, Flatten, Dense\n",
        "from tensorflow.keras.layers import Flatten, Dense # Fully Connected Layers\n",
        "from tensorflow.keras.models import Sequential\n",
        "\n",
        "from tensorflow.keras.layers import Dropout  # Dropout 계산양을 줄여준다.\n",
        "\n",
        "model = Sequential([\n",
        "                    ###### Feature Extraction ####\n",
        "                    Conv2D(filters = 32, kernel_size = 3, padding='SAME', input_shape=(28,28,1), activation='relu'), #KERNEL SIZE 필터의 크기\n",
        "                    # Conv2D(32,3 padding='SAME', input_sahpe=(28,28,1), activation='relu') #으로도 가능\n",
        "                    Conv2D(filters = 32, kernel_size = 3, padding='SAME', activation='relu'),\n",
        "                    MaxPool2D(pool_size =(2,2)),\n",
        "\n",
        "                    Dropout(0.25), #25%의 데이터를 사용하지 않겠다라는 의미\n",
        "                    # 가중치를 0으로 만들 데이터의 비율 지정(사용하지 않을 데이터의 비율 지정) - 과대적합 방지\n",
        "\n",
        "                    Conv2D(filters =64, kernel_size=3, padding='SAME', activation='relu'),\n",
        "                    Conv2D(filters =64, kernel_size=3, padding='SAME', activation='relu'),\n",
        "                    MaxPool2D(pool_size=(2,2)),\n",
        "\n",
        "                    Dropout(0.25),\n",
        "\n",
        "                   ##### Fully Connected #####\n",
        "                    Flatten(),\n",
        "                    Dense(512, activation='relu'),\n",
        "                    Dense(10, activation='softmax')\n",
        "])\n",
        "model.summary()"
      ],
      "execution_count": null,
      "outputs": [
        {
          "output_type": "stream",
          "text": [
            "Model: \"sequential\"\n",
            "_________________________________________________________________\n",
            "Layer (type)                 Output Shape              Param #   \n",
            "=================================================================\n",
            "conv2d_4 (Conv2D)            (None, 28, 28, 32)        320       \n",
            "_________________________________________________________________\n",
            "conv2d_5 (Conv2D)            (None, 28, 28, 32)        9248      \n",
            "_________________________________________________________________\n",
            "max_pooling2d (MaxPooling2D) (None, 14, 14, 32)        0         \n",
            "_________________________________________________________________\n",
            "dropout (Dropout)            (None, 14, 14, 32)        0         \n",
            "_________________________________________________________________\n",
            "conv2d_6 (Conv2D)            (None, 14, 14, 64)        18496     \n",
            "_________________________________________________________________\n",
            "conv2d_7 (Conv2D)            (None, 14, 14, 64)        36928     \n",
            "_________________________________________________________________\n",
            "max_pooling2d_1 (MaxPooling2 (None, 7, 7, 64)          0         \n",
            "_________________________________________________________________\n",
            "dropout_1 (Dropout)          (None, 7, 7, 64)          0         \n",
            "_________________________________________________________________\n",
            "flatten (Flatten)            (None, 3136)              0         \n",
            "_________________________________________________________________\n",
            "dense (Dense)                (None, 512)               1606144   \n",
            "_________________________________________________________________\n",
            "dense_1 (Dense)              (None, 10)                5130      \n",
            "=================================================================\n",
            "Total params: 1,676,266\n",
            "Trainable params: 1,676,266\n",
            "Non-trainable params: 0\n",
            "_________________________________________________________________\n"
          ],
          "name": "stdout"
        }
      ]
    },
    {
      "cell_type": "code",
      "metadata": {
        "id": "OLMbP97nSndW"
      },
      "source": [
        "model.compile(optimizer='adam', loss='sparse_categorical_crossentropy', metrics=['acc'])"
      ],
      "execution_count": null,
      "outputs": []
    },
    {
      "cell_type": "code",
      "metadata": {
        "id": "QuAa6X9STYSr"
      },
      "source": [
        "# tf.data를 이용해서 훈련\n",
        "model.fit(train_ds, epochs=1)"
      ],
      "execution_count": null,
      "outputs": []
    },
    {
      "cell_type": "markdown",
      "metadata": {
        "id": "q6HgfraxmQeJ"
      },
      "source": [
        "# @tf.function\n",
        "* `Functional API`에서 가장 많이 사용되는 데코레이터 패턴, Tensorflow 세션( 계산그래프 )에서 관리하는 함수가 될 수 있도록 해준다.\n",
        "* `@tf.function`이 붙은 함수는 계산그래프가 모두 그려지고나서 실제 학습이 되면서 수행되기 때문에 `Tensorflow`의 리소스를 이용할 수 있게 된다.\n",
        "* 학습 및 테스트하는 함수에 붙는다."
      ]
    },
    {
      "cell_type": "code",
      "metadata": {
        "id": "Kbz7nx5NmRCU"
      },
      "source": [
        "# #tf.function은 functional API에서가장많이 사용되는데코레이터 패턴, Tensorflow 세션(계산그래프) 에서\n",
        "# 관리하는 함수가 될수 있도록 해준다.\n"
      ],
      "execution_count": null,
      "outputs": []
    },
    {
      "cell_type": "code",
      "metadata": {
        "id": "stT8Di3qn32V"
      },
      "source": [
        "# # Loss Fuction\n",
        "# loss_object = tf.keras.losses.SparseCategoricalCrossentropy()\n",
        "\n",
        "# # Optimizer\n",
        "# optimizer = tf.keras.optimizers.Adam()\n",
        "\n",
        "# # Train/ Test Loss를 평균으로 관리\n",
        "# train_loss = tf.keras.metrics.Mean(name='train_loss')\n",
        "# train_accuracy = tf.keras.metrics.SparseCategoricalAccuracy(name='train_accuracy')\n",
        "\n",
        "# test_loss = tf.keras.metrics.Mean(name='test_loss')\n",
        "# test_accuracy = tf.keras.metrics.SparseCategoricalAccuracy(name='test_accuracy')\n",
        "\n",
        "# @tf.function\n",
        "# def train_step(images, labels):\n",
        "#   #데이터와 레이블을 따로따로 불러온다.\n",
        "#   # 텐서플로우에 역전파를 이용한 자동 미분 수행을 위한 환경만들기(이런 시스템이 존재한다.)\n",
        "#   # loss를 구하는 과정\n",
        "#   # 어떤 미분 환경안에서 loss를 구하는 것을 만들면 된다.\n",
        "#   #그렇다면loss함수가필요하다.\n",
        "#   # loss를 구해야 오차 역전파를 구할 수있다.\n",
        "\n",
        "\n",
        "# ###미분을 하기위한 준비과정######################\n",
        "#   with tf.GradientTape() as tape: #테입이란 객체로 미분을 한다.\n",
        "#     # 무엇에 대한 미분을 할 것인가 자동 미분 수행을 위한 환경\n",
        "#     #1. 예측\n",
        "#     prediction = model(images) # 모델이 훈련 모드가 된다. 훈련모드의 모델이 된다. \n",
        "\n",
        "#     #2. loss 구하기\n",
        "#     loss = loss_object(labels, prediction)\n",
        "#   ########################여기까지 설정 부분 미분 준비과정\n",
        "\n",
        "# #3. 오차역전파 수행(grads : 수정되어야할 기울기 백터)\n",
        "#   grads = tape.gradient(loss, model.trainable_variables) # model.trainable_variables : 가중치, 편향 정보 (갱신이 가능한 ...) \n",
        "# # 각 매개변수별로 기울기가 등장 한다.\n",
        "\n",
        "# #4. 최적화(apply_gradients : 매개변수 갱신)\n",
        "#   optimizer.apply_gradients(zip(grads, model.trainable_variables))\n",
        "\n",
        "# #여기나오는 변수나 함수 외우고 있어야 한다.\n",
        "\n",
        "# #loss, accuracy 기록\n",
        "#   trian_loss(loss)\n",
        "#   train_accuracy(labels, prediction)"
      ],
      "execution_count": null,
      "outputs": []
    },
    {
      "cell_type": "code",
      "metadata": {
        "id": "D6f_1jqJys1Q"
      },
      "source": [
        "# Loss Function\n",
        "loss_object = tf.keras.losses.SparseCategoricalCrossentropy()\n",
        "\n",
        "# Optimizer\n",
        "optimizer = tf.keras.optimizers.Adam()\n",
        "\n",
        "# Train / Test Loss를 평균으로 관리\n",
        "train_loss = tf.keras.metrics.Mean(name='train_loss') \n",
        "train_accuracy = tf.keras.metrics.SparseCategoricalAccuracy(name='train_accuracy')\n",
        "\n",
        "test_loss = tf.keras.metrics.Mean(name='test_loss')\n",
        "test_accuracy = tf.keras.metrics.SparseCategoricalAccuracy(name='test_accuracy')\n",
        "\n",
        "@tf.function\n",
        "def train_step(images, labels):\n",
        "  # 자동 미분 수행을 위한 환경 만들기\n",
        "  #  loss를 구하는 과정\n",
        "  with tf.GradientTape() as tape: # 미분 준비 과정\n",
        "    # 1. 예측\n",
        "    prediction = model(images) # 모델이 훈련 모드가 된다.\n",
        "\n",
        "    # 2. loss 구하기\n",
        "    loss = loss_object(labels, prediction)\n",
        "\n",
        "  # 3. 오차 역전파 수행 ( grads : 수정 되어야할 기울기 벡터 )\n",
        "  grads = tape.gradient(loss, model.trainable_variables) # model.trainable_variables : 가중치, 편향 정보 ( 갱신이 가능한 ... )\n",
        "\n",
        "  # 4. 최적화 (apply_gradients : 매개변수 갱신) \n",
        "  optimizer.apply_gradients(zip(grads, model.trainable_variables))\n",
        "\n",
        "  # loss, accuracy 기록\n",
        "  train_loss(loss)\n",
        "  train_accuracy(labels, prediction)"
      ],
      "execution_count": null,
      "outputs": []
    },
    {
      "cell_type": "code",
      "metadata": {
        "id": "pH6Rr8RhpUue"
      },
      "source": [
        "#전이학습 내 다른 사람들의 가중치를 가지고 오겠다."
      ],
      "execution_count": null,
      "outputs": []
    },
    {
      "cell_type": "code",
      "metadata": {
        "id": "kbbR65iJtV6g"
      },
      "source": [
        "# @tf.function\n",
        "# def test_step(images, labels):\n",
        "#   prediction = model(images)\n",
        "#   t_loss = loss_object(labels, prediction)\n",
        "\n",
        "#   test_loss(t_loss)\n",
        "#   test_accuracy(labels, prediction)"
      ],
      "execution_count": null,
      "outputs": []
    },
    {
      "cell_type": "code",
      "metadata": {
        "id": "5Py0VE18yvMq"
      },
      "source": [
        "@tf.function\n",
        "def test_step(images, labels):\n",
        "  prediction = model(images)\n",
        "  t_loss = loss_object(labels, prediction)\n",
        "\n",
        "  test_loss(t_loss)\n",
        "  test_accuracy(labels, prediction)"
      ],
      "execution_count": null,
      "outputs": []
    },
    {
      "cell_type": "markdown",
      "metadata": {
        "id": "13e9lA3Ev52a"
      },
      "source": [
        "모델 재실행"
      ]
    },
    {
      "cell_type": "code",
      "metadata": {
        "colab": {
          "base_uri": "https://localhost:8080/"
        },
        "id": "l_an45Y8t8Gu",
        "outputId": "cb07fd54-79b4-4fa1-919d-b781cce75a72"
      },
      "source": [
        "# model = Sequential([\n",
        "                    \n",
        "#   ##### Feature Extraction #####\n",
        "#   Conv2D(filters=32, kernel_size=3, padding='SAME', input_shape=(28, 28, 1), activation='relu'),\n",
        "#   Conv2D(filters=32, kernel_size=3, padding='SAME', activation='relu'),\n",
        "#   MaxPool2D(pool_size=(2, 2)),\n",
        "\n",
        "#   Dropout(0.25), # 가중치를 0으로 만들 데이터의 비율 지정(사용하지 않을 데이터의 비율 지정) - 과대적합 방지\n",
        "\n",
        "#   Conv2D(filters=64, kernel_size=3, padding='SAME', activation='relu'),\n",
        "#   Conv2D(filters=64, kernel_size=3, padding='SAME', activation='relu'),\n",
        "#   MaxPool2D(pool_size=(2, 2)),\n",
        "\n",
        "#   Dropout(0.25),\n",
        "\n",
        "#   ##### Fully Connected #####\n",
        "#   Flatten(),\n",
        "#   Dense(512, activation='relu'),\n",
        "#   Dense(10, activation='softmax')])\n",
        "\n",
        "# model.summary()"
      ],
      "execution_count": null,
      "outputs": [
        {
          "output_type": "stream",
          "text": [
            "Model: \"sequential_4\"\n",
            "_________________________________________________________________\n",
            "Layer (type)                 Output Shape              Param #   \n",
            "=================================================================\n",
            "conv2d_20 (Conv2D)           (None, 28, 28, 32)        320       \n",
            "_________________________________________________________________\n",
            "conv2d_21 (Conv2D)           (None, 28, 28, 32)        9248      \n",
            "_________________________________________________________________\n",
            "max_pooling2d_8 (MaxPooling2 (None, 14, 14, 32)        0         \n",
            "_________________________________________________________________\n",
            "dropout_8 (Dropout)          (None, 14, 14, 32)        0         \n",
            "_________________________________________________________________\n",
            "conv2d_22 (Conv2D)           (None, 14, 14, 64)        18496     \n",
            "_________________________________________________________________\n",
            "conv2d_23 (Conv2D)           (None, 14, 14, 64)        36928     \n",
            "_________________________________________________________________\n",
            "max_pooling2d_9 (MaxPooling2 (None, 7, 7, 64)          0         \n",
            "_________________________________________________________________\n",
            "dropout_9 (Dropout)          (None, 7, 7, 64)          0         \n",
            "_________________________________________________________________\n",
            "flatten_4 (Flatten)          (None, 3136)              0         \n",
            "_________________________________________________________________\n",
            "dense_8 (Dense)              (None, 512)               1606144   \n",
            "_________________________________________________________________\n",
            "dense_9 (Dense)              (None, 10)                5130      \n",
            "=================================================================\n",
            "Total params: 1,676,266\n",
            "Trainable params: 1,676,266\n",
            "Non-trainable params: 0\n",
            "_________________________________________________________________\n"
          ],
          "name": "stdout"
        }
      ]
    },
    {
      "cell_type": "code",
      "metadata": {
        "colab": {
          "base_uri": "https://localhost:8080/"
        },
        "id": "3kYL17Qwyx6Q",
        "outputId": "d60c8d51-bc91-40c4-b449-2546d51d2d93"
      },
      "source": [
        "model = Sequential([\n",
        "                    \n",
        "  ##### Feature Extraction #####\n",
        "  Conv2D(filters=32, kernel_size=3, padding='SAME', input_shape=(28, 28, 1), activation='relu'),\n",
        "  Conv2D(filters=32, kernel_size=3, padding='SAME', activation='relu'),\n",
        "  MaxPool2D(pool_size=(2, 2)),\n",
        "\n",
        "  Dropout(0.25), # 가중치를 0으로 만들 데이터의 비율 지정(사용하지 않을 데이터의 비율 지정) - 과대적합 방지\n",
        "\n",
        "  Conv2D(filters=64, kernel_size=3, padding='SAME', activation='relu'),\n",
        "  Conv2D(filters=64, kernel_size=3, padding='SAME', activation='relu'),\n",
        "  MaxPool2D(pool_size=(2, 2)),\n",
        "\n",
        "  Dropout(0.25),\n",
        "\n",
        "  ##### Fully Connected #####\n",
        "  Flatten(),\n",
        "  Dense(512, activation='relu'),\n",
        "  Dense(10, activation='softmax')])\n",
        "\n",
        "model.summary()"
      ],
      "execution_count": null,
      "outputs": [
        {
          "output_type": "stream",
          "text": [
            "Model: \"sequential_5\"\n",
            "_________________________________________________________________\n",
            "Layer (type)                 Output Shape              Param #   \n",
            "=================================================================\n",
            "conv2d_24 (Conv2D)           (None, 28, 28, 32)        320       \n",
            "_________________________________________________________________\n",
            "conv2d_25 (Conv2D)           (None, 28, 28, 32)        9248      \n",
            "_________________________________________________________________\n",
            "max_pooling2d_10 (MaxPooling (None, 14, 14, 32)        0         \n",
            "_________________________________________________________________\n",
            "dropout_10 (Dropout)         (None, 14, 14, 32)        0         \n",
            "_________________________________________________________________\n",
            "conv2d_26 (Conv2D)           (None, 14, 14, 64)        18496     \n",
            "_________________________________________________________________\n",
            "conv2d_27 (Conv2D)           (None, 14, 14, 64)        36928     \n",
            "_________________________________________________________________\n",
            "max_pooling2d_11 (MaxPooling (None, 7, 7, 64)          0         \n",
            "_________________________________________________________________\n",
            "dropout_11 (Dropout)         (None, 7, 7, 64)          0         \n",
            "_________________________________________________________________\n",
            "flatten_5 (Flatten)          (None, 3136)              0         \n",
            "_________________________________________________________________\n",
            "dense_10 (Dense)             (None, 512)               1606144   \n",
            "_________________________________________________________________\n",
            "dense_11 (Dense)             (None, 10)                5130      \n",
            "=================================================================\n",
            "Total params: 1,676,266\n",
            "Trainable params: 1,676,266\n",
            "Non-trainable params: 0\n",
            "_________________________________________________________________\n"
          ],
          "name": "stdout"
        }
      ]
    },
    {
      "cell_type": "code",
      "metadata": {
        "colab": {
          "base_uri": "https://localhost:8080/",
          "height": 419
        },
        "id": "PjX9qBEtuGv0",
        "outputId": "3045f0d8-87a9-4446-ce09-6433273ae2f0"
      },
      "source": [
        "# epochs = 10\n",
        "\n",
        "# for epoch in range(epochs):\n",
        "#   # 1 에폭은 모든 데이터에 대한 학습\n",
        "#   for images, labels in train_ds:\n",
        "#     train_step(images, labels)\n",
        "  \n",
        "#   # 테스트 수행\n",
        "#   for test_images, test_labels in test_ds:\n",
        "#     test_step(test_images, test_labels)\n",
        "\n",
        "#   template = \"Epoch {}, Train Loss : {:.3f}, Train Accuracy : {:.3f} /// Test Loss : {:.3f}, Test Accuracy : {:.3f}\"\n",
        "#   print(template.format(epoch + 1, train_loss.result(), train_accuracy.result(), test_loss.result(), train_acc))\n",
        "\n",
        "#   # epochs = 10\n",
        "\n",
        "# # for epoch in range(epochs):\n",
        "# #   # 1 에폭은 모든 데이터에 대한 학습\n",
        "# #   for images, labels in train_ds:\n",
        "# #     train_step(images, labels)\n",
        "  \n",
        "# #   # 테스트 수행\n",
        "# #   for test_images, test_labels in test_ds:\n",
        "# #     test_step(test_images, test_labels)\n",
        "\n",
        "# #   template = \"Epoch {}, Train Loss : {:.3f}, Train Accuracy : {:.3f} /// Test Loss : {:.3f}, Test Accuracy : {:.3f}\"\n",
        "# #   print(template.format(epoch + 1, train_loss.result(), train_accuracy.result(), test_loss.result(), train_acc))"
      ],
      "execution_count": null,
      "outputs": [
        {
          "output_type": "error",
          "ename": "TypeError",
          "evalue": "ignored",
          "traceback": [
            "\u001b[0;31m---------------------------------------------------------------------------\u001b[0m",
            "\u001b[0;31mTypeError\u001b[0m                                 Traceback (most recent call last)",
            "\u001b[0;32m<ipython-input-71-6b0e150afac6>\u001b[0m in \u001b[0;36m<module>\u001b[0;34m()\u001b[0m\n\u001b[1;32m      4\u001b[0m   \u001b[0;31m# 1 에폭은 모든 데이터에 대한 학습\u001b[0m\u001b[0;34m\u001b[0m\u001b[0;34m\u001b[0m\u001b[0;34m\u001b[0m\u001b[0m\n\u001b[1;32m      5\u001b[0m   \u001b[0;32mfor\u001b[0m \u001b[0mimages\u001b[0m\u001b[0;34m,\u001b[0m \u001b[0mlabels\u001b[0m \u001b[0;32min\u001b[0m \u001b[0mtrain_ds\u001b[0m\u001b[0;34m:\u001b[0m\u001b[0;34m\u001b[0m\u001b[0;34m\u001b[0m\u001b[0m\n\u001b[0;32m----> 6\u001b[0;31m     \u001b[0mtrain_step\u001b[0m\u001b[0;34m(\u001b[0m\u001b[0mimages\u001b[0m\u001b[0;34m,\u001b[0m \u001b[0mlabels\u001b[0m\u001b[0;34m)\u001b[0m\u001b[0;34m\u001b[0m\u001b[0;34m\u001b[0m\u001b[0m\n\u001b[0m\u001b[1;32m      7\u001b[0m \u001b[0;34m\u001b[0m\u001b[0m\n\u001b[1;32m      8\u001b[0m   \u001b[0;31m# 테스트 수행\u001b[0m\u001b[0;34m\u001b[0m\u001b[0;34m\u001b[0m\u001b[0;34m\u001b[0m\u001b[0m\n",
            "\u001b[0;32m/usr/local/lib/python3.7/dist-packages/tensorflow/python/eager/def_function.py\u001b[0m in \u001b[0;36m__call__\u001b[0;34m(self, *args, **kwds)\u001b[0m\n\u001b[1;32m    887\u001b[0m \u001b[0;34m\u001b[0m\u001b[0m\n\u001b[1;32m    888\u001b[0m       \u001b[0;32mwith\u001b[0m \u001b[0mOptionalXlaContext\u001b[0m\u001b[0;34m(\u001b[0m\u001b[0mself\u001b[0m\u001b[0;34m.\u001b[0m\u001b[0m_jit_compile\u001b[0m\u001b[0;34m)\u001b[0m\u001b[0;34m:\u001b[0m\u001b[0;34m\u001b[0m\u001b[0;34m\u001b[0m\u001b[0m\n\u001b[0;32m--> 889\u001b[0;31m         \u001b[0mresult\u001b[0m \u001b[0;34m=\u001b[0m \u001b[0mself\u001b[0m\u001b[0;34m.\u001b[0m\u001b[0m_call\u001b[0m\u001b[0;34m(\u001b[0m\u001b[0;34m*\u001b[0m\u001b[0margs\u001b[0m\u001b[0;34m,\u001b[0m \u001b[0;34m**\u001b[0m\u001b[0mkwds\u001b[0m\u001b[0;34m)\u001b[0m\u001b[0;34m\u001b[0m\u001b[0;34m\u001b[0m\u001b[0m\n\u001b[0m\u001b[1;32m    890\u001b[0m \u001b[0;34m\u001b[0m\u001b[0m\n\u001b[1;32m    891\u001b[0m       \u001b[0mnew_tracing_count\u001b[0m \u001b[0;34m=\u001b[0m \u001b[0mself\u001b[0m\u001b[0;34m.\u001b[0m\u001b[0mexperimental_get_tracing_count\u001b[0m\u001b[0;34m(\u001b[0m\u001b[0;34m)\u001b[0m\u001b[0;34m\u001b[0m\u001b[0;34m\u001b[0m\u001b[0m\n",
            "\u001b[0;32m/usr/local/lib/python3.7/dist-packages/tensorflow/python/eager/def_function.py\u001b[0m in \u001b[0;36m_call\u001b[0;34m(self, *args, **kwds)\u001b[0m\n\u001b[1;32m    915\u001b[0m       \u001b[0;31m# In this case we have created variables on the first call, so we run the\u001b[0m\u001b[0;34m\u001b[0m\u001b[0;34m\u001b[0m\u001b[0;34m\u001b[0m\u001b[0m\n\u001b[1;32m    916\u001b[0m       \u001b[0;31m# defunned version which is guaranteed to never create variables.\u001b[0m\u001b[0;34m\u001b[0m\u001b[0;34m\u001b[0m\u001b[0;34m\u001b[0m\u001b[0m\n\u001b[0;32m--> 917\u001b[0;31m       \u001b[0;32mreturn\u001b[0m \u001b[0mself\u001b[0m\u001b[0;34m.\u001b[0m\u001b[0m_stateless_fn\u001b[0m\u001b[0;34m(\u001b[0m\u001b[0;34m*\u001b[0m\u001b[0margs\u001b[0m\u001b[0;34m,\u001b[0m \u001b[0;34m**\u001b[0m\u001b[0mkwds\u001b[0m\u001b[0;34m)\u001b[0m  \u001b[0;31m# pylint: disable=not-callable\u001b[0m\u001b[0;34m\u001b[0m\u001b[0;34m\u001b[0m\u001b[0m\n\u001b[0m\u001b[1;32m    918\u001b[0m     \u001b[0;32melif\u001b[0m \u001b[0mself\u001b[0m\u001b[0;34m.\u001b[0m\u001b[0m_stateful_fn\u001b[0m \u001b[0;32mis\u001b[0m \u001b[0;32mnot\u001b[0m \u001b[0;32mNone\u001b[0m\u001b[0;34m:\u001b[0m\u001b[0;34m\u001b[0m\u001b[0;34m\u001b[0m\u001b[0m\n\u001b[1;32m    919\u001b[0m       \u001b[0;31m# Release the lock early so that multiple threads can perform the call\u001b[0m\u001b[0;34m\u001b[0m\u001b[0;34m\u001b[0m\u001b[0;34m\u001b[0m\u001b[0m\n",
            "\u001b[0;31mTypeError\u001b[0m: 'NoneType' object is not callable"
          ]
        }
      ]
    },
    {
      "cell_type": "code",
      "metadata": {
        "colab": {
          "background_save": true,
          "base_uri": "https://localhost:8080/"
        },
        "id": "pht2MTv3y0hy",
        "outputId": "4febfd8e-471b-4811-9654-423018c84be3"
      },
      "source": [
        "epochs = 10\n",
        "\n",
        "for epoch in range(epochs):\n",
        "  # 1 에폭은 모든 데이터에 대한 학습\n",
        "  for images, labels in train_ds:\n",
        "    train_step(images, labels)\n",
        "  \n",
        "  # 테스트 수행\n",
        "  for test_images, test_labels in test_ds:\n",
        "    test_step(test_images, test_labels)\n",
        "\n",
        "  template = \"Epoch {}, Train Loss : {:.3f}, Train Accuracy : {:.3f} /// Test Loss : {:.3f}, Test Accuracy : {:.3f}\"\n",
        "  print(template.format(epoch + 1, train_loss.result(), train_accuracy.result() * 100,\n",
        "                                   test_loss.result(), train_accuracy.result() * 100))"
      ],
      "execution_count": null,
      "outputs": [
        {
          "output_type": "stream",
          "text": [
            "Epoch 1, Train Loss : 0.102, Train Accuracy : 96.863 /// Test Loss : 0.045, Test Accuracy : 96.863\n",
            "Epoch 2, Train Loss : 0.069, Train Accuracy : 97.894 /// Test Loss : 0.041, Test Accuracy : 97.894\n",
            "Epoch 3, Train Loss : 0.054, Train Accuracy : 98.338 /// Test Loss : 0.039, Test Accuracy : 98.338\n",
            "Epoch 4, Train Loss : 0.045, Train Accuracy : 98.615 /// Test Loss : 0.035, Test Accuracy : 98.615\n",
            "Epoch 5, Train Loss : 0.039, Train Accuracy : 98.802 /// Test Loss : 0.034, Test Accuracy : 98.802\n",
            "Epoch 6, Train Loss : 0.034, Train Accuracy : 98.941 /// Test Loss : 0.033, Test Accuracy : 98.941\n",
            "Epoch 7, Train Loss : 0.031, Train Accuracy : 99.043 /// Test Loss : 0.032, Test Accuracy : 99.043\n",
            "Epoch 8, Train Loss : 0.028, Train Accuracy : 99.131 /// Test Loss : 0.032, Test Accuracy : 99.131\n",
            "Epoch 9, Train Loss : 0.026, Train Accuracy : 99.202 /// Test Loss : 0.033, Test Accuracy : 99.202\n",
            "Epoch 10, Train Loss : 0.024, Train Accuracy : 99.258 /// Test Loss : 0.033, Test Accuracy : 99.258\n"
          ],
          "name": "stdout"
        }
      ]
    },
    {
      "cell_type": "markdown",
      "metadata": {
        "id": "r7UWUsIaxCUi"
      },
      "source": [
        "# Functional API 훈련하기"
      ]
    },
    {
      "cell_type": "code",
      "metadata": {
        "colab": {
          "base_uri": "https://localhost:8080/",
          "height": 419
        },
        "id": "eETjXtIgvZNQ",
        "outputId": "d3d9d739-ecef-45ac-86ba-1b49e2b2df8b"
      },
      "source": [
        "epochs = 10\n",
        "\n",
        "for epoch in range(epochs):\n",
        "  # 1 에폭은 모든 데이터에 대한 학습\n",
        "  for images, labels in train_ds:\n",
        "    train_step(images, labels)\n",
        "  \n",
        "  # 테스트 수행\n",
        "  for test_images, test_labels in test_ds:\n",
        "    test_step(test_images, test_labels)\n",
        "\n",
        "  template = \"Epoch {}, Train Loss : {:.3f}, Train Accuracy : {:.3f} /// Test Loss : {:.3f}, Test Accuracy : {:.3f}\"\n",
        "  print(template.format(epoch + 1, train_loss.result(), train_accuracy.result() * 100,\n",
        "                                   test_loss.result(), train_accuracy.result() * 100))"
      ],
      "execution_count": null,
      "outputs": [
        {
          "output_type": "error",
          "ename": "TypeError",
          "evalue": "ignored",
          "traceback": [
            "\u001b[0;31m---------------------------------------------------------------------------\u001b[0m",
            "\u001b[0;31mTypeError\u001b[0m                                 Traceback (most recent call last)",
            "\u001b[0;32m<ipython-input-72-976db15f66ef>\u001b[0m in \u001b[0;36m<module>\u001b[0;34m()\u001b[0m\n\u001b[1;32m      4\u001b[0m   \u001b[0;31m# 1 에폭은 모든 데이터에 대한 학습\u001b[0m\u001b[0;34m\u001b[0m\u001b[0;34m\u001b[0m\u001b[0;34m\u001b[0m\u001b[0m\n\u001b[1;32m      5\u001b[0m   \u001b[0;32mfor\u001b[0m \u001b[0mimages\u001b[0m\u001b[0;34m,\u001b[0m \u001b[0mlabels\u001b[0m \u001b[0;32min\u001b[0m \u001b[0mtrain_ds\u001b[0m\u001b[0;34m:\u001b[0m\u001b[0;34m\u001b[0m\u001b[0;34m\u001b[0m\u001b[0m\n\u001b[0;32m----> 6\u001b[0;31m     \u001b[0mtrain_step\u001b[0m\u001b[0;34m(\u001b[0m\u001b[0mimages\u001b[0m\u001b[0;34m,\u001b[0m \u001b[0mlabels\u001b[0m\u001b[0;34m)\u001b[0m\u001b[0;34m\u001b[0m\u001b[0;34m\u001b[0m\u001b[0m\n\u001b[0m\u001b[1;32m      7\u001b[0m \u001b[0;34m\u001b[0m\u001b[0m\n\u001b[1;32m      8\u001b[0m   \u001b[0;31m# 테스트 수행\u001b[0m\u001b[0;34m\u001b[0m\u001b[0;34m\u001b[0m\u001b[0;34m\u001b[0m\u001b[0m\n",
            "\u001b[0;32m/usr/local/lib/python3.7/dist-packages/tensorflow/python/eager/def_function.py\u001b[0m in \u001b[0;36m__call__\u001b[0;34m(self, *args, **kwds)\u001b[0m\n\u001b[1;32m    887\u001b[0m \u001b[0;34m\u001b[0m\u001b[0m\n\u001b[1;32m    888\u001b[0m       \u001b[0;32mwith\u001b[0m \u001b[0mOptionalXlaContext\u001b[0m\u001b[0;34m(\u001b[0m\u001b[0mself\u001b[0m\u001b[0;34m.\u001b[0m\u001b[0m_jit_compile\u001b[0m\u001b[0;34m)\u001b[0m\u001b[0;34m:\u001b[0m\u001b[0;34m\u001b[0m\u001b[0;34m\u001b[0m\u001b[0m\n\u001b[0;32m--> 889\u001b[0;31m         \u001b[0mresult\u001b[0m \u001b[0;34m=\u001b[0m \u001b[0mself\u001b[0m\u001b[0;34m.\u001b[0m\u001b[0m_call\u001b[0m\u001b[0;34m(\u001b[0m\u001b[0;34m*\u001b[0m\u001b[0margs\u001b[0m\u001b[0;34m,\u001b[0m \u001b[0;34m**\u001b[0m\u001b[0mkwds\u001b[0m\u001b[0;34m)\u001b[0m\u001b[0;34m\u001b[0m\u001b[0;34m\u001b[0m\u001b[0m\n\u001b[0m\u001b[1;32m    890\u001b[0m \u001b[0;34m\u001b[0m\u001b[0m\n\u001b[1;32m    891\u001b[0m       \u001b[0mnew_tracing_count\u001b[0m \u001b[0;34m=\u001b[0m \u001b[0mself\u001b[0m\u001b[0;34m.\u001b[0m\u001b[0mexperimental_get_tracing_count\u001b[0m\u001b[0;34m(\u001b[0m\u001b[0;34m)\u001b[0m\u001b[0;34m\u001b[0m\u001b[0;34m\u001b[0m\u001b[0m\n",
            "\u001b[0;32m/usr/local/lib/python3.7/dist-packages/tensorflow/python/eager/def_function.py\u001b[0m in \u001b[0;36m_call\u001b[0;34m(self, *args, **kwds)\u001b[0m\n\u001b[1;32m    915\u001b[0m       \u001b[0;31m# In this case we have created variables on the first call, so we run the\u001b[0m\u001b[0;34m\u001b[0m\u001b[0;34m\u001b[0m\u001b[0;34m\u001b[0m\u001b[0m\n\u001b[1;32m    916\u001b[0m       \u001b[0;31m# defunned version which is guaranteed to never create variables.\u001b[0m\u001b[0;34m\u001b[0m\u001b[0;34m\u001b[0m\u001b[0;34m\u001b[0m\u001b[0m\n\u001b[0;32m--> 917\u001b[0;31m       \u001b[0;32mreturn\u001b[0m \u001b[0mself\u001b[0m\u001b[0;34m.\u001b[0m\u001b[0m_stateless_fn\u001b[0m\u001b[0;34m(\u001b[0m\u001b[0;34m*\u001b[0m\u001b[0margs\u001b[0m\u001b[0;34m,\u001b[0m \u001b[0;34m**\u001b[0m\u001b[0mkwds\u001b[0m\u001b[0;34m)\u001b[0m  \u001b[0;31m# pylint: disable=not-callable\u001b[0m\u001b[0;34m\u001b[0m\u001b[0;34m\u001b[0m\u001b[0m\n\u001b[0m\u001b[1;32m    918\u001b[0m     \u001b[0;32melif\u001b[0m \u001b[0mself\u001b[0m\u001b[0;34m.\u001b[0m\u001b[0m_stateful_fn\u001b[0m \u001b[0;32mis\u001b[0m \u001b[0;32mnot\u001b[0m \u001b[0;32mNone\u001b[0m\u001b[0;34m:\u001b[0m\u001b[0;34m\u001b[0m\u001b[0;34m\u001b[0m\u001b[0m\n\u001b[1;32m    919\u001b[0m       \u001b[0;31m# Release the lock early so that multiple threads can perform the call\u001b[0m\u001b[0;34m\u001b[0m\u001b[0;34m\u001b[0m\u001b[0;34m\u001b[0m\u001b[0m\n",
            "\u001b[0;31mTypeError\u001b[0m: 'NoneType' object is not callable"
          ]
        }
      ]
    },
    {
      "cell_type": "code",
      "metadata": {
        "id": "pM5Ol_7HvNWH"
      },
      "source": [
        ""
      ],
      "execution_count": null,
      "outputs": []
    }
  ]
}