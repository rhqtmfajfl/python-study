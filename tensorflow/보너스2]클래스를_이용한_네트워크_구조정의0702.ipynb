{
  "nbformat": 4,
  "nbformat_minor": 0,
  "metadata": {
    "colab": {
      "name": "[보너스2]클래스를 이용한 네트워크 구조정의0702.ipynb",
      "provenance": [],
      "authorship_tag": "ABX9TyOpcFDmjKil+qo0UlE8j+89",
      "include_colab_link": true
    },
    "kernelspec": {
      "name": "python3",
      "display_name": "Python 3"
    },
    "language_info": {
      "name": "python"
    }
  },
  "cells": [
    {
      "cell_type": "markdown",
      "metadata": {
        "id": "view-in-github",
        "colab_type": "text"
      },
      "source": [
        "<a href=\"https://colab.research.google.com/github/rhqtmfajfl/python-study/blob/master/tensorflow/%EB%B3%B4%EB%84%88%EC%8A%A42%5D%ED%81%B4%EB%9E%98%EC%8A%A4%EB%A5%BC_%EC%9D%B4%EC%9A%A9%ED%95%9C_%EB%84%A4%ED%8A%B8%EC%9B%8C%ED%81%AC_%EA%B5%AC%EC%A1%B0%EC%A0%95%EC%9D%980702.ipynb\" target=\"_parent\"><img src=\"https://colab.research.google.com/assets/colab-badge.svg\" alt=\"Open In Colab\"/></a>"
      ]
    },
    {
      "cell_type": "markdown",
      "metadata": {
        "id": "iUMgsB_W0CCY"
      },
      "source": [
        "# 사용자 정의 모델링\n",
        "* `tf.keras.Model`클래스를 상속 받아서 모델을 구현할 수 있다.\n",
        "  * 생성자`__init__` 함수에선느 사용할 레이어를 정의합니다.\n",
        "  * `call()` 함수에서는 `__init__` 에서 정의한 레이어를 엮어줍니다."
      ]
    },
    {
      "cell_type": "code",
      "metadata": {
        "id": "cfdqlcIk01xx"
      },
      "source": [
        "import tensorflow as tf\n",
        "\n",
        "class MyModel(tf.keras.Model):\n",
        "\n",
        "  ##__init__에서는 사용할 레이어들을 '정의'만 한다.\n",
        "\n",
        "  def __init__(self):\n",
        "    super(MyModel, self).__init__() # 강제로 부모 클래스의 생성자를 호출해서 부모클래스의 모든 내용을 사용할 수 있도록 함.\n",
        "    \n",
        "    #아주 간단한 FCN 구현하기\n",
        "    self.flatten = tf.keras.layers.Flatten(input_shape=(28,28))\n",
        "    self.d1 = tf.keras.layers.Dense(128, activation='relu')\n",
        "    self.d2 = tf.keras.layers.Dense(10, activation='softmax')\n",
        "# 자동 미분 시스템ㄷ이 자동으로 순서대로 순전파를 실행하준다.\n",
        "  \n",
        "  #call에서는 __init__에서 정의한 레이어를 엮어준다. 결과를 \"반드시\" 리턴해야 한다.\n",
        "  def call(self, x):\n",
        "    x = self.flatten(x)\n",
        "    x = self.d1(x)\n",
        "    out = self.d2(x)\n",
        "\n",
        "    return out"
      ],
      "execution_count": null,
      "outputs": []
    },
    {
      "cell_type": "markdown",
      "metadata": {
        "id": "BP1m-Geb1uFb"
      },
      "source": [
        "#학습루프 정의 하기\n"
      ]
    },
    {
      "cell_type": "code",
      "metadata": {
        "id": "dtFTnrcB3tVI"
      },
      "source": [
        "@tf.function\n",
        "def train_step(model, images, labels, loss_object, optimizer, train_loss, train_accuracy):\n",
        "  '''\n",
        "    model : 학습 대상 모델\n",
        "    images : 학습에 사용할 이미지 텐서\n",
        "    labels : 이미지에 맞는 레이블 텐서\n",
        "    loss_object : 손실함수\n",
        "    optimizer : 최적화 함수\n",
        "    train_loss : 훈련 과정 Loss 평가 지표 설정\n",
        "    train_accuracy : 훈련 과정 accuracy 평가 지표 설정\n",
        "  '''\n",
        "\n",
        "  with tf.GradientTape() as tape:\n",
        "    prediction = model(images) # 모델이 훈련모드 예측을 하게 된다.\n",
        "    loss =  loss_object(labels, prediction)\n",
        "\n",
        "  grads = tape.gradient(loss, model.trainable_variables)\n",
        "\n",
        "  optimizer.apply_gradients(zip(grads, model.trainable_variables))\n",
        "\n",
        "  train_loss(loss)\n",
        "  train_accuracy(labels, prediction)\n",
        "\n",
        "  # 천천히 읽어보면 됨\n"
      ],
      "execution_count": null,
      "outputs": []
    },
    {
      "cell_type": "markdown",
      "metadata": {
        "id": "Hoy_eK7I4mLs"
      },
      "source": [
        "# 테스트 루프 정의하기"
      ]
    },
    {
      "cell_type": "code",
      "metadata": {
        "id": "3yP9g3gG49fn"
      },
      "source": [
        "@tf.function\n",
        "def test_step(model, images, labels, loss_object, test_loss, test_accuarcy):\n",
        "  prediction = model(images)\n",
        "\n",
        "  t_loss = loss_object(labels, prediction)\n",
        "\n",
        "  test_loss(t_loss)\n",
        "  test_accuracy(labels, prediction)"
      ],
      "execution_count": null,
      "outputs": []
    },
    {
      "cell_type": "markdown",
      "metadata": {
        "id": "O_dBYuhX5SA1"
      },
      "source": [
        "# 데이터 세트 로딩 및 전처리"
      ]
    },
    {
      "cell_type": "code",
      "metadata": {
        "id": "DvVem-Bh5fn1"
      },
      "source": [
        "mnist = tf.keras.datasets.mnist\n",
        "\n",
        "# MNIST 데이터세트 불러오기\n",
        "(x_train, y_train), (x_test, y_test) = mnist.load_data()\n",
        "\n",
        "# 픽셀 정규화\n",
        "x_train, x_test = x_train / 255.0, x_test / 255.0\n",
        "\n",
        "# 이미지 채널 차원 추가\n",
        "x_train = x_train[..., tf.newaxis]\n",
        "x_test  = x_test[..., tf.newaxis]\n",
        "\n",
        "# Tensorflow Dataset 만들기\n",
        "train_ds = tf.data.Dataset.from_tensor_slices((x_train, y_train)).shuffle(1024).batch(32)\n",
        "test_ds  = tf.data.Dataset.from_tensor_slices((x_test, y_test)).batch(32)"
      ],
      "execution_count": null,
      "outputs": []
    },
    {
      "cell_type": "markdown",
      "metadata": {
        "id": "kvXgc_Z76NEY"
      },
      "source": [
        "# 모델 생성(네트워크 생성)"
      ]
    },
    {
      "cell_type": "code",
      "metadata": {
        "id": "PeKXbRTZ6bEV"
      },
      "source": [
        "model = MyModel()\n"
      ],
      "execution_count": null,
      "outputs": []
    },
    {
      "cell_type": "markdown",
      "metadata": {
        "id": "B6BzzkdK6i1j"
      },
      "source": [
        "# 손실함수, 최적화 선택하기"
      ]
    },
    {
      "cell_type": "code",
      "metadata": {
        "id": "8kcOZDvv6_Pc"
      },
      "source": [
        "loss_object = tf.keras.losses.SparseCategoricalCrossentropy()\n",
        "optimizer   = tf.keras.optimizers.Adam()"
      ],
      "execution_count": null,
      "outputs": []
    },
    {
      "cell_type": "markdown",
      "metadata": {
        "id": "00opZuBm7Aw3"
      },
      "source": [
        "# 알고리즘 평가지표 설정(performance metrics)\n"
      ]
    },
    {
      "cell_type": "code",
      "metadata": {
        "id": "UAoHrgtF7ED7"
      },
      "source": [
        "train_loss = tf.keras.metrics.Mean(name=\"train_loss\")\n",
        "train_accuracy = tf.keras.metrics.SparseCategoricalAccuracy(name='train_accuracy')\n",
        "\n",
        "test_loss = tf.keras.metrics.Mean(name=\"test_loss\")\n",
        "test_accuracy = tf.keras.metrics.SparseCategoricalAccuracy(name=\"test_accuarcy\")"
      ],
      "execution_count": null,
      "outputs": []
    },
    {
      "cell_type": "markdown",
      "metadata": {
        "id": "I0JW99--7LGc"
      },
      "source": [
        "# 학습 진행하기"
      ]
    },
    {
      "cell_type": "code",
      "metadata": {
        "colab": {
          "base_uri": "https://localhost:8080/"
        },
        "id": "5W1z0C557VvY",
        "outputId": "a89119dc-4b46-4fc3-c5fc-00e16a3eeb13"
      },
      "source": [
        "EPOCHS = 10\n",
        "\n",
        "for epoch in range(EPOCHS):\n",
        "  \n",
        "  #훈련\n",
        "  for images, labels in train_ds:\n",
        "    train_step(model, images, labels, loss_object, optimizer, train_loss, train_accuracy)\n",
        "  \n",
        "  # 테스트\n",
        "  for test_images, test_labels in test_ds:\n",
        "    test_step(model, images, labels, loss_object, test_loss, test_accuracy)\n",
        "\n",
        "  template = \"Epoch {}, Train Loss : {:.3f}, Train Accuracy : {:.3f} 😀 Test Loss : {:.3f}, Test Accuracy : {:.3f}\"\n",
        "  print(template.format(epoch + 1,\n",
        "                        train_loss.result(),\n",
        "                        train_accuracy.result() * 100,\n",
        "                        test_loss.result(),\n",
        "                        test_accuracy.result() * 100))\n"
      ],
      "execution_count": null,
      "outputs": [
        {
          "output_type": "stream",
          "text": [
            "Epoch 1, Train Loss : 0.254, Train Accuracy : 92.660 😀 Test Loss : 0.012, Test Accuracy : 100.000\n",
            "Epoch 2, Train Loss : 0.183, Train Accuracy : 94.651 😀 Test Loss : 0.066, Test Accuracy : 98.438\n",
            "Epoch 3, Train Loss : 0.148, Train Accuracy : 95.680 😀 Test Loss : 0.229, Test Accuracy : 96.875\n",
            "Epoch 4, Train Loss : 0.125, Train Accuracy : 96.327 😀 Test Loss : 0.172, Test Accuracy : 97.656\n",
            "Epoch 5, Train Loss : 0.109, Train Accuracy : 96.799 😀 Test Loss : 0.144, Test Accuracy : 98.125\n",
            "Epoch 6, Train Loss : 0.096, Train Accuracy : 97.161 😀 Test Loss : 0.120, Test Accuracy : 98.438\n",
            "Epoch 7, Train Loss : 0.087, Train Accuracy : 97.450 😀 Test Loss : 0.103, Test Accuracy : 98.661\n",
            "Epoch 8, Train Loss : 0.079, Train Accuracy : 97.692 😀 Test Loss : 0.093, Test Accuracy : 98.828\n",
            "Epoch 9, Train Loss : 0.072, Train Accuracy : 97.883 😀 Test Loss : 0.083, Test Accuracy : 98.958\n",
            "Epoch 10, Train Loss : 0.066, Train Accuracy : 98.052 😀 Test Loss : 0.075, Test Accuracy : 99.062\n"
          ],
          "name": "stdout"
        }
      ]
    },
    {
      "cell_type": "code",
      "metadata": {
        "id": "Vz20KpoS8DZ9"
      },
      "source": [
        ""
      ],
      "execution_count": null,
      "outputs": []
    }
  ]
}